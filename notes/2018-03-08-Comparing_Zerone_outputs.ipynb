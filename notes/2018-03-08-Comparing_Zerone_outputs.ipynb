{
 "cells": [
  {
   "cell_type": "code",
   "execution_count": null,
   "metadata": {},
   "outputs": [],
   "source": [
    "%matplotlib inline\n",
    "%load_ext autoreload\n",
    "%autoreload 2"
   ]
  },
  {
   "cell_type": "code",
   "execution_count": null,
   "metadata": {},
   "outputs": [],
   "source": [
    "import numpy as np\n",
    "import matplotlib.pyplot as plt\n",
    "import mybiotools as mbt\n",
    "import os\n",
    "import pr_peaks\n",
    "from matplotlib_venn import venn2, venn2_circles, venn3, venn3_circles"
   ]
  },
  {
   "cell_type": "markdown",
   "metadata": {},
   "source": [
    "# 2018-03-08 Comparing Zerone outputs\n",
    "Here I want to see what happens if I compare the outputs of Zerone, when they are given the same ChIP-seq data to process, but with different inputs.\n",
    "\n",
    "There are three input files:\n",
    "\n",
    "- `T0_roberto_input`: is the one that François told me to use\n",
    "- `T0_total_input`: is the one that Roberto uses for the T0 condition\n",
    "- `R1h_total_input`: is the one that Roberto uses for the R1h condition (one hour after hormone stimulation)\n",
    "\n",
    "In the ChIP-seq experiments of Guille, the data is collected at 30 minutes after hormone stimulation, so in principle it is not super-clear which input should be used.\n",
    "\n",
    "Let's start by loading the Zerone outputs of the `high` experiment, using the three different input files."
   ]
  },
  {
   "cell_type": "code",
   "execution_count": null,
   "metadata": {},
   "outputs": [],
   "source": [
    "# prepare the list of chromosomes\n",
    "chromosomes = ['chr%d'%i for i in xrange(1,23)]\n",
    "chromosomes.append('chrX')\n",
    "chromosomes = tuple(chromosomes)"
   ]
  },
  {
   "cell_type": "code",
   "execution_count": null,
   "metadata": {},
   "outputs": [],
   "source": [
    "# load the ChIP-seq data\n",
    "conditions = [\n",
    "    pr_peaks.Condition('high'   ,'all_treated',0.05,'gv_107_01_01_chipseq'),\n",
    "    pr_peaks.Condition('medium1','4HCP'       ,0.10,'gv_108_01_01_chipseq'),\n",
    "    pr_peaks.Condition('medium2','3HCP'       ,0.50,'gv_109_01_01_chipseq'),\n",
    "    pr_peaks.Condition('medium3','3HCP'       ,1.00,'gv_110_01_01_chipseq'),\n",
    "    pr_peaks.Condition('low'    ,'1HCP'       ,10.0,'gv_111_01_01_chipseq')\n",
    "]"
   ]
  },
  {
   "cell_type": "code",
   "execution_count": null,
   "metadata": {},
   "outputs": [],
   "source": [
    "# general variables\n",
    "pr_peaks_root_dir = '%s/work/CRG/projects/pr_peaks'%(os.getenv('HOME'))\n",
    "data_dir = '%s/data'%(pr_peaks_root_dir)\n",
    "in_bams = ['T0_roberto_input','T0_total_input','R1h_total_input']"
   ]
  },
  {
   "cell_type": "code",
   "execution_count": null,
   "metadata": {},
   "outputs": [],
   "source": [
    "# parse the Zerone output files for all the conditions and all the inputs\n",
    "for condition in conditions :\n",
    "    condition.zerone = {}\n",
    "    for in_bam in in_bams :\n",
    "        mbt.log_message('parse_zerone_output','Parsing %s/%s'%(condition.name,in_bam))\n",
    "        zerone_out = '%s/%s/%s-zerone.out'%(data_dir,in_bam,condition.name)\n",
    "        condition.zerone[in_bam] = mbt.parse_zerone_output(zerone_out,chromosome_list=chromosomes)"
   ]
  },
  {
   "cell_type": "markdown",
   "metadata": {},
   "source": [
    "I can do a simple thing: calculate the correlation between the various samples. Let's start with the controls: I can choose any of the conditions, because the control values are the same."
   ]
  },
  {
   "cell_type": "code",
   "execution_count": null,
   "metadata": {},
   "outputs": [],
   "source": [
    "n_in_bam = len(in_bams)\n",
    "controls_corrmat = np.zeros((n_in_bam,n_in_bam))\n",
    "high = conditions[0]\n",
    "for i,in_bam_1 in enumerate(in_bams) :\n",
    "    for j,in_bam_2 in enumerate(in_bams) :\n",
    "        controls_corrmat[i,j] = np.corrcoef(high.zerone[in_bam_1][0]['read_1'],\n",
    "                                            high.zerone[in_bam_2][0]['read_1'])[0,1]"
   ]
  },
  {
   "cell_type": "code",
   "execution_count": null,
   "metadata": {},
   "outputs": [],
   "source": [
    "# plot the correlation matrix\n",
    "cax = plt.matshow(controls_corrmat)\n",
    "plt.colorbar(cax)\n",
    "plt.show()"
   ]
  },
  {
   "cell_type": "markdown",
   "metadata": {},
   "source": [
    "So the controls are very correlated between each other. Let's have a look at the values of the p values of the various Zerone outputs, for each condition."
   ]
  },
  {
   "cell_type": "code",
   "execution_count": null,
   "metadata": {},
   "outputs": [],
   "source": [
    "for condition in conditions :\n",
    "    condition.zerone_corrmat = np.zeros((n_in_bam,n_in_bam))\n",
    "    for i,in_bam_1 in enumerate(in_bams) :\n",
    "        for j,in_bam_2 in enumerate(in_bams) :\n",
    "            condition.zerone_corrmat[i,j] = np.corrcoef(condition.zerone[in_bam_1][0]['p'],\n",
    "                                                        condition.zerone[in_bam_2][0]['p'])[0,1]"
   ]
  },
  {
   "cell_type": "code",
   "execution_count": null,
   "metadata": {},
   "outputs": [],
   "source": [
    "for condition in conditions :\n",
    "    fig = plt.figure()\n",
    "    cax = plt.matshow(condition.zerone_corrmat)\n",
    "    plt.colorbar(cax)\n",
    "    plt.title(condition.name)\n",
    "    plt.show()"
   ]
  },
  {
   "cell_type": "markdown",
   "metadata": {},
   "source": [
    "Let's also have a visual look at a particular region of one of the controls."
   ]
  },
  {
   "cell_type": "code",
   "execution_count": null,
   "metadata": {},
   "outputs": [],
   "source": [
    "x1 = 10000\n",
    "x2 = 11000\n",
    "x = np.arange(x1,x2)\n",
    "for in_bam in in_bams :\n",
    "    plt.plot(x,conditions[0].zerone[in_bam][0]['read_1'][x1:x2],label=in_bam)\n",
    "plt.legend()\n",
    "plt.show()"
   ]
  },
  {
   "cell_type": "markdown",
   "metadata": {},
   "source": [
    "This is further evidence that the number of reads in the controls is not dramatically different between the various \"input\" samples. Also, the difference between the control condition at T0 and at R1h is not spectacular.\n",
    "\n",
    "Now let's see whether using the different controls there are any major differences between the peak calling. I'll do this by making a table that is structured as follows: the rows correspond to each peak in a given condition, and the columns represent whether Zerone called that a peak or not, in the three different input conditions."
   ]
  },
  {
   "cell_type": "code",
   "execution_count": null,
   "metadata": {},
   "outputs": [],
   "source": [
    "for condition in conditions :\n",
    "    npeaks = condition.peaks.size\n",
    "    condition.peak_table = np.zeros((npeaks,n_in_bam),dtype=bool)\n",
    "    for i,peak in enumerate(condition.peaks):\n",
    "        for j,in_bam in enumerate(in_bams) :\n",
    "            p = mbt.find_zerone_peak(condition.zerone[in_bam][0],\n",
    "                                     condition.zerone[in_bam][1],\n",
    "                                     peak)\n",
    "            if not (p['enrichment']==0).all() :\n",
    "                condition.peak_table[i,j] = True"
   ]
  },
  {
   "cell_type": "code",
   "execution_count": null,
   "metadata": {},
   "outputs": [],
   "source": [
    "for condition in conditions :\n",
    "    set1 = set(np.where(condition.peak_table[:,0])[0].tolist())\n",
    "    set2 = set(np.where(condition.peak_table[:,1])[0].tolist())\n",
    "    set3 = set(np.where(condition.peak_table[:,2])[0].tolist())\n",
    "    fig = plt.figure()\n",
    "    venn3([set1,set2,set3],(in_bams[0],in_bams[1],in_bams[2]))\n",
    "    plt.title(condition.name)\n",
    "    plt.show()"
   ]
  },
  {
   "cell_type": "markdown",
   "metadata": {},
   "source": [
    "Okay so this shows that the peaks called by Zerone are not that different from the ones called by Xavi, and the three different inputs do not give very different results."
   ]
  }
 ],
 "metadata": {
  "kernelspec": {
   "display_name": "Python 2",
   "language": "python",
   "name": "python2"
  },
  "language_info": {
   "codemirror_mode": {
    "name": "ipython",
    "version": 2
   },
   "file_extension": ".py",
   "mimetype": "text/x-python",
   "name": "python",
   "nbconvert_exporter": "python",
   "pygments_lexer": "ipython2"
  }
 },
 "nbformat": 4,
 "nbformat_minor": 2
}
