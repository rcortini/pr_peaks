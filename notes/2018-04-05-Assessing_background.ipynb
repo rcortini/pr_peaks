{
 "cells": [
  {
   "cell_type": "code",
   "execution_count": null,
   "metadata": {},
   "outputs": [],
   "source": [
    "%matplotlib inline\n",
    "%load_ext autoreload\n",
    "%autoreload 2"
   ]
  },
  {
   "cell_type": "code",
   "execution_count": null,
   "metadata": {},
   "outputs": [],
   "source": [
    "import numpy as np\n",
    "import matplotlib.pyplot as plt\n",
    "import mybiotools as mbt\n",
    "import os\n",
    "import pr_peaks"
   ]
  },
  {
   "cell_type": "code",
   "execution_count": null,
   "metadata": {},
   "outputs": [],
   "source": [
    "# load the ChIP-seq data\n",
    "conditions = [\n",
    "    pr_peaks.Condition('high'   ,'all_treated',0.05,'gv_107_01_01_chipseq'),\n",
    "    pr_peaks.Condition('medium1','4HCP'       ,0.10,'gv_108_01_01_chipseq'),\n",
    "    pr_peaks.Condition('medium2','3HCP'       ,0.50,'gv_109_01_01_chipseq'),\n",
    "    pr_peaks.Condition('medium3','3HCP'       ,1.00,'gv_110_01_01_chipseq'),\n",
    "    pr_peaks.Condition('low'    ,'1HCP'       ,10.0,'gv_111_01_01_chipseq')\n",
    "]"
   ]
  },
  {
   "cell_type": "code",
   "execution_count": null,
   "metadata": {},
   "outputs": [],
   "source": [
    "# prepare the list of chromosomes\n",
    "chromosomes = ['chr%d'%i for i in xrange(1,23)]\n",
    "chromosomes.append('chrX')\n",
    "chromosomes = tuple(chromosomes)"
   ]
  },
  {
   "cell_type": "markdown",
   "metadata": {},
   "source": [
    "# 2018-04-05 Assessing background\n",
    "\n",
    "The objective of this study is to assess whether there are significant differences between the background signal in the H peaks versus the L peaks. If there is, then the analysis of the differences between them becomes complicated. If everything is distributed in a nice way, then I won't worry too much about it, and consider that the h-enhancement effect is robust against removing the background.\n",
    "\n",
    "After discussing with Guillaume, we thought that the most sensible way of doing this analysis, at least as a first step, is to look at how the values of the ChIP reads versus the input reads are distributed on a 2D plot. If everything aligns nicely on a straight line, then there is no need do do complicated analyses, and we are good to go.\n",
    "\n",
    "I'll use the Zerone output to do the analysis, so that I won't have to worry again about extracting the number of reads corresponding to a given peak from a given input data file.\n",
    "\n",
    "First thing: parse the Zerone output."
   ]
  },
  {
   "cell_type": "code",
   "execution_count": null,
   "metadata": {},
   "outputs": [],
   "source": [
    "# general variables\n",
    "pr_peaks_root_dir = '%s/work/CRG/projects/pr_peaks'%(os.getenv('HOME'))\n",
    "data_dir = '%s/data'%(pr_peaks_root_dir)\n",
    "# from the previous analysis I saw that there are no significant differences between\n",
    "# the results of the analysis from the various input data. So I focus only on one.\n",
    "in_bam = 'T0_total_input'\n",
    "# parse the Zerone output files for all the conditions and all the inputs\n",
    "for condition in conditions :\n",
    "    mbt.log_message('parse_zerone_output','Parsing %s/%s'%(condition.name,in_bam))\n",
    "    zerone_out = '%s/%s/%s-zerone.out'%(data_dir,in_bam,condition.name)\n",
    "    condition.zerone = mbt.parse_zerone_output(zerone_out,chromosome_list=chromosomes)"
   ]
  },
  {
   "cell_type": "markdown",
   "metadata": {},
   "source": [
    "Next, I'll prepare a table that will contain the data that I want to analyse. There will be as many tables as the number of conditions that I have. Each table will contain a number of rows corresponding to the number of peaks associated to that particular conditions (example: 'high' condition will contain 788 rows). The first column of the table will contain the number of reads corresponding to the *input* DNA in the region corresponding to the peak. The rest of the columns will contain the number of reads in the *ChIP* experiments."
   ]
  },
  {
   "cell_type": "code",
   "execution_count": null,
   "metadata": {},
   "outputs": [],
   "source": [
    "peaktable = {}\n",
    "for condition in conditions :\n",
    "    # init the peak table\n",
    "    peaktable[condition.name] = np.zeros((len(condition.peaks),1+len(conditions)))\n",
    "    # fill the peak table\n",
    "    for i,peak in enumerate(condition.peaks) :\n",
    "        for j,chip in enumerate(conditions) :\n",
    "            zpeak = mbt.find_zerone_peak(chip.zerone[0],chip.zerone[1],peak)\n",
    "            # calculate the number of control reads only for the first experiment:\n",
    "            # they are the same for all the experiments\n",
    "            if j==0 :\n",
    "                ctrl_reads = sum([r['read_1'] for r in zpeak])\n",
    "                peaksize = float(zpeak[-1]['end']-zpeak[0]['start'])\n",
    "                peaktable[condition.name][i,0] = ctrl_reads/peaksize\n",
    "            chip_reads = sum([r['read_2'] for r in zpeak])\n",
    "            peaktable[condition.name][i,j+1] = chip_reads/peaksize"
   ]
  },
  {
   "cell_type": "code",
   "execution_count": null,
   "metadata": {},
   "outputs": [],
   "source": [
    "colors = ['xkcd:blue',\n",
    "          'xkcd:purple',\n",
    "          'xkcd:black',\n",
    "          'xkcd:pink',\n",
    "          'xkcd:orange']\n",
    "x = np.arange(0,0.5,0.1)\n",
    "y = x.copy()\n",
    "for j,chip in enumerate(conditions) :\n",
    "    fig = plt.figure(figsize=(7,7))\n",
    "    for i,condition in enumerate(conditions) :\n",
    "        plt.scatter(peaktable[condition.name][:,0],peaktable[condition.name][:,j+1],\n",
    "                        color=colors[i],label=condition.name)\n",
    "        plt.plot(x,y,'k--',linewidth=0.75)\n",
    "    plt.xlabel('Number of reads/bp in Input')\n",
    "    plt.ylabel('Number of reads/bp in ChIP')\n",
    "    plt.legend(loc='upper right')\n",
    "    plt.title('%s nM Progesterone'%chip.concentration,fontsize=32)\n",
    "    plt.show()"
   ]
  },
  {
   "cell_type": "markdown",
   "metadata": {},
   "source": [
    "These figures are interesting because we see that the more hormone is added to the system, the more ChIP reads over input reads are produced. The 'low' peaks, for example, have a trend of being constantly under the dashed line (number of ChIP reads equal number of input reads) until the maximum progesterone concentration is reached.\n",
    "\n",
    "One thing that I can do now is to calculate the slope of these curves, and compare the number across conditions and experiments."
   ]
  },
  {
   "cell_type": "code",
   "execution_count": null,
   "metadata": {},
   "outputs": [],
   "source": [
    "names = [condition.name for condition in conditions]\n",
    "concentrations = [condition.concentration for condition in conditions]\n",
    "slopetable = np.zeros((len(conditions),len(conditions)))\n",
    "for i,name in enumerate(names) :\n",
    "    for j in xrange(1,len(conditions)+1) :\n",
    "        ctrl_reads = peaktable[name][:,0]\n",
    "        chip_reads = peaktable[name][:,j]\n",
    "        slopetable[i,j-1] = mbt.linear_fit(ctrl_reads,chip_reads)[1]"
   ]
  },
  {
   "cell_type": "code",
   "execution_count": null,
   "metadata": {},
   "outputs": [],
   "source": [
    "fig = plt.figure(figsize=(8,6))\n",
    "for i in xrange(len(conditions)) :\n",
    "    plt.loglog(concentrations,slopetable[i,:],'o--',label=conditions[i].name)\n",
    "plt.legend(loc='upper left')\n",
    "plt.xlabel('Concentration [nM]')\n",
    "plt.ylabel('ChIP reads/bp per input reads/bp')\n",
    "plt.show()"
   ]
  },
  {
   "cell_type": "markdown",
   "metadata": {},
   "source": [
    "Let's save this data for future reference."
   ]
  },
  {
   "cell_type": "code",
   "execution_count": null,
   "metadata": {},
   "outputs": [],
   "source": [
    "for condition in conditions :\n",
    "    np.save('%s/%s-read_counts.npy'%(data_dir,condition.name),peaktable[condition.name])\n",
    "np.save('%s/slope_table.npy'%data_dir,slopetable)"
   ]
  }
 ],
 "metadata": {
  "kernelspec": {
   "display_name": "Python 2",
   "language": "python",
   "name": "python2"
  },
  "language_info": {
   "codemirror_mode": {
    "name": "ipython",
    "version": 2
   },
   "file_extension": ".py",
   "mimetype": "text/x-python",
   "name": "python",
   "nbconvert_exporter": "python",
   "pygments_lexer": "ipython2"
  }
 },
 "nbformat": 4,
 "nbformat_minor": 2
}
