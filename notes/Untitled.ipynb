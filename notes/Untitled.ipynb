{
 "cells": [
  {
   "cell_type": "code",
   "execution_count": null,
   "metadata": {},
   "outputs": [],
   "source": [
    "%matplotlib inline\n",
    "%load_ext autoreload\n",
    "%autoreload 2"
   ]
  },
  {
   "cell_type": "code",
   "execution_count": null,
   "metadata": {},
   "outputs": [],
   "source": [
    "import numpy as np\n",
    "import matplotlib.pyplot as plt\n",
    "import pr_peaks as pp"
   ]
  },
  {
   "cell_type": "code",
   "execution_count": null,
   "metadata": {},
   "outputs": [],
   "source": [
    "def make_zerone_output_index(a,chromosome_list=None) :\n",
    "    # if the chromosome names are not given, get them\n",
    "    if chromosome_list is None :\n",
    "        chromosome_list = np.unique(a['chr'])\n",
    "    # init the dictionary and init the iteration\n",
    "    c_idx = {}\n",
    "    c_start = 0\n",
    "    prev_c = a[0]['chr']\n",
    "    # we don't sort the input array: Zerone already does this by default\n",
    "    for i,b in enumerate(a) :\n",
    "        this_c = b['chr']\n",
    "        if this_c != prev_c :\n",
    "            c_end = i-1\n",
    "            c_idx[prev_c] = (c_start,c_end)\n",
    "            c_start = i\n",
    "            prev_c = this_c\n",
    "    # the last chromosome needs to be manually added\n",
    "    c_idx[this_c] = (c_start,i)\n",
    "    return c_idx\n",
    "\n",
    "def parse_zerone_output(fname,chromosome_list=None) :\n",
    "    \"\"\"\n",
    "    Parses a Zerone output and returns a numpy array. The values of the numpy array\n",
    "    are: chromosome, start, end, enrichment, read_1, read_2, ..., read_n, p.\n",
    "    The number of `read_i` columns depends on the invocation of Zerone and cannot\n",
    "    be known beforehand.\n",
    "    \"\"\"\n",
    "    # first, we start by reading the first non-comment line in the Zerone file, to\n",
    "    # determine the number of `read` columns in the file\n",
    "    with open(fname,'r') as f :\n",
    "        for line in f :\n",
    "            if not line.startswith('#') :\n",
    "                break\n",
    "    n_readcols = len(line.split())-6\n",
    "    zerone_dtype = [('chr','S256'),\n",
    "                    ('start',np.int64),\n",
    "                    ('end',np.int64),\n",
    "                    ('enrichment',np.int32),\n",
    "                    ('control',np.int64)]\n",
    "    for i in range(n_readcols) :\n",
    "        zerone_dtype.append(('read_%d'%(i),np.int64))\n",
    "    zerone_dtype.append(('p',float))\n",
    "    # now we parse the file using the `genfromtxt` function from numpy\n",
    "    a = np.genfromtxt(fname,dtype=np.dtype(zerone_dtype))\n",
    "    # next, we exclude the values of the array that pertain to chromosomes that are not\n",
    "    # included in the chromosome list that was passed by the user (if any)\n",
    "    if chromosome_list is not None :\n",
    "        a = np.array([s for s in a if s['chr'] in chromosome_list])\n",
    "\n",
    "    # now pass the array to the index maker, and return the array along with the index\n",
    "    c_idx = make_zerone_output_index(a,chromosome_list)\n",
    "    return a,c_idx\n",
    "\n",
    "def find_zerone_peak(a,c_idx,chromosome, start, end,bin_size=300) :\n",
    "    \"\"\"\n",
    "    Returns the values of the `a` array corresponding to the genomic coordinates\n",
    "    of the `peak`. Uses the `c_idx` dictionary to rapidly calculate which are the indices\n",
    "    of the `a` array that correspond to the peak\n",
    "    \"\"\"\n",
    "    c_start,c_end = c_idx[chromosome]\n",
    "    peak_idx_start = start//bin_size\n",
    "    peak_idx_end = end//bin_size\n",
    "    if peak_idx_start == peak_idx_end :\n",
    "        return [a[c_start+peak_idx_start]]\n",
    "    else :\n",
    "        return a[c_start+peak_idx_start:c_start+peak_idx_end+1]"
   ]
  },
  {
   "cell_type": "code",
   "execution_count": null,
   "metadata": {},
   "outputs": [],
   "source": [
    "zerone_fname = '/home/rcortini/work/CRG/projects/pr_peaks/data/chipseq/samples/test/zerone.out'\n",
    "a, c_idx = parse_zerone_output(zerone_fname)"
   ]
  },
  {
   "cell_type": "code",
   "execution_count": null,
   "metadata": {},
   "outputs": [],
   "source": [
    "high       = pp.Condition('high'  ,'all_treated',0.05,'gv_107_01_01_chipseq')"
   ]
  },
  {
   "cell_type": "code",
   "execution_count": null,
   "metadata": {},
   "outputs": [],
   "source": [
    "for peak in high.peaks :\n",
    "    chromosome, start, end = peak\n",
    "    if find_zerone_peak(a, c_idx, chromosome, start, end)['enrichment'].sum() != 0 :\n",
    "        print(peak)"
   ]
  },
  {
   "cell_type": "markdown",
   "metadata": {},
   "source": [
    "Silence.\n",
    "\n",
    "But the question is: is there any region at all where there is enrichment? I.e. are there any peaks?"
   ]
  },
  {
   "cell_type": "code",
   "execution_count": null,
   "metadata": {},
   "outputs": [],
   "source": [
    "a"
   ]
  },
  {
   "cell_type": "code",
   "execution_count": null,
   "metadata": {},
   "outputs": [],
   "source": [
    "chromosome = b'chr8'\n",
    "start = 1000000\n",
    "end = 145000000\n",
    "z_chromosome = find_zerone_peak(a, c_idx, chromosome, start, end)"
   ]
  },
  {
   "cell_type": "code",
   "execution_count": null,
   "metadata": {},
   "outputs": [],
   "source": [
    "n = 0\n",
    "for region in z_chromosome :\n",
    "    if region['enrichment'] != 0 :\n",
    "        print(region)"
   ]
  }
 ],
 "metadata": {
  "kernelspec": {
   "display_name": "Python 3",
   "language": "python",
   "name": "python3"
  },
  "language_info": {
   "codemirror_mode": {
    "name": "ipython",
    "version": 3
   },
   "file_extension": ".py",
   "mimetype": "text/x-python",
   "name": "python",
   "nbconvert_exporter": "python",
   "pygments_lexer": "ipython3"
  }
 },
 "nbformat": 4,
 "nbformat_minor": 2
}
