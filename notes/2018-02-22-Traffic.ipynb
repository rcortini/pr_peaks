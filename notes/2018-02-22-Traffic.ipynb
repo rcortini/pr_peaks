{
 "cells": [
  {
   "cell_type": "code",
   "execution_count": null,
   "metadata": {},
   "outputs": [],
   "source": [
    "%matplotlib inline\n",
    "%load_ext autoreload\n",
    "%autoreload 2"
   ]
  },
  {
   "cell_type": "code",
   "execution_count": null,
   "metadata": {},
   "outputs": [],
   "source": [
    "import numpy as np\n",
    "import matplotlib.pyplot as plt\n",
    "import mybiotools as mbt\n",
    "import pr_peaks"
   ]
  },
  {
   "cell_type": "markdown",
   "metadata": {},
   "source": [
    "# 2018-02-22 Traffic\n",
    "In the chair model there is a quantity that I haven't explored so far, which is the traffic in- and out-going from/to the chairs. In the flat transition matrix model, there should not be any difference (normalized to the tau of the chair) between the number of out-going and in-going events. However, in the non-uniform transition matrix model, I expect that there will be some interesting features going on."
   ]
  },
  {
   "cell_type": "code",
   "execution_count": null,
   "metadata": {},
   "outputs": [],
   "source": [
    "# prepare site_taus\n",
    "n = 100\n",
    "nH = 10\n",
    "np.random.seed(6589)\n",
    "# Hsites and Lsites\n",
    "Hsites = np.random.choice(n,size=nH,replace=False)\n",
    "Lsites = range(n)\n",
    "for site in Hsites :\n",
    "    Lsites.remove(site)\n",
    "site_taus = 2.0*np.ones(n)\n",
    "site_taus[Hsites] = 20.0\n",
    "# plot\n",
    "fig = plt.figure(figsize=(10,3))\n",
    "ax = plt.subplot(111)\n",
    "mbt.line_plot(ax,np.arange(n),site_taus)\n",
    "plt.show()"
   ]
  },
  {
   "cell_type": "code",
   "execution_count": null,
   "metadata": {},
   "outputs": [],
   "source": [
    "# do the simulations\n",
    "N = 100\n",
    "nsteps = 1000\n",
    "Tflat = np.ones((n,n))/n\n",
    "flat = pr_peaks.JumpingModel(Tflat,site_taus)\n",
    "mus = range(1,10)\n",
    "for mu in mus :\n",
    "    mbt.log_message('Flat','mu = %d'%(mu))\n",
    "    omega_t_initial = pr_peaks.init_omega_t(N,n,mu)\n",
    "    flat.run(nsteps,mu,sigma=None,omega_t_initial=omega_t_initial)\n",
    "pr_peaks.H_to_L(flat,Hsites,Lsites)"
   ]
  },
  {
   "cell_type": "code",
   "execution_count": null,
   "metadata": {},
   "outputs": [],
   "source": [
    "THL = np.ones((n,n))\n",
    "for Hsite in Hsites :\n",
    "    for Lsite in Lsites :\n",
    "        THL[Hsite,Lsite] += 1\n",
    "        THL[Lsite,Hsite] += 1\n",
    "THL = mbt.row_normalize_matrix(THL)\n",
    "HL = pr_peaks.JumpingModel(THL,site_taus)\n",
    "for mu in mus :\n",
    "    mbt.log_message('HL','mu = %d'%(mu))\n",
    "    omega_t_initial = pr_peaks.init_omega_t(N,n,mu)\n",
    "    HL.run(nsteps,mu,sigma=None,omega_t_initial=omega_t_initial)\n",
    "pr_peaks.H_to_L(HL,Hsites,Lsites)"
   ]
  },
  {
   "cell_type": "code",
   "execution_count": null,
   "metadata": {},
   "outputs": [],
   "source": [
    "plt.plot(mus,flat.H_to_L,'r')\n",
    "plt.plot(mus,HL.H_to_L,'b')\n",
    "plt.xlabel(r'$\\mu$')\n",
    "plt.ylabel('H to L ratio')\n",
    "plt.axhline(y=1.0,linestyle='--',color='k')\n",
    "plt.show()"
   ]
  },
  {
   "cell_type": "markdown",
   "metadata": {},
   "source": [
    "Okay this result is the familiar ambiguous one: in some cases I obtained a maximum h-enhancement for intermediate values of $\\mu$, in others I didn't. But now let's look at the traffic."
   ]
  },
  {
   "cell_type": "code",
   "execution_count": null,
   "metadata": {},
   "outputs": [],
   "source": [
    "mu = 5\n",
    "fig = plt.figure(figsize=(10,13))\n",
    "gs = plt.GridSpec(2,1,hspace=0,height_ratios=[10,3])\n",
    "ax = plt.subplot(gs[0,0])\n",
    "ax.matshow(flat.J[mu])\n",
    "ax = plt.subplot(gs[1,0],sharex=ax)\n",
    "y = flat.J[mu].sum(axis=1)\n",
    "mbt.line_plot(ax,Hsites,y[Hsites],color='r')\n",
    "mbt.line_plot(ax,Lsites,y[Lsites],color='b')\n",
    "ax.set_ylim(min(y)-100,max(y)+100)\n",
    "plt.show()"
   ]
  },
  {
   "cell_type": "markdown",
   "metadata": {},
   "source": [
    "I want to verify that some identities concerning the jump matrix are verified numerically."
   ]
  },
  {
   "cell_type": "code",
   "execution_count": null,
   "metadata": {},
   "outputs": [],
   "source": [
    "mu = 1\n",
    "x = np.arange(n)\n",
    "j_out = flat.J[mu].sum(axis=1)\n",
    "j_out_theory = nsteps * flat.occupancy[mu]/site_taus\n",
    "fig = plt.figure(figsize=(10,4))\n",
    "ax = plt.subplot(211)\n",
    "mbt.line_plot(ax,Lsites,j_out[Lsites],color='b')\n",
    "mbt.line_plot(ax,Hsites,j_out[Hsites],color='r')\n",
    "delta = j_out.max()-j_out.min()\n",
    "ax.set_ylim(j_out.min()-delta/10.,j_out.max()+delta/10.)\n",
    "ax = plt.subplot(212)\n",
    "mbt.line_plot(ax,x,j_out_theory,color='r')"
   ]
  },
  {
   "cell_type": "markdown",
   "metadata": {},
   "source": [
    "This analysis showed me that it is very important to obtain good statistics from the simulations, otherwise all the simulation results will be ambiguous. I should consider rewriting the simulation code to simulate a system composed of only one system, but performing time averages. To have an idea of how many time points I need to take, I should evaluate the autocorrelation of the configurations of the system.\n",
    "\n",
    "## Rewriting simulation code\n",
    "\n",
    "First, let's rewrite the simulation main loop, taking into account that the system is now one.\n",
    "\n",
    "**NOTE**: the above code won't work anymore! To make it work, revert to commit\n",
    "\n",
    "3ec9d25bce3b693\n",
    "\n",
    "in pr_peaks"
   ]
  },
  {
   "cell_type": "code",
   "execution_count": null,
   "metadata": {},
   "outputs": [],
   "source": [
    "# do the simulations with the new code implemented\n",
    "n = 100\n",
    "nsteps = 100000\n",
    "Tflat = np.ones((n,n))/n\n",
    "flat = pr_peaks.JumpingModel(Tflat,site_taus)\n",
    "mu = 1\n",
    "mbt.log_message('Flat','Start')\n",
    "omega_t_initial = pr_peaks.init_omega_t(n,mu)\n",
    "flat.run(nsteps,mu,None,omega_t_initial,teq=1000,tsample=10)\n",
    "mbt.log_message('Flat','End')"
   ]
  },
  {
   "cell_type": "markdown",
   "metadata": {},
   "source": [
    "Now that we have the new code up and running, I can do the autocorrelation analysis."
   ]
  },
  {
   "cell_type": "code",
   "execution_count": null,
   "metadata": {},
   "outputs": [],
   "source": [
    "nsamples = flat.samples[mu].shape[0]\n",
    "ac = np.zeros(nsamples)\n",
    "b = flat.samples[mu][0,:].astype(float)\n",
    "for sample in xrange(nsamples) :\n",
    "    a = flat.samples[mu][sample,:].astype(float)\n",
    "    ac[sample] = np.dot(a,b)/mu"
   ]
  },
  {
   "cell_type": "code",
   "execution_count": null,
   "metadata": {},
   "outputs": [],
   "source": [
    "plt.plot(mbt.autocorrelation(ac))\n",
    "plt.show()"
   ]
  },
  {
   "cell_type": "code",
   "execution_count": null,
   "metadata": {},
   "outputs": [],
   "source": [
    "plt.bar(np.arange(n),flat.theta[mu])\n",
    "plt.show()"
   ]
  },
  {
   "cell_type": "markdown",
   "metadata": {},
   "source": [
    "Okay, this seems to be working correctly. Now it's time to try to do statistics correctly, and figure out a way of implementing reasonable traffic analysis."
   ]
  },
  {
   "cell_type": "code",
   "execution_count": null,
   "metadata": {},
   "outputs": [],
   "source": [
    "# general simulation parameters\n",
    "nsteps = 101000\n",
    "teq = 1000\n",
    "tsample = 1\n",
    "sigma=None\n",
    "mus = range(1,10)\n",
    "deterministic=True\n",
    "\n",
    "# prepare site_taus\n",
    "n = 100\n",
    "nH = 10\n",
    "np.random.seed(6589)\n",
    "# Hsites and Lsites\n",
    "Hsites = np.random.choice(n,size=nH,replace=False)\n",
    "Lsites = range(n)\n",
    "for site in Hsites :\n",
    "    Lsites.remove(site)\n",
    "site_taus = 2.0*np.ones(n)\n",
    "site_taus[Hsites] = 20.0\n",
    "\n",
    "# FLAT transition matrix\n",
    "Tflat = np.ones((n,n))\n",
    "for i in xrange(n) :\n",
    "    Tflat[i,i] = 0.0\n",
    "Tflat = mbt.row_normalize_matrix(Tflat)\n",
    "flat = pr_peaks.JumpingModel(Tflat,site_taus)\n",
    "\n",
    "# HL model\n",
    "THL = np.ones((n,n))\n",
    "for i in xrange(n) :\n",
    "    THL[i,i] = 0.0\n",
    "for Lsite in Lsites :\n",
    "    for Hsite in Hsites :\n",
    "        THL[Lsite,Hsite] += 2\n",
    "THL = mbt.row_normalize_matrix(THL)\n",
    "HL = pr_peaks.JumpingModel(THL,site_taus)\n",
    "\n",
    "# simulations\n",
    "for mu in mus :\n",
    "    omega_t_initial = pr_peaks.init_omega_t(n,mu)\n",
    "    mbt.log_message('Flat','mu = %d'%(mu))\n",
    "    flat.run(nsteps,mu,sigma,omega_t_initial,\n",
    "            teq=teq,tsample=tsample,deterministic=deterministic)\n",
    "    mbt.log_message('HL','mu = %d'%(mu))\n",
    "    HL.run(nsteps,mu,sigma,omega_t_initial,\n",
    "            teq=teq,tsample=tsample,deterministic=deterministic)\n",
    "\n",
    "# aftermath\n",
    "pr_peaks.H_to_L(flat,Hsites,Lsites)\n",
    "pr_peaks.H_to_L(HL,Hsites,Lsites)"
   ]
  },
  {
   "cell_type": "code",
   "execution_count": null,
   "metadata": {},
   "outputs": [],
   "source": [
    "plt.plot(mus,flat.H_to_L,'r',linewidth=3,label='Flat model')\n",
    "plt.plot(mus,HL.H_to_L,'b',linewidth=3,label='HL model')\n",
    "plt.legend(loc='upper right')\n",
    "plt.xlabel('Number of searchers')\n",
    "plt.ylabel('H to L ratio')\n",
    "plt.show()"
   ]
  },
  {
   "cell_type": "markdown",
   "metadata": {},
   "source": [
    "I don't understand why there is this number coming out of the simulations. I expect that the ratio at one searcher will be equal to the ratio of the $\\tau$ values of the high and low affinity sites. Let's try with 2 sites and one searcher.\n",
    "\n",
    "Okay, I fixed it, at least for the deterministic case."
   ]
  },
  {
   "cell_type": "code",
   "execution_count": null,
   "metadata": {},
   "outputs": [],
   "source": []
  }
 ],
 "metadata": {
  "kernelspec": {
   "display_name": "Python 2",
   "language": "python",
   "name": "python2"
  },
  "language_info": {
   "codemirror_mode": {
    "name": "ipython",
    "version": 2
   },
   "file_extension": ".py",
   "mimetype": "text/x-python",
   "name": "python",
   "nbconvert_exporter": "python",
   "pygments_lexer": "ipython2"
  }
 },
 "nbformat": 4,
 "nbformat_minor": 2
}
