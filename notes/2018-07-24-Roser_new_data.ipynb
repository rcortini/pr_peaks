{
 "cells": [
  {
   "cell_type": "code",
   "execution_count": null,
   "metadata": {},
   "outputs": [],
   "source": [
    "%matplotlib inline\n",
    "%load_ext autoreload\n",
    "%autoreload 2"
   ]
  },
  {
   "cell_type": "code",
   "execution_count": null,
   "metadata": {},
   "outputs": [],
   "source": [
    "import numpy as np\n",
    "import matplotlib.pyplot as plt\n",
    "import mybiotools as mbt\n",
    "import pr_peaks as pp\n",
    "import os, sys"
   ]
  },
  {
   "cell_type": "markdown",
   "metadata": {},
   "source": [
    "# 2018-07-24 Roser new data\n",
    "Roser performed other experiments at intermediate concentrations. Let's have a look at the data now.\n",
    "\n",
    "## Load new data\n",
    "Now the amount of data that I have to process is quite a lot. So I wrote a table with the samples that I need to analyze, and I actually copied the data onto my personal workspace for the project. I'll now read that table and fill in a data structure that will hopefully allow me to have everything easily at hand."
   ]
  },
  {
   "cell_type": "code",
   "execution_count": null,
   "metadata": {},
   "outputs": [],
   "source": [
    "# directories\n",
    "pp_root = '%s/work/CRG/projects/pr_peaks'%(os.getenv('HOME'))\n",
    "data_dir = '%s/data'%(pp_root)\n",
    "samples_dir = '%s/chipseq/samples'%(data_dir)"
   ]
  },
  {
   "cell_type": "code",
   "execution_count": null,
   "metadata": {},
   "outputs": [],
   "source": [
    "# sample table\n",
    "sample_table_fname = '%s/samples_table.txt'%(samples_dir)\n",
    "\n",
    "# parse it\n",
    "experiments = {}\n",
    "with open(sample_table_fname, 'r') as f :\n",
    "    for line in f :\n",
    "        sample_id, sample_name = line.strip().split('\\t')\n",
    "        experiments[sample_name] = mbt.ChIPseq(sample_id, xavi_datadir=data_dir)"
   ]
  },
  {
   "cell_type": "code",
   "execution_count": null,
   "metadata": {},
   "outputs": [],
   "source": [
    "for name, experiment in experiments.iteritems() :\n",
    "    print name, len(experiment.peaks)"
   ]
  },
  {
   "cell_type": "markdown",
   "metadata": {},
   "source": [
    "There is quite some difference between the two experiments labelled as 0.05 and 0.05old. The hormone concentration used was theoretically identical. I will need to use the `mergePeaks` utility from HOMER to obtain some insight into whether there are significant differences between the old and the new data points.\n",
    "\n",
    "Let's try do analyze some of the peaks."
   ]
  },
  {
   "cell_type": "code",
   "execution_count": null,
   "metadata": {},
   "outputs": [],
   "source": [
    "peak = experiments['0.05'].peaks[28]\n",
    "print peak\n",
    "print experiments['0.05old'].peak_counts(peak)\n",
    "print experiments['0.05'].peak_counts(peak)"
   ]
  },
  {
   "cell_type": "code",
   "execution_count": null,
   "metadata": {},
   "outputs": [],
   "source": [
    "mycontrol = np.array(('chr14', 1400000, 1450000), dtype=np.dtype([('chr','S8'),\n",
    "                                                                    ('start',np.int32),\n",
    "                                                                    ('end',np.int32)]))"
   ]
  },
  {
   "cell_type": "code",
   "execution_count": null,
   "metadata": {},
   "outputs": [],
   "source": [
    "print experiments['0.05old'].peak_counts(mycontrol)\n",
    "print experiments['0.05'].peak_counts(mycontrol)"
   ]
  }
 ],
 "metadata": {
  "kernelspec": {
   "display_name": "Python 2",
   "language": "python",
   "name": "python2"
  },
  "language_info": {
   "codemirror_mode": {
    "name": "ipython",
    "version": 3
   },
   "file_extension": ".py",
   "mimetype": "text/x-python",
   "name": "python",
   "nbconvert_exporter": "python",
   "pygments_lexer": "ipython3"
  }
 },
 "nbformat": 4,
 "nbformat_minor": 2
}
