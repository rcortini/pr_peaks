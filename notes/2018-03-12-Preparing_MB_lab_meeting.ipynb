{
 "cells": [
  {
   "cell_type": "code",
   "execution_count": null,
   "metadata": {},
   "outputs": [],
   "source": [
    "%matplotlib inline\n",
    "%load_ext autoreload\n",
    "%autoreload 2"
   ]
  },
  {
   "cell_type": "code",
   "execution_count": null,
   "metadata": {},
   "outputs": [],
   "source": [
    "import numpy as np\n",
    "import matplotlib.pyplot as plt\n",
    "import mybiotools as mbt\n",
    "import pr_peaks\n",
    "import os"
   ]
  },
  {
   "cell_type": "markdown",
   "metadata": {},
   "source": [
    "# 2018-03-12 Preparing MB lab meeting\n",
    "I want to get some data ready to be shown at MB's lab meeting."
   ]
  },
  {
   "cell_type": "code",
   "execution_count": null,
   "metadata": {},
   "outputs": [],
   "source": [
    "# general variables\n",
    "pr_peaks_root_dir = '%s/work/CRG/projects/pr_peaks'%(os.getenv('HOME'))\n",
    "figures_dir = '%s/figures'%(pr_peaks_root_dir)"
   ]
  },
  {
   "cell_type": "code",
   "execution_count": null,
   "metadata": {},
   "outputs": [],
   "source": [
    "# general simulation parameters\n",
    "nsteps = 100000\n",
    "n = 12\n",
    "\n",
    "# init site_taus\n",
    "Hsites = [5,6]\n",
    "Lsites = [i for i in xrange(n) if i not in Hsites]\n",
    "site_taus = 2.0*np.ones(n)\n",
    "site_taus[Hsites] = 5.0\n",
    "\n",
    "# \"null\" contact model\n",
    "Hnull = [[] for i in xrange(n)]\n",
    "\n",
    "# the \"contacts\" model\n",
    "H = [[] for i in xrange(n)]\n",
    "H[Hsites[0]] = [Hsites[1]]\n",
    "H[Hsites[1]] = [Hsites[0]]\n",
    "boost = 2.0\n",
    "\n",
    "# init the Jumping Models\n",
    "uniform = pr_peaks.JumpingModel(Hnull,site_taus,None)\n",
    "contact = pr_peaks.JumpingModel(H,site_taus,boost)\n",
    "\n",
    "# values of the number of searchers\n",
    "mus = np.arange(1,10,1)\n",
    "\n",
    "# do the simulations\n",
    "np.random.seed(85498)\n",
    "samples = {}\n",
    "for mu in mus :\n",
    "    mbt.log_message('Uniform','mu = %d'%(mu))\n",
    "    # init omega_t\n",
    "    omega_t_initial = pr_peaks.init_omega_t(n,mu)\n",
    "    uniform.run(nsteps,omega_t_initial)\n",
    "    mbt.log_message('Uniform','mu = %d'%(mu))\n",
    "    contact.run(nsteps,omega_t_initial)\n",
    "    \n",
    "# aftermath\n",
    "pr_peaks.H_to_L(uniform,Hsites,Lsites)\n",
    "pr_peaks.H_to_L(contact,Hsites,Lsites)"
   ]
  },
  {
   "cell_type": "code",
   "execution_count": null,
   "metadata": {},
   "outputs": [],
   "source": [
    "xticklabels = [\"L\" for i in xrange(n)]\n",
    "for Hsite in Hsites :\n",
    "    xticklabels[Hsite] = \"H\"\n",
    "fig,ax = plt.subplots(1,1,figsize=(10,4))\n",
    "mbt.ax_only_y(ax,show_xaxis=True)\n",
    "ax.bar(Lsites,site_taus[Lsites],color='b')\n",
    "ax.bar(Hsites,site_taus[Hsites],color='r')\n",
    "ax.set_ylabel(\"Site times\",fontsize=32)\n",
    "ax.set_xticks(range(n))\n",
    "ax.set_xticklabels(xticklabels,)\n",
    "plt.tick_params(axis='x',length=0)\n",
    "fig.tight_layout()\n",
    "fig.savefig('%s/LM_MB_site_affinities.pdf'%(figures_dir))\n",
    "plt.show()"
   ]
  },
  {
   "cell_type": "code",
   "execution_count": null,
   "metadata": {},
   "outputs": [],
   "source": [
    "xticklabels = [\"L\" for i in xrange(n)]\n",
    "for Hsite in Hsites :\n",
    "    xticklabels[Hsite] = \"H\"\n",
    "    \n",
    "for mu in [1,5,7] :\n",
    "    fig,ax = plt.subplots(1,1,figsize=(10,4))\n",
    "    mbt.ax_only_y(ax,show_xaxis=True)\n",
    "    ax.bar(Lsites,uniform.theta[mu][Lsites],color='b')\n",
    "    ax.bar(Hsites,uniform.theta[mu][Hsites],color='r')\n",
    "    ax.set_ylabel(\"Occupancy\",fontsize=32)\n",
    "    ax.set_xticks(range(n))\n",
    "    ax.set_xticklabels(xticklabels,)\n",
    "    ax.text(0.9,0.8,\"M = %d\"%mu,transform=ax.transAxes,fontsize=24)\n",
    "    plt.tick_params(axis='x',length=0)\n",
    "    fig.tight_layout()\n",
    "    fig.savefig('%s/LM_MB_occupancy_M-%d.pdf'%(figures_dir,mu))\n",
    "    plt.show()"
   ]
  },
  {
   "cell_type": "code",
   "execution_count": null,
   "metadata": {},
   "outputs": [],
   "source": [
    "fig = plt.figure(figsize=(6,4))\n",
    "plt.plot(mus,uniform.H_to_L,'o--',color='b')\n",
    "plt.xlabel(r'Number of searchers',fontsize=32)\n",
    "plt.ylabel('H to L ratio',fontsize=32)\n",
    "fig.tight_layout()\n",
    "fig.savefig('%s/LM_MB_H_to_L_uniform.pdf'%(figures_dir))\n",
    "plt.show()"
   ]
  },
  {
   "cell_type": "code",
   "execution_count": null,
   "metadata": {},
   "outputs": [],
   "source": [
    "fig = plt.figure(figsize=(6,4))\n",
    "plt.plot(mus,contact.H_to_L,'o--',color='b',label='HH model')\n",
    "plt.plot(mus,uniform.H_to_L,'o--',color='r',label='Uniform model')\n",
    "plt.xlabel(r'$\\mu$')\n",
    "plt.ylabel('H to L ratio')\n",
    "plt.legend(loc='upper right')\n",
    "plt.show()"
   ]
  }
 ],
 "metadata": {
  "kernelspec": {
   "display_name": "Python 2",
   "language": "python",
   "name": "python2"
  },
  "language_info": {
   "codemirror_mode": {
    "name": "ipython",
    "version": 2
   },
   "file_extension": ".py",
   "mimetype": "text/x-python",
   "name": "python",
   "nbconvert_exporter": "python",
   "pygments_lexer": "ipython2"
  }
 },
 "nbformat": 4,
 "nbformat_minor": 2
}
