{
 "cells": [
  {
   "cell_type": "code",
   "execution_count": null,
   "metadata": {},
   "outputs": [],
   "source": [
    "%matplotlib inline\n",
    "%load_ext autoreload\n",
    "%autoreload 2"
   ]
  },
  {
   "cell_type": "code",
   "execution_count": null,
   "metadata": {},
   "outputs": [],
   "source": [
    "import numpy as np\n",
    "import matplotlib.pyplot as plt\n",
    "import mybiotools as mbt\n",
    "import os\n",
    "import pr_peaks\n",
    "from scipy.stats import gaussian_kde\n",
    "from Bio import SeqIO\n",
    "from Bio.Alphabet import IUPAC\n",
    "from Bio.motifs.matrix import PositionWeightMatrix"
   ]
  },
  {
   "cell_type": "code",
   "execution_count": null,
   "metadata": {},
   "outputs": [],
   "source": [
    "# load the ChIP-seq data\n",
    "conditions = [\n",
    "    pr_peaks.Condition('high'   ,'all_treated',0.05,'gv_107_01_01_chipseq'),\n",
    "    pr_peaks.Condition('medium1','4HCP'       ,0.10,'gv_108_01_01_chipseq'),\n",
    "    pr_peaks.Condition('medium2','3HCP'       ,0.50,'gv_109_01_01_chipseq'),\n",
    "    pr_peaks.Condition('low'    ,'1HCP'       ,10.0,'gv_111_01_01_chipseq')\n",
    "]"
   ]
  },
  {
   "cell_type": "markdown",
   "metadata": {},
   "source": [
    "# 2018-05-04 Palindromes?\n",
    "The idea that cooperativity is the key effect that should explain h-enhancement seems to resist to the attacks from multiple sides. Now, I can think of two distinct ways that cooperativity (that is, stabilization of the protein-DNA contact because of increased stability due to protein-protein interaction) can be implemented.\n",
    "\n",
    "- Case 1: **DNA loop-mediated tetramerization**. In this case, two PR molecules should bind to distal portions of DNA, and the result of the interaction creates a tetramer and results in looping of the DNA.\n",
    "- Case 2: **Binding of the PR to palindromic sequences**. The consensus DNA sequence of the PR is a palindrome: this means that one possibility is that tandem repeats of the consensus sequence could play a role in helping a cis-mediated interaction which would result in cooperative effects.\n",
    "\n",
    "To distinguish between these two hypotheses, we need to get the sequences that correspond to the H peaks and the L peaks and compare them."
   ]
  },
  {
   "cell_type": "code",
   "execution_count": null,
   "metadata": {},
   "outputs": [],
   "source": [
    "hg19_genome_file = os.getenv('HOME') + '/work/data/GRCh37.fasta'\n",
    "h19 = SeqIO.index (hg19_genome_file,'fasta',alphabet=IUPAC.unambiguous_dna)"
   ]
  },
  {
   "cell_type": "code",
   "execution_count": null,
   "metadata": {},
   "outputs": [],
   "source": [
    "# load the PR binding motif matrix so that Bio understands it\n",
    "M = np.genfromtxt(os.getenv('HOME')+'/work/data/motif231.motif',comments='>')\n",
    "Mdict = {}\n",
    "for i,letter in enumerate(['A','C','G','T']) :\n",
    "    Mdict[letter] = M[:,i]\n",
    "pwm = PositionWeightMatrix(IUPAC.unambiguous_dna,Mdict)\n",
    "pssm = pwm.log_odds()\n",
    "motif_length = len(pwm['A'])"
   ]
  },
  {
   "cell_type": "code",
   "execution_count": null,
   "metadata": {},
   "outputs": [],
   "source": [
    "fig = mbt.sequence_logo(pwm)"
   ]
  },
  {
   "cell_type": "markdown",
   "metadata": {},
   "source": [
    "Let's do some analysis on the DNA reads at the H peaks."
   ]
  },
  {
   "cell_type": "code",
   "execution_count": null,
   "metadata": {},
   "outputs": [],
   "source": [
    "high = conditions[0]\n",
    "chromosome,start,end = high.peaks[0]\n",
    "seq = h19[chromosome].seq[start:end]\n",
    "print seq"
   ]
  },
  {
   "cell_type": "code",
   "execution_count": null,
   "metadata": {},
   "outputs": [],
   "source": [
    "N = pwm.length\n",
    "i_f_max = pssm.calculate(seq).argmax()\n",
    "i_b_max = pssm.reverse_complement().calculate(seq).argmax()\n",
    "print seq[i_f_max-N:i_f_max+N]\n",
    "print seq[i_b_max-N:i_b_max+N]"
   ]
  },
  {
   "cell_type": "code",
   "execution_count": null,
   "metadata": {},
   "outputs": [],
   "source": [
    "chr1.seq[]"
   ]
  }
 ],
 "metadata": {
  "kernelspec": {
   "display_name": "Python 2",
   "language": "python",
   "name": "python2"
  },
  "language_info": {
   "codemirror_mode": {
    "name": "ipython",
    "version": 2
   },
   "file_extension": ".py",
   "mimetype": "text/x-python",
   "name": "python",
   "nbconvert_exporter": "python",
   "pygments_lexer": "ipython2"
  }
 },
 "nbformat": 4,
 "nbformat_minor": 2
}
