{
 "cells": [
  {
   "cell_type": "code",
   "execution_count": null,
   "metadata": {},
   "outputs": [],
   "source": [
    "%matplotlib inline\n",
    "%load_ext autoreload\n",
    "%autoreload 2"
   ]
  },
  {
   "cell_type": "code",
   "execution_count": null,
   "metadata": {},
   "outputs": [],
   "source": [
    "import numpy as np\n",
    "import matplotlib.pyplot as plt\n",
    "import pandas as pd\n",
    "import os, sys\n",
    "import pr_peaks as pp\n",
    "import mybiotools as mbt\n",
    "import pysam"
   ]
  },
  {
   "cell_type": "markdown",
   "metadata": {},
   "source": [
    "# 2019-07-26 New new data\n",
    "Roser sent me the data of the new round of experiments (P3679). I'm looking here at how these data files look like, after having mapped them (BWA to hg38 genome)."
   ]
  },
  {
   "cell_type": "code",
   "execution_count": null,
   "metadata": {},
   "outputs": [],
   "source": [
    "# directories\n",
    "pp_root = '%s/work/CRG/projects/pr_peaks'%(os.getenv('HOME'))\n",
    "data_dir = '%s/data/chipseq'%(pp_root)"
   ]
  },
  {
   "cell_type": "code",
   "execution_count": null,
   "metadata": {},
   "outputs": [],
   "source": [
    "def chipseq_bam_location (sample_id, datadir) :\n",
    "    # build the directory name where the files are\n",
    "    d = \"%s/chipseq/samples/%s/alignments\"%(xavi_datadir,sample_id)\n",
    "    # select all files that end with \".bw\" in the directory, and\n",
    "    # then prefer to read the one that is in the directory that has\n",
    "    # \"with_control\"\n",
    "    peakfiles = []\n",
    "    for root,sub,files in os.walk(d) :\n",
    "        for f in files :\n",
    "            if f.endswith (\".bam\") :\n",
    "                peakfiles.append('%s/%s'%(root,f))\n",
    "    fin = None\n",
    "    for peakfile in peakfiles :\n",
    "        if 'with_control' in peakfile :\n",
    "            fin = peakfile\n",
    "            break\n",
    "        else :\n",
    "            fin = peakfile\n",
    "    if fin is None :\n",
    "        warn_message('chipseq_bam_location','Data not found for %s'%sample_id)\n",
    "    return fin"
   ]
  },
  {
   "cell_type": "code",
   "execution_count": null,
   "metadata": {},
   "outputs": [],
   "source": [
    "class ChIPseq :\n",
    "    \n",
    "    def __init__(self, bamfile) :\n",
    "        self.bamfile = bamfile\n",
    "        # init the pysam parser\n",
    "        self.bam = pysam.AlignmentFile(self.bamfile)\n",
    "        \n",
    "    def peak_counts(self, chromosome, start, end, extend=None) :\n",
    "        if extend is not None :\n",
    "            start -= extend\n",
    "            end += extend\n",
    "        chromosome = str(chromosome)\n",
    "        return self.bam.count(chromosome,start,end)"
   ]
  },
  {
   "cell_type": "code",
   "execution_count": null,
   "metadata": {},
   "outputs": [],
   "source": [
    "# sample table\n",
    "sample_table_fname = '%s/list.txt'%(data_dir)\n",
    "\n",
    "# parse it\n",
    "old_experiments = {}\n",
    "new_experiments = {}\n",
    "\n",
    "with open(sample_table_fname, 'r') as f :\n",
    "    \n",
    "    # parse file line by line\n",
    "    for line in f :\n",
    "        \n",
    "        # skip lines with comments\n",
    "        if line.startswith('#') : continue\n",
    "        sample_fname, sample_name = line.strip().split('\\t')\n",
    "        bamfile = '%s/%s'%(data_dir, sample_fname)\n",
    "        if 'old' in sample_name : \n",
    "            old_experiments[sample_name] = ChIPseq(bamfile)\n",
    "        if 'new' in sample_name : \n",
    "            new_experiments[sample_name] = ChIPseq(bamfile)"
   ]
  },
  {
   "cell_type": "markdown",
   "metadata": {},
   "source": [
    "With this, we loaded all our experiments in a data structure that will allow for relatively easy access to the information we need. Let's now load the information on the peaks that we will analyze."
   ]
  },
  {
   "cell_type": "code",
   "execution_count": null,
   "metadata": {},
   "outputs": [],
   "source": [
    "high       = pp.Condition('high'  ,'all_treated',0.05,'gv_107_01_01_chipseq')\n",
    "medium     = pp.Condition('medium','3HCP'       ,0.50,'gv_109_01_01_chipseq')\n",
    "low        = pp.Condition('low'   ,'1HCP'       ,10.0,'gv_111_01_01_chipseq')"
   ]
  },
  {
   "cell_type": "code",
   "execution_count": null,
   "metadata": {},
   "outputs": [],
   "source": [
    "Hpeaks = high.peaks\n",
    "Lpeaks = low.peaks"
   ]
  },
  {
   "cell_type": "markdown",
   "metadata": {},
   "source": [
    "## Reproducibility of old results\n",
    "\n",
    "Let's take this by steps. First, let's see at the different concentrations whether we obtain correspondence with a well characterized locus: GREB1."
   ]
  },
  {
   "cell_type": "code",
   "execution_count": null,
   "metadata": {},
   "outputs": [],
   "source": [
    "def get_old_and_new(old_experiments, new_experiments, chromosome, start, end,\n",
    "                    window_size=300, step_size=150, span=100000) :\n",
    "    # info about experiments\n",
    "    Nold = len(old_experiments)\n",
    "    Nnew = len(new_experiments)\n",
    "    old_keys = list(old_experiments.keys())\n",
    "    old_keys.sort()\n",
    "    new_keys = list(new_experiments.keys())\n",
    "    new_keys.sort()\n",
    "    \n",
    "    # init data\n",
    "    begin = start - span\n",
    "    terminate = end + span\n",
    "    X = np.arange(begin, terminate, step_size)\n",
    "    N = X.shape[0]\n",
    "    old = np.zeros((N, Nold))\n",
    "    new = np.zeros((N, Nnew))\n",
    "    for i,x in enumerate(X) :\n",
    "        for j, key in enumerate(old_keys) :\n",
    "            old[i,j] = old_experiments[key].peak_counts(chromosome,\n",
    "                                                        x-window_size/2.,\n",
    "                                                        x+window_size/2.)\n",
    "        for j, key in enumerate(new_keys) :\n",
    "            new[i,j] = new_experiments[key].peak_counts(chromosome,\n",
    "                                                        x-window_size/2.,\n",
    "                                                        x+window_size/2.)\n",
    "    \n",
    "    return X, old, new"
   ]
  },
  {
   "cell_type": "code",
   "execution_count": null,
   "metadata": {},
   "outputs": [],
   "source": [
    "def plot_tracks(x, experiments, names, chromosome, color='k') :\n",
    "    nexperiments = experiments.shape[1]\n",
    "    fig, axes = plt.subplots(nexperiments, 1, figsize=(10,nexperiments*1.5))\n",
    "    for i in range(nexperiments) :\n",
    "        name = names[i]\n",
    "        ax = axes[i]\n",
    "        mbt.line_plot(ax, x, experiments[:,i], show_xaxis= i==nexperiments-1, color=color)\n",
    "        ax.set_ylabel(name, fontsize=12)\n",
    "    ax.set_xlabel(\"Genomic coordinate [%s]\"%(chromosome))\n",
    "    return fig, axes"
   ]
  },
  {
   "cell_type": "code",
   "execution_count": null,
   "metadata": {},
   "outputs": [],
   "source": [
    "# GREB1 locus\n",
    "chromosome = 'chr2'\n",
    "start = 11481675\n",
    "end = 11642788\n",
    "X, old, new = get_old_and_new(old_experiments, new_experiments, chromosome, start, end)"
   ]
  },
  {
   "cell_type": "code",
   "execution_count": null,
   "metadata": {},
   "outputs": [],
   "source": [
    "fig, axes = plot_tracks(X, old, old_keys, chromosome, color='b')\n",
    "axes[0].set_title(\"Old experiments\", fontsize=24)\n",
    "plt.show()\n",
    "\n",
    "fig, axes = plot_tracks(X, new, new_keys, chromosome, color='r')\n",
    "axes[0].set_title(\"New experiments\", fontsize=24)\n",
    "plt.show()"
   ]
  },
  {
   "cell_type": "markdown",
   "metadata": {},
   "source": [
    "In the famous GREB1 locus, we have that until 0.1nM hormone there is no peak, but then the peak appears.\n",
    "\n",
    "Let's see at another few random H peaks what happens."
   ]
  },
  {
   "cell_type": "code",
   "execution_count": null,
   "metadata": {},
   "outputs": [],
   "source": [
    "chromosome, start, end = Hpeaks[24]\n",
    "chromosome = chromosome.decode('utf-8')\n",
    "\n",
    "X, old, new = get_old_and_new(old_experiments, new_experiments, chromosome, start, end)\n",
    "\n",
    "fig, axes = plot_tracks(X, old, old_keys, chromosome, color='b')\n",
    "axes[0].set_title(\"Old experiments\", fontsize=24)\n",
    "plt.show()\n",
    "\n",
    "fig, axes = plot_tracks(X, new, new_keys, chromosome, color='r')\n",
    "axes[0].set_title(\"New experiments\", fontsize=24)\n",
    "plt.show()"
   ]
  },
  {
   "cell_type": "markdown",
   "metadata": {},
   "source": [
    "Playing around with random peaks makes me understand that there are peaks that appear and peaks that don't appear. Let's do a quantitative analysis of the correspondence."
   ]
  },
  {
   "cell_type": "code",
   "execution_count": null,
   "metadata": {},
   "outputs": [],
   "source": [
    "chromosomes = [c.decode('utf-8') for c in np.unique(Hpeaks['chr'])]"
   ]
  },
  {
   "cell_type": "code",
   "execution_count": null,
   "metadata": {},
   "outputs": [],
   "source": [
    "def make_zerone_output_index(a,chromosome_list=None) :\n",
    "    # if the chromosome names are not given, get them\n",
    "    if chromosome_list is None :\n",
    "        chromosome_list = np.unique(a['chr'])\n",
    "    # init the dictionary and init the iteration\n",
    "    c_idx = {}\n",
    "    c_start = 0\n",
    "    prev_c = a[0]['chr']\n",
    "    # we don't sort the input array: Zerone already does this by default\n",
    "    for i,b in enumerate(a) :\n",
    "        this_c = b['chr']\n",
    "        if this_c != prev_c :\n",
    "            c_end = i-1\n",
    "            c_idx[prev_c] = (c_start,c_end)\n",
    "            c_start = i\n",
    "            prev_c = this_c\n",
    "    # the last chromosome needs to be manually added\n",
    "    c_idx[this_c] = (c_start,i)\n",
    "    return c_idx\n",
    "\n",
    "def parse_zerone_output(fname,chromosome_list=None) :\n",
    "    \"\"\"\n",
    "    Parses a Zerone output and returns a numpy array. The values of the numpy array\n",
    "    are: chromosome, start, end, enrichment, read_1, read_2, ..., read_n, p.\n",
    "    The number of `read_i` columns depends on the invocation of Zerone and cannot\n",
    "    be known beforehand.\n",
    "    \"\"\"\n",
    "    # first, we start by reading the first non-comment line in the Zerone file, to\n",
    "    # determine the number of `read` columns in the file\n",
    "    with open(fname,'r') as f :\n",
    "        for line in f :\n",
    "            if not line.startswith('#') :\n",
    "                break\n",
    "    n_readcols = len(line.split())-6\n",
    "    zerone_dtype = [('chr','S256'),\n",
    "                    ('start',np.int64),\n",
    "                    ('end',np.int64),\n",
    "                    ('enrichment',np.int32),\n",
    "                    ('control',np.int64)]\n",
    "    for i in range(n_readcols) :\n",
    "        zerone_dtype.append(('read_%d'%(i),np.int64))\n",
    "    zerone_dtype.append(('p',float))\n",
    "    # now we parse the file using the `genfromtxt` function from numpy\n",
    "    a = np.genfromtxt(fname,dtype=np.dtype(zerone_dtype))\n",
    "    # next, we exclude the values of the array that pertain to chromosomes that are not\n",
    "    # included in the chromosome list that was passed by the user (if any)\n",
    "    if chromosome_list is not None :\n",
    "        a = np.array([s for s in a if s['chr'] in chromosome_list])\n",
    "    print(a.shape)\n",
    "    # now pass the array to the index maker, and return the array along with the index\n",
    "    c_idx = make_zerone_output_index(a,chromosome_list)\n",
    "    return a,c_idx\n",
    "\n",
    "def find_zerone_peak(a,c_idx,chromosome, start, end,bin_size=300) :\n",
    "    \"\"\"\n",
    "    Returns the values of the `a` array corresponding to the genomic coordinates\n",
    "    of the `peak`. Uses the `c_idx` dictionary to rapidly calculate which are the indices\n",
    "    of the `a` array that correspond to the peak\n",
    "    \"\"\"\n",
    "    c_start,c_end = c_idx[chromosome]\n",
    "    peak_idx_start = start//bin_size\n",
    "    peak_idx_end = end//bin_size\n",
    "    if peak_idx_start == peak_idx_end :\n",
    "        return [a[c_start+peak_idx_start]]\n",
    "    else :\n",
    "        return a[c_start+peak_idx_start:c_start+peak_idx_end+1]"
   ]
  },
  {
   "cell_type": "code",
   "execution_count": null,
   "metadata": {},
   "outputs": [],
   "source": [
    "zerones = {}\n",
    "for name, experiment in new_experiments.items() :\n",
    "    mbt.log_message('zerone', name)\n",
    "    zerone_fname = experiment.bamfile.strip('.bam') + '.zerone.out'\n",
    "    zerones[name] = parse_zerone_output(zerone_fname)# , chromosome_list=chromosomes)"
   ]
  },
  {
   "cell_type": "code",
   "execution_count": null,
   "metadata": {},
   "outputs": [],
   "source": [
    "nHpeaks = len(Hpeaks)\n",
    "peak_table = np.zeros((Nnew, nHpeaks))\n",
    "for i, name in enumerate(new_keys) :\n",
    "    experiments = new_experiments[name]\n",
    "    for j, peak in enumerate(Hpeaks) :\n",
    "        chromosome, start, end = peak\n",
    "        # chromosome = chromosome.decode('utf-8')\n",
    "        a, c_idx = zerones[name]\n",
    "        zpeak = mbt.find_zerone_peak(a, c_idx, chromosome, start, end)['enrichment']\n",
    "        peak_table[i, j] = zpeak.sum()/len(zpeak)"
   ]
  }
 ],
 "metadata": {
  "kernelspec": {
   "display_name": "Python 3",
   "language": "python",
   "name": "python3"
  },
  "language_info": {
   "codemirror_mode": {
    "name": "ipython",
    "version": 3
   },
   "file_extension": ".py",
   "mimetype": "text/x-python",
   "name": "python",
   "nbconvert_exporter": "python",
   "pygments_lexer": "ipython3"
  }
 },
 "nbformat": 4,
 "nbformat_minor": 2
}
