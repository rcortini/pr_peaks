{
 "cells": [
  {
   "cell_type": "code",
   "execution_count": null,
   "metadata": {},
   "outputs": [],
   "source": [
    "%matplotlib inline\n",
    "%load_ext autoreload\n",
    "%autoreload 2"
   ]
  },
  {
   "cell_type": "code",
   "execution_count": null,
   "metadata": {},
   "outputs": [],
   "source": [
    "import numpy as np\n",
    "import matplotlib.pyplot as plt\n",
    "import pandas as pd\n",
    "import os, sys\n",
    "import pr_peaks as pp\n",
    "import mybiotools as mbt\n",
    "import pysam"
   ]
  },
  {
   "cell_type": "markdown",
   "metadata": {},
   "source": [
    "# 2019-07-26 New new data\n",
    "Roser sent me the data of the new round of experiments (P3679). I'm looking here at how these data files look like, after having mapped them (BWA to hg38 genome)."
   ]
  },
  {
   "cell_type": "code",
   "execution_count": null,
   "metadata": {},
   "outputs": [],
   "source": [
    "# directories\n",
    "pp_root = '%s/work/CRG/projects/pr_peaks'%(os.getenv('HOME'))\n",
    "data_dir = '%s/data/chipseq'%(pp_root)"
   ]
  },
  {
   "cell_type": "code",
   "execution_count": null,
   "metadata": {},
   "outputs": [],
   "source": [
    "def chipseq_bam_location (sample_id, datadir) :\n",
    "    # build the directory name where the files are\n",
    "    d = \"%s/chipseq/samples/%s/alignments\"%(xavi_datadir,sample_id)\n",
    "    # select all files that end with \".bw\" in the directory, and\n",
    "    # then prefer to read the one that is in the directory that has\n",
    "    # \"with_control\"\n",
    "    peakfiles = []\n",
    "    for root,sub,files in os.walk(d) :\n",
    "        for f in files :\n",
    "            if f.endswith (\".bam\") :\n",
    "                peakfiles.append('%s/%s'%(root,f))\n",
    "    fin = None\n",
    "    for peakfile in peakfiles :\n",
    "        if 'with_control' in peakfile :\n",
    "            fin = peakfile\n",
    "            break\n",
    "        else :\n",
    "            fin = peakfile\n",
    "    if fin is None :\n",
    "        warn_message('chipseq_bam_location','Data not found for %s'%sample_id)\n",
    "    return fin"
   ]
  },
  {
   "cell_type": "code",
   "execution_count": null,
   "metadata": {},
   "outputs": [],
   "source": [
    "class ChIPseq :\n",
    "    \n",
    "    def __init__(self, bamfile) :\n",
    "        self.bamfile = bamfile\n",
    "        # init the pysam parser\n",
    "        self.bam = pysam.AlignmentFile(self.bamfile)\n",
    "        \n",
    "    def peak_counts(self, chromosome, start, end, extend=None) :\n",
    "        if extend is not None :\n",
    "            start -= extend\n",
    "            end += extend\n",
    "        chromosome = str(chromosome)\n",
    "        return self.bam.count(chromosome,start,end)"
   ]
  },
  {
   "cell_type": "code",
   "execution_count": null,
   "metadata": {},
   "outputs": [],
   "source": [
    "# sample table\n",
    "sample_table_fname = '%s/list.txt'%(data_dir)\n",
    "\n",
    "# parse it\n",
    "experiments = {}\n",
    "with open(sample_table_fname, 'r') as f :\n",
    "    for line in f :\n",
    "        sample_fname, sample_name = line.strip().split('\\t')\n",
    "        bamfile = '%s/%s'%(data_dir, sample_fname)\n",
    "        experiments[sample_name] = ChIPseq(bamfile)"
   ]
  },
  {
   "cell_type": "markdown",
   "metadata": {},
   "source": [
    "With this, we loaded all our experiments in a data structure that will allow for relatively easy access to the information we need. Let's now load the information on the peaks that we will analyze."
   ]
  },
  {
   "cell_type": "code",
   "execution_count": null,
   "metadata": {},
   "outputs": [],
   "source": [
    "high       = pp.Condition('high'  ,'all_treated',0.05,'gv_107_01_01_chipseq')\n",
    "medium     = pp.Condition('medium','3HCP'       ,0.50,'gv_109_01_01_chipseq')\n",
    "low        = pp.Condition('low'   ,'1HCP'       ,10.0,'gv_111_01_01_chipseq')"
   ]
  },
  {
   "cell_type": "code",
   "execution_count": null,
   "metadata": {},
   "outputs": [],
   "source": [
    "Hpeaks = high.peaks\n",
    "Lpeaks = low.peaks"
   ]
  },
  {
   "cell_type": "markdown",
   "metadata": {},
   "source": [
    "## Reproducibility of old results\n",
    "\n",
    "Let's take this by steps. Let's figure out whether the peaks at 0.05nM coincide in this new sample."
   ]
  },
  {
   "cell_type": "code",
   "execution_count": null,
   "metadata": {},
   "outputs": [],
   "source": [
    "old = experiments['0.05old']\n",
    "new1 = experiments['0.05new1']\n",
    "new2 = experiments['0.05new2']\n",
    "\n",
    "chromosome = 'chr2'\n",
    "begin = 11470000\n",
    "terminate = begin + 300000\n",
    "window_size = 300\n",
    "step_size = 150\n",
    "X = np.arange(begin, terminate, step_size)\n",
    "Y = np.zeros((X.shape[0], 3))\n",
    "for i,x in enumerate(X) :\n",
    "    Y[i,0] = old.peak_counts(chromosome, x-window_size/2., x+window_size/2.)\n",
    "    Y[i,1] = new1.peak_counts(chromosome, x-window_size/2., x+window_size/2.)\n",
    "    Y[i,2] = new2.peak_counts(chromosome, x-window_size/2., x+window_size/2.)"
   ]
  },
  {
   "cell_type": "code",
   "execution_count": null,
   "metadata": {},
   "outputs": [],
   "source": [
    "fig, axes = plt.subplots(3,1,figsize=(10,6))\n",
    "\n",
    "ax = axes[0]\n",
    "mbt.line_plot(ax, X, Y[:,0], show_xaxis=False)\n",
    "ax.set_ylabel(\"Old\")\n",
    "\n",
    "ax = axes[1]\n",
    "mbt.line_plot(ax, X, Y[:,1], show_xaxis=False)\n",
    "ax.set_ylabel(\"New1\")\n",
    "\n",
    "ax = axes[2]\n",
    "mbt.line_plot(ax, X, Y[:,2], show_xaxis=True)\n",
    "ax.set_xlabel(\"Genomic coordinate [%s]\"%(chromosome))\n",
    "ax.set_ylabel(\"New2\")\n",
    "\n",
    "plt.show()"
   ]
  },
  {
   "cell_type": "markdown",
   "metadata": {},
   "source": [
    "In the famous GREB1 locus, we do not have correspondence. I quit here waiting for help from the bioinformaticians."
   ]
  }
 ],
 "metadata": {
  "kernelspec": {
   "display_name": "Python 3",
   "language": "python",
   "name": "python3"
  },
  "language_info": {
   "codemirror_mode": {
    "name": "ipython",
    "version": 3
   },
   "file_extension": ".py",
   "mimetype": "text/x-python",
   "name": "python",
   "nbconvert_exporter": "python",
   "pygments_lexer": "ipython3"
  }
 },
 "nbformat": 4,
 "nbformat_minor": 2
}
