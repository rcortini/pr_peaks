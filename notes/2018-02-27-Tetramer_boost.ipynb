{
 "cells": [
  {
   "cell_type": "code",
   "execution_count": null,
   "metadata": {},
   "outputs": [],
   "source": [
    "%matplotlib inline\n",
    "%load_ext autoreload\n",
    "%autoreload 2"
   ]
  },
  {
   "cell_type": "code",
   "execution_count": null,
   "metadata": {},
   "outputs": [],
   "source": [
    "import numpy as np\n",
    "import matplotlib.pyplot as plt\n",
    "import mybiotools as mbt\n",
    "import pr_peaks\n",
    "import pysam"
   ]
  },
  {
   "cell_type": "markdown",
   "metadata": {},
   "source": [
    "# 2018-02-27 Tetramer boost\n",
    "\n",
    "I still don't want to start thinking of super-weird network topologies that might explain the non-monotonic h-enhancement. One other thing I might want to consider is that there are cases in which there is an abnormal stability enhancement due to the fact that the searchers interact between them and gain stability. I'm thinking specifically in the formation of DNA-mediated PR tetramer loops. The idea would be that if only a few sites are occupied at any given time, there is little probability of formation of the super-loops. Imagine the case in which there is only one searcher: then there is no possibility of formation of a di-molecular complex.\n",
    "\n",
    "Here I'm thinking that the searcher in question is a PR homo-dimer. The PR as a monomer practically does not exist, and there is very little possibility of formation of tetramers in free solution.\n",
    "\n",
    "From the techical point of view the simulation code now is slightly more involved. I need to figure out a way of including the contacts between the sites. I'll suppose a contact matrix between the sites.\n",
    "\n",
    "I'll drop the transition matrix non-uniformness, for simplicity. I'll also drop the \"searcher\" class, which seems not important. I'll also drop the \"sigma\" parameter which is totally irrelevant."
   ]
  },
  {
   "cell_type": "code",
   "execution_count": null,
   "metadata": {},
   "outputs": [],
   "source": [
    "def init_omega_t(n,mu,seed=None) :\n",
    "    # init the random number generator if it was passed\n",
    "    if seed is not None :\n",
    "        np.random.seed(seed)\n",
    "    # init omega vector\n",
    "    omega_t = np.zeros(n,dtype=bool)\n",
    "    # fill with initial occupancy\n",
    "    omega_t[np.random.choice(n,mu,replace=False)] = True\n",
    "    return omega_t"
   ]
  },
  {
   "cell_type": "code",
   "execution_count": null,
   "metadata": {},
   "outputs": [],
   "source": [
    "def run_chair_simulation(nsteps,omega_t_initial,H,site_taus,boost,\n",
    "                         seed=None,teq=0,tsample=1) :\n",
    "    # init the random number generator if it was passed\n",
    "    if seed is not None :\n",
    "        np.random.seed(seed)\n",
    "    # make an internal copy of the initial omega_t vector\n",
    "    omega_t = omega_t_initial.copy()\n",
    "    # no need to pass N,n,m through the arguments of the function\n",
    "    n = omega_t.size\n",
    "    m = omega_t.sum()\n",
    "    # init jumping matrix\n",
    "    J = np.zeros((n,n)).astype(np.int32)\n",
    "    # init searcher_sites\n",
    "    searcher_sites = -1 * np.ones(n,dtype=np.int32)\n",
    "    searcher_sites[omega_t] = np.arange(m)\n",
    "    # init searcher_times\n",
    "    searcher_times = np.zeros(m)\n",
    "    for s in xrange(m) :\n",
    "        searcher_id = searcher_sites[s]\n",
    "        if searcher_id != -1 :\n",
    "            searcher_times[searcher_id] = site_taus[s]\n",
    "    # init sampling matrix\n",
    "    nsamples = (nsteps-teq)/tsample\n",
    "    samples = np.zeros((nsamples,n),dtype=bool)\n",
    "    i_sample = 0\n",
    "    # cycle on time\n",
    "    for step in xrange(1,nsteps+1) :\n",
    "        # cycle on the searchers\n",
    "        for s in xrange(n) :\n",
    "            searcher_id = searcher_sites[s]\n",
    "            if searcher_id != -1 :\n",
    "                # if the searcher has to stay longer on the site, skip it\n",
    "                if step>=searcher_times[searcher_id] :\n",
    "                    # now get the next site\n",
    "                    next_site = np.random.choice(np.where(~omega_t)[0])\n",
    "                    # update omega matrix\n",
    "                    omega_t[s] = False\n",
    "                    omega_t[next_site] = True\n",
    "                    # update jumping matrix\n",
    "                    J[s,next_site] += 1\n",
    "                    # update searcher_sites\n",
    "                    searcher_sites[s] = -1\n",
    "                    searcher_sites[next_site] = searcher_id\n",
    "                    # update searcher_times\n",
    "                    next_td = site_taus[next_site]\n",
    "                    for contact in H[next_site] :\n",
    "                        contact_searcher_id = searcher_sites[contact]\n",
    "                        if contact_searcher_id != -1 :\n",
    "                            next_td *= boost\n",
    "                            searcher_times[contact_searcher_id] = step + next_td\n",
    "                            break\n",
    "                    searcher_times[searcher_id] = step + next_td\n",
    "        # update samples\n",
    "        if step>teq and (step-teq)%tsample==0 :\n",
    "            samples[i_sample,:] = omega_t\n",
    "            i_sample += 1\n",
    "    return omega_t, J, samples"
   ]
  },
  {
   "cell_type": "code",
   "execution_count": null,
   "metadata": {},
   "outputs": [],
   "source": [
    "class JumpingModel :\n",
    "    def __init__ (self,H,site_taus,boost) :\n",
    "        self.H = H\n",
    "        self.site_taus = site_taus\n",
    "        self.boost = boost\n",
    "        self.J = {}\n",
    "        self.samples = {}\n",
    "        self.theta = {}\n",
    "    def run(self,nsteps,omega_t_initial,seed=None,teq=0,tsample=1) :\n",
    "        omega_t,self.J[mu],self.samples[mu] = \\\n",
    "            run_chair_simulation(nsteps,\n",
    "                                 omega_t_initial,\n",
    "                                 self.H,\n",
    "                                 self.site_taus,\n",
    "                                 self.boost,\n",
    "                                 seed=None,teq=0,tsample=1)\n",
    "        self.theta[mu] = self.samples[mu].sum(axis=0)/float(self.samples[mu].sum())"
   ]
  },
  {
   "cell_type": "markdown",
   "metadata": {},
   "source": [
    "This is the simulation code. Now I'll test what happens if everything is normal."
   ]
  },
  {
   "cell_type": "code",
   "execution_count": null,
   "metadata": {},
   "outputs": [],
   "source": [
    "# general simulation parameters\n",
    "nsteps = 10000\n",
    "n = 100\n",
    "H = [[] for i in xrange(n)]\n",
    "boost = None\n",
    "# init site_taus\n",
    "Hsites = [2,6]\n",
    "Lsites = [i for i in xrange(n) if i not in Hsites]\n",
    "site_taus = 2.0*np.ones(n)\n",
    "site_taus[Hsites] = 20.0\n",
    "# init the Jumping Model\n",
    "uniform = JumpingModel(H,site_taus,boost)\n",
    "# cycle on mu values\n",
    "mus = np.arange(1,20,2)\n",
    "np.random.seed(85498)\n",
    "samples = {}\n",
    "for mu in mus :\n",
    "    mbt.log_message('Uniform','mu = %d'%(mu))\n",
    "    # init omega_t\n",
    "    omega_t_initial = init_omega_t(n,mu)\n",
    "    uniform.run(nsteps,omega_t_initial)\n",
    "pr_peaks.H_to_L(uniform,Hsites,Lsites)"
   ]
  },
  {
   "cell_type": "code",
   "execution_count": null,
   "metadata": {},
   "outputs": [],
   "source": [
    "plt.plot(mus,uniform.H_to_L,'o--')\n",
    "plt.xlabel(r'$\\mu$')\n",
    "plt.ylabel('H to L ratio')\n",
    "plt.show()"
   ]
  },
  {
   "cell_type": "markdown",
   "metadata": {},
   "source": [
    "Okay, this is the normal result that we expect. Now let's proceed with a simple case: an H site is in contact with another H site."
   ]
  },
  {
   "cell_type": "code",
   "execution_count": null,
   "metadata": {},
   "outputs": [],
   "source": [
    "# general simulation parameters\n",
    "nsteps = 10000\n",
    "n = 100\n",
    "# init site_taus\n",
    "Hsites = [2,6,10,40,50,60,70,80]\n",
    "Lsites = [i for i in xrange(n) if i not in Hsites]\n",
    "site_taus = 2.0*np.ones(n)\n",
    "site_taus[Hsites] = 20.0\n",
    "# init H and boost\n",
    "H = [[] for i in xrange(n)]\n",
    "H[Hsites[0]] = [Hsites[1]]\n",
    "H[Hsites[1]] = [Hsites[0]]\n",
    "boost = 4.0\n",
    "# init the Jumping Model\n",
    "HH = JumpingModel(H,site_taus,boost)\n",
    "# cycle on mu values\n",
    "mus = np.arange(1,20,2)\n",
    "np.random.seed(85498)\n",
    "samples = {}\n",
    "for mu in mus :\n",
    "    mbt.log_message('HH','mu = %d'%(mu))\n",
    "    # init omega_t\n",
    "    omega_t_initial = init_omega_t(n,mu)\n",
    "    HH.run(nsteps,omega_t_initial)\n",
    "pr_peaks.H_to_L(HH,Hsites,Lsites)"
   ]
  },
  {
   "cell_type": "code",
   "execution_count": null,
   "metadata": {},
   "outputs": [],
   "source": [
    "plt.plot(mus,HH.H_to_L,'o--',color='b',label='HH model')\n",
    "plt.plot(mus,uniform.H_to_L,'o--',color='r',label='Uniform model')\n",
    "plt.xlabel(r'$\\mu$')\n",
    "plt.ylabel('H to L ratio')\n",
    "plt.legend(loc='upper right')\n",
    "plt.show()"
   ]
  },
  {
   "cell_type": "markdown",
   "metadata": {},
   "source": [
    "So I finally obtain something which is convincingly pointing to the direction that this can be an explanation for the h-enhancement!\n",
    "\n",
    "## Back to the data\n",
    "\n",
    "I want now to look at potential ways to pin down the parameters of the model based on the data that we have.\n",
    "\n",
    "I want to look at the matrix of contacts between H and H peaks. The first approach I want to take is to look at the BAM file of the HiC experiment and look at the number of reads corresponding to the contacts between the H and the H sites."
   ]
  },
  {
   "cell_type": "code",
   "execution_count": null,
   "metadata": {},
   "outputs": [],
   "source": [
    "# load data corresponding to the various conditions\n",
    "high       = pr_peaks.Condition('high'  ,'all_treated',0.05,'gv_107_01_01_chipseq')\n",
    "medium     = pr_peaks.Condition('medium','3HCP'       ,0.50,'gv_109_01_01_chipseq')\n",
    "low        = pr_peaks.Condition('low'   ,'1HCP'       ,10.0,'gv_111_01_01_chipseq')"
   ]
  },
  {
   "cell_type": "code",
   "execution_count": null,
   "metadata": {},
   "outputs": [],
   "source": [
    "# extract the peak information\n",
    "Hpeaks = high.peaks\n",
    "Mpeaks = medium.peaks\n",
    "Lpeaks = low.peaks"
   ]
  },
  {
   "cell_type": "code",
   "execution_count": null,
   "metadata": {},
   "outputs": [],
   "source": [
    "# get the location of the BAM files corresponding to the HiC and HiChIP data\n",
    "hichip_sample_id = '9a7c4a68d_6313677b5'\n",
    "hic_sample_id = '9a7c4a68d_51720e9cf'\n",
    "hichip_file = mbt.hic_bam_location(hichip_sample_id)\n",
    "hic_file = mbt.hic_bam_location(hic_sample_id)"
   ]
  },
  {
   "cell_type": "markdown",
   "metadata": {},
   "source": [
    "Now I write a piece of code to do this dirty business."
   ]
  },
  {
   "cell_type": "code",
   "execution_count": null,
   "metadata": {},
   "outputs": [],
   "source": [
    "def peak_id_string(peak) :\n",
    "    return '%s_%d_%d'%(peak['chr'],peak['start'],peak['end'])"
   ]
  },
  {
   "cell_type": "code",
   "execution_count": null,
   "metadata": {},
   "outputs": [],
   "source": [
    "def peak_contacts_from_bam(bam,regions1,regions2,flag=1807) :\n",
    "    \"\"\"\n",
    "    Using pysam (that is, samtools), take a bam file and extract the reads of a\n",
    "    hi-c file corresponding to the contacts between the regions defined in the \n",
    "    variables `regions1` and `regions2`.\n",
    "    \"\"\"\n",
    "    chromosomes = np.unique(regions2['chr'])\n",
    "    regions2_ordered = {}\n",
    "    for chromosome in chromosomes :\n",
    "        regions2_ordered[chromosome] = np.array([p for p in regions2 if p['chr']==chromosome])\n",
    "        regions2_ordered[chromosome].sort()\n",
    "    # make a table of indices of the regions to evaluate\n",
    "    regions2_indices = {}\n",
    "    i = 0\n",
    "    for region2 in regions2 :\n",
    "        id_string = peak_id_string(region2)\n",
    "        regions2_indices[id_string] = i\n",
    "        i+=1\n",
    "    # init the matrix\n",
    "    n1 = len(regions1)\n",
    "    n2 = len(regions2)\n",
    "    H = np.zeros((n1,n2),dtype=np.int32)\n",
    "    # the 'b' flag here indicates that we are dealing with a bam file\n",
    "    with pysam.AlignmentFile(bam,'rb') as samfile :\n",
    "        # iterate over all the reads in regions1\n",
    "        for i,region1 in enumerate(regions1) :\n",
    "            chromosome,start1,end1 = region1\n",
    "            chromosome = str(chromosome)\n",
    "            samiter = samfile.fetch(chromosome,start1-2500,end1+2500)\n",
    "            mbt.log_message('peak_contacts_from_bam','Read %d/%d'%(i,n1))\n",
    "            # iterate\n",
    "            for read in samiter :\n",
    "                if read.flag <= flag :\n",
    "                    pos2 = read.next_reference_start\n",
    "                    chromosome2 = read.next_reference_name\n",
    "                    if chromosome2 in chromosomes :\n",
    "                        for region2 in regions2_ordered[chromosome2] :\n",
    "                            c,start2,end2 = region2\n",
    "                            if pos2>=start2-2500 and pos2<=end2+2500:\n",
    "                                id_string = peak_id_string(region2)\n",
    "                                j = regions2_indices[id_string]\n",
    "                                H[i,j] += 1\n",
    "                                H[j,i] += 1\n",
    "    return H"
   ]
  },
  {
   "cell_type": "code",
   "execution_count": null,
   "metadata": {},
   "outputs": [],
   "source": [
    "H = peak_contacts_from_bam(hic_file,Hpeaks,Hpeaks)"
   ]
  },
  {
   "cell_type": "code",
   "execution_count": null,
   "metadata": {},
   "outputs": [],
   "source": [
    "Hnodiag = H.copy()\n",
    "for i in xrange(H.shape[0]) :\n",
    "    Hnodiag[i,i] = 0\n",
    "fig = plt.figure(figsize=(8,8))\n",
    "ax = plt.subplot(111)\n",
    "ax.matshow(1-np.log(Hnodiag),cmap=plt.cm.gray)\n",
    "plt.show()"
   ]
  },
  {
   "cell_type": "markdown",
   "metadata": {},
   "source": [
    "It is pretty clear that there is nothing here. The regions that correspond to the regions under examination are too small to give a significant number of reads outside of the diagonal. Better to look at the binned HiC matrix and extract the columns/rows corresponding to the peaks."
   ]
  },
  {
   "cell_type": "code",
   "execution_count": null,
   "metadata": {},
   "outputs": [],
   "source": [
    "resolution = 50000\n",
    "hic_mat_file = mbt.hic_location(hic_sample_id,resolution)\n",
    "Hic = mbt.parse_hic(hic_mat_file)"
   ]
  },
  {
   "cell_type": "code",
   "execution_count": null,
   "metadata": {},
   "outputs": [],
   "source": [
    "chromosomes = np.unique(Hic['chr'])\n",
    "chromosomes.sort()\n",
    "for chromosome in chromosomes :\n",
    "    Hic_chromosome = np.array([r for r in Hic if r['chr']==chromosome])\n",
    "    ivals = np.unique(Hic_chromosome['i'])\n",
    "    print \"Chromosome %s: %4d  values\"%(chromosome,ivals.size)"
   ]
  },
  {
   "cell_type": "code",
   "execution_count": null,
   "metadata": {},
   "outputs": [],
   "source": [
    "def counts_to_hic (counts,start,end,resolution) :\n",
    "    \"\"\"\n",
    "    Returns a complete filled matrix given the 'counts' array, by taking\n",
    "    for granted that the counts correspond to a given chromosome.\n",
    "    \"\"\"\n",
    "    N = (end-start)/resolution + 1\n",
    "    H = np.zeros((N,N),dtype=counts['val'].dtype)\n",
    "    for h in counts :\n",
    "        i = (h['i']-start)/resolution\n",
    "        j = (h['j']-start)/resolution\n",
    "        H[i,j] = H[j,i] = h['val']\n",
    "    return H"
   ]
  },
  {
   "cell_type": "code",
   "execution_count": null,
   "metadata": {},
   "outputs": [],
   "source": [
    "chromosome = 'chr20'\n",
    "Hpeaks_chromosome = np.array([p for p in Hpeaks if p['chr']==chromosome])\n",
    "hic_chromosome = np.array([h for h in Hic if h['chr']==chromosome])\n",
    "N = max(hic_chromosome['i'].max(),hic_chromosome['j'].max())\n",
    "n = N/resolution\n",
    "H = counts_to_hic(hic_chromosome,0,N,resolution)"
   ]
  },
  {
   "cell_type": "code",
   "execution_count": null,
   "metadata": {},
   "outputs": [],
   "source": [
    "x = np.arange(n)\n",
    "y = np.zeros(n)\n",
    "for p in Hpeaks_chromosome :\n",
    "    i = p['start']/resolution\n",
    "    y[i] = 1.0"
   ]
  },
  {
   "cell_type": "code",
   "execution_count": null,
   "metadata": {},
   "outputs": [],
   "source": [
    "fig = plt.figure(figsize=(10,11))\n",
    "gs = plt.GridSpec(2,1,hspace=0,height_ratios=[10,1])\n",
    "ax = plt.subplot(gs[0,0])\n",
    "ax.matshow(1-np.log(H),cmap=plt.cm.Greens)\n",
    "ax = plt.subplot(gs[1,0],sharex=ax)\n",
    "mbt.line_plot(ax,x,y)\n",
    "plt.show()"
   ]
  },
  {
   "cell_type": "markdown",
   "metadata": {},
   "source": [
    "Now, there is no clear pattern emerging from this figure. This is a case in which it is difficult to draw conclusions just by visually looking at the patterns of the HiC data. Another approach is possible though. In a scenario in which the tetramerization is really the responsible for the h-enhancement, there needs to be a subset of the H peaks that show the enrichment. I'll show this in the next notebook."
   ]
  }
 ],
 "metadata": {
  "kernelspec": {
   "display_name": "Python 2",
   "language": "python",
   "name": "python2"
  },
  "language_info": {
   "codemirror_mode": {
    "name": "ipython",
    "version": 2
   },
   "file_extension": ".py",
   "mimetype": "text/x-python",
   "name": "python",
   "nbconvert_exporter": "python",
   "pygments_lexer": "ipython2"
  }
 },
 "nbformat": 4,
 "nbformat_minor": 2
}
