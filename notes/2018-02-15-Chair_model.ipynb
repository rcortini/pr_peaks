{
 "cells": [
  {
   "cell_type": "code",
   "execution_count": null,
   "metadata": {},
   "outputs": [],
   "source": [
    "%matplotlib inline\n",
    "%load_ext autoreload\n",
    "%autoreload 2"
   ]
  },
  {
   "cell_type": "code",
   "execution_count": null,
   "metadata": {},
   "outputs": [],
   "source": [
    "import numpy as np\n",
    "import matplotlib.pyplot as plt\n",
    "import mybiotools as mbt"
   ]
  },
  {
   "cell_type": "markdown",
   "metadata": {},
   "source": [
    "# 2018-02-15 Chair model\n",
    "I want to look at my original \"chair\" model in more detail. I left that a little bit hanging because I realized that the occupancy per searcher is not an observable in the biological experiments that interest me. Here, I want to try another approach. I want to perform simulations on a model which resebmles more a biological experiment. The idea is that in a given ChIP-seq experiment one does not know the number of cells, the number of proteins present in the system, and the cell-to-cell variablility.\n",
    "\n",
    "## Model setup\n",
    "\n",
    "### Basics\n",
    "\n",
    "The model will be built like this:\n",
    "\n",
    "- I consider $N$ equivalent systems made of $n$ sites each, which are explored by searchers. Each site has a characteristic time $\\tau_j$, where $j$ is the index that runs over the sites. Whenever a searcher hits site $j$, if the site is empty it will stay on that site for a time randomly extracted from the exponential distribution with characteristic time $\\tau_j$.\n",
    "- I consider that the number of searchers is not the same for each system, so that there is no way of normalizing the occupancy per searcher. The number of searchers for the $i$-th system is $m_j$.The number of searchers per system will be extracted from a Gaussian distribution with mean $\\mu$ and variance $\\sigma^2$.\n",
    "\n",
    "The occupancy at each time step is determined by the matrix $\\Omega(t)$. Such matrix has the system ids as row indices and the site ids as the column indices. The values of the matrix $\\Omega_{ij}(t)$ can be either zero or one, depending on whether the $j$-th site of the $i$-th system is empty or occupied at time $t$. The sum rule for the rows of the matrix therefore reads\n",
    "\n",
    "$\\sum_{j=1}^n \\Omega_{ij}(t) = m_j$\n",
    "\n",
    "The occupancy at a given time step is the observable that we are interested in. In fact, in a real biological case one can imagine that a snapshot of the system is performed at a given time, and one measures the total number of particles sitting on a given site of the system. Therefore, I will never perform time averages. Instead, I will focus my attention on the occupancy vector\n",
    "\n",
    "$\\bar{\\Omega}_j (t) = \\sum_{i=1}^N \\Omega_{ij} (t)$\n",
    "\n",
    "### Transition probabilities\n",
    "\n",
    "The Markov process that governs the search is expressed mathematically by setting the transition matrix $T$. The element $T_{kl}$ is defined as the probability that at any given instant a particle on site $k$ performes a transition to site $l$. The matrix is defined as normalized, so that $\\sum_l T_{kl} = 1$.\n",
    "\n",
    "\n",
    "## Code setup\n",
    "Whenever a searcher needs to move (recall: not at every time step) then it searches for available sites on the system. Therefore it will get an array of indices ${\\alpha}$ corresponding to the indices of the free sites in the system. It then obtains a reduced transition matrix $T_{l\\alpha}$ which will be normalized to its own sum. This is the transition matrix for that particular step in the simulation."
   ]
  },
  {
   "cell_type": "markdown",
   "metadata": {},
   "source": [
    "## Code setup\n",
    "\n",
    "### Main simulation functions and data structures\n",
    "\n",
    "The search process will be modelled using a special class defined ad hoc. The \"Searcher\" class contains a searcher identity, the site on which the searcher is, and a parameter defining how long the searcher will spend on that given site."
   ]
  },
  {
   "cell_type": "code",
   "execution_count": null,
   "metadata": {},
   "outputs": [],
   "source": [
    "class Searcher :\n",
    "    def __init__(self,index,site,td) :\n",
    "        self.index = index\n",
    "        self.site = site\n",
    "        self.td = td"
   ]
  },
  {
   "cell_type": "markdown",
   "metadata": {},
   "source": [
    "I init a list of lists of searchers, which corresponds to the searchers that perform the random walks on each of the systems defined in the model."
   ]
  },
  {
   "cell_type": "code",
   "execution_count": null,
   "metadata": {},
   "outputs": [],
   "source": [
    "def init_searchers(omega_t,site_taus) :\n",
    "    \"\"\"\n",
    "    Initializes the searchers in the system. Note that this function will only\n",
    "    be invoked from within the main simulation loop, so the \"searchers\" list that\n",
    "    will be created is only visible internally, as a convenient data structure to\n",
    "    keep track of what's going on, and not to the external world to see.\n",
    "    \"\"\"\n",
    "    # get parameters from the omega_t matrix\n",
    "    N,n = omega_t.shape\n",
    "    m = omega_t.sum(axis=1)\n",
    "    # init the searchers\n",
    "    searchers = []\n",
    "    for i in xrange(N) :\n",
    "        searchers_system = []\n",
    "        # \"searcher_sites\" is a vector of indices containing the indices\n",
    "        # of the sites occupied by the searchers\n",
    "        searcher_sites = np.where(omega_t[i])[0]\n",
    "        for s in xrange(m[i]) :\n",
    "            site = searcher_sites[s]\n",
    "            td = np.random.exponential(scale=site_taus[site])\n",
    "            searcher = Searcher(s,site,td)\n",
    "            searchers_system.append(searcher)\n",
    "            # print \"System %d: Searcher %d on site %d with tau = %.3f\"%(i,s,site,td)\n",
    "        searchers.append(searchers_system)\n",
    "    return searchers"
   ]
  },
  {
   "cell_type": "markdown",
   "metadata": {},
   "source": [
    "Below is the main simulation function of the system. It takes the `omega_t` matrix, and runs the simulation for `nsteps`."
   ]
  },
  {
   "cell_type": "code",
   "execution_count": null,
   "metadata": {},
   "outputs": [],
   "source": [
    "def run_chair_simulation(nsteps,omega_t_initial,T,site_taus,seed=None) :\n",
    "    # init the random number generator if it was passed\n",
    "    if seed is not None :\n",
    "        np.random.seed(seed)\n",
    "    # make an internal copy of the initial omega_t matrix\n",
    "    omega_t = omega_t_initial.copy()\n",
    "    # no need to pass N,n,m through the arguments of the function\n",
    "    N,n = omega_t.shape\n",
    "    m = omega_t.sum(axis=1)\n",
    "    # init searchers\n",
    "    searchers = init_searchers(omega_t,site_taus)\n",
    "    # cycle on time\n",
    "    for step in xrange(1,nsteps+1) :\n",
    "        # cycle on the systems\n",
    "        for i in xrange(N) :\n",
    "            # cycle on the searchers\n",
    "            for s in xrange(m[i]) :\n",
    "                searcher = searchers[i][s]\n",
    "                # if the searcher has to stay longer on the site, skip it\n",
    "                if step>searcher.td :\n",
    "                    # if not, get the elements corresponding to the transition matrix\n",
    "                    free_sites = np.where(~omega_t[i,:])[0]\n",
    "                    Tstar = T[searcher.site,free_sites]\n",
    "                    Tstar /= Tstar.sum()\n",
    "                    # now get the next site\n",
    "                    next_site = np.random.choice(free_sites,p=Tstar)\n",
    "                    # print info if needed\n",
    "                    # print \"Step %d (tau = %.1f): %d --> %d\"%(step,searcher.td,\n",
    "                                                               #searcher.site,next_site)\n",
    "                    # update omega matrix\n",
    "                    omega_t[i,searcher.site] = False\n",
    "                    omega_t[i,next_site] = True\n",
    "                    # update searcher\n",
    "                    searcher.site = next_site\n",
    "                    searcher.td = step + np.random.exponential(scale=site_taus[searcher.site])\n",
    "    return omega_t"
   ]
  },
  {
   "cell_type": "code",
   "execution_count": null,
   "metadata": {},
   "outputs": [],
   "source": [
    "def init_omega_t(N,n,mu,sigma,seed=None) :\n",
    "    # init the random number generator if it was passed\n",
    "    if seed is not None :\n",
    "        np.random.seed(init_seed)\n",
    "    # init searcher numbers\n",
    "    m = np.random.normal(loc=mu,scale=sigma,size=N).astype(np.int32)\n",
    "    # ensures that no system has more searchers than available sites and that\n",
    "    # every system has at least one searcher\n",
    "    m[m>n] = n\n",
    "    m[m<=1] = 1\n",
    "    # init omega matrix\n",
    "    omega_t = np.zeros((N,n),dtype=bool)\n",
    "    # fill with initial occupancy\n",
    "    for i in xrange(N) :\n",
    "        omega_t[i,np.random.choice(n,m[i],replace=False)] = True\n",
    "    return omega_t"
   ]
  },
  {
   "cell_type": "markdown",
   "metadata": {},
   "source": [
    "### Initialization of the system\n",
    "\n",
    "We first initialize the constants of the system, and the $\\Omega (t)$ matrix."
   ]
  },
  {
   "cell_type": "code",
   "execution_count": null,
   "metadata": {},
   "outputs": [],
   "source": [
    "# init constants of the system\n",
    "N = 100                                  # number of equivalent systems\n",
    "n = 340                                   # number of sites in each system"
   ]
  },
  {
   "cell_type": "markdown",
   "metadata": {},
   "source": [
    "Concerning the site-specific affinity, I'll start by considering a special case, which is that all sites have a low affinity, some have medium affinity, and very few have high affinity."
   ]
  },
  {
   "cell_type": "code",
   "execution_count": null,
   "metadata": {},
   "outputs": [],
   "source": [
    "Msites = [5,100,150,200,250,300]\n",
    "Hsites = [50,175]\n",
    "site_taus = np.ones(n)\n",
    "site_taus[Msites] = 5.0\n",
    "site_taus[Hsites] = 20.0\n",
    "# plot it\n",
    "fig = plt.figure(figsize=(10,3))\n",
    "plt.bar(np.arange(n),site_taus)\n",
    "plt.xlabel(\"Site index\")\n",
    "plt.ylabel(r\"$\\tau$\")\n",
    "plt.show()"
   ]
  },
  {
   "cell_type": "markdown",
   "metadata": {},
   "source": [
    "## Uniform transition probability\n",
    "Let's start with the simple case in which the transition matrix is uniform. That is to say, the probability of jumping from any site to any other site is constant."
   ]
  },
  {
   "cell_type": "code",
   "execution_count": null,
   "metadata": {},
   "outputs": [],
   "source": [
    "# init the transition probability\n",
    "Tflat = np.ones((n,n))/n"
   ]
  },
  {
   "cell_type": "code",
   "execution_count": null,
   "metadata": {},
   "outputs": [],
   "source": [
    "%%time\n",
    "nsteps = 1000\n",
    "sigma = 2\n",
    "seed = 9889765\n",
    "mus = [1,10,20]\n",
    "sims = {}\n",
    "for mu in mus :\n",
    "    print \"Mu = %d\"%(mu)\n",
    "    omega_t_initial = init_omega_t(N,n,mu,sigma)\n",
    "    sims[mu] = run_chair_simulation(nsteps,omega_t_initial,Tflat,site_taus)"
   ]
  },
  {
   "cell_type": "code",
   "execution_count": null,
   "metadata": {},
   "outputs": [],
   "source": [
    "fig,axarr = plt.subplots(len(mus),1,figsize=(10,5))\n",
    "x = np.arange(n)\n",
    "show_xaxis=False\n",
    "for i,mu in enumerate(mus) :\n",
    "    ax = axarr[i]\n",
    "    if i==2 :\n",
    "        show_xaxis=True\n",
    "    mbt.line_plot(ax,x,sims[mu].sum(axis=0),show_xaxis=show_xaxis,color='b')\n",
    "    ax.text(0.8,0.8,r'$\\mu = %.1f$'%(mu),transform=ax.transAxes,fontsize=18)\n",
    "            \n",
    "plt.show()"
   ]
  },
  {
   "cell_type": "code",
   "execution_count": null,
   "metadata": {},
   "outputs": [],
   "source": [
    "fig = plt.figure(figsize=(10,10))\n",
    "plt.matshow(sims[1])"
   ]
  },
  {
   "cell_type": "code",
   "execution_count": null,
   "metadata": {},
   "outputs": [],
   "source": [
    "Lsites = range(n)\n",
    "for site in Hsites :\n",
    "    Lsites.remove(site)\n",
    "for site in Msites :\n",
    "    Lsites.remove(site)"
   ]
  },
  {
   "cell_type": "code",
   "execution_count": null,
   "metadata": {},
   "outputs": [],
   "source": [
    "M_to_L = np.zeros(len(mus))\n",
    "for i,mu in enumerate(mus) :\n",
    "    traffic = sims[mu].sum(axis=0)\n",
    "    H_to_L[i] = traffic[Hsites].mean()/traffic[Lsites].mean()\n",
    "    M_to_L[i] = traffic[Msites].mean()/traffic[Lsites].mean()"
   ]
  },
  {
   "cell_type": "code",
   "execution_count": null,
   "metadata": {},
   "outputs": [],
   "source": [
    "plt.plot(mus,H_to_L,color='b')\n",
    "plt.plot(mus,M_to_L,color='r')"
   ]
  }
 ],
 "metadata": {
  "kernelspec": {
   "display_name": "Python 2",
   "language": "python",
   "name": "python2"
  },
  "language_info": {
   "codemirror_mode": {
    "name": "ipython",
    "version": 2
   },
   "file_extension": ".py",
   "mimetype": "text/x-python",
   "name": "python",
   "nbconvert_exporter": "python",
   "pygments_lexer": "ipython2"
  }
 },
 "nbformat": 4,
 "nbformat_minor": 2
}
