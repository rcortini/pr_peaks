{
 "cells": [
  {
   "cell_type": "code",
   "execution_count": null,
   "metadata": {},
   "outputs": [],
   "source": [
    "%matplotlib inline\n",
    "%load_ext autoreload\n",
    "%autoreload 2"
   ]
  },
  {
   "cell_type": "code",
   "execution_count": null,
   "metadata": {},
   "outputs": [],
   "source": [
    "import numpy as np\n",
    "import matplotlib.pyplot as plt\n",
    "import mybiotools as mbt\n",
    "import pysam\n",
    "import os"
   ]
  },
  {
   "cell_type": "markdown",
   "metadata": {},
   "source": [
    "# 2018-02-19 Number of reads analysis\n",
    "I want to perform the same analysis as before, but simply looking at the number of reads corresponding to each of the peaks.\n",
    "\n",
    "The pieces of code below are just copy/pasted from my previous notebook."
   ]
  },
  {
   "cell_type": "code",
   "execution_count": null,
   "metadata": {},
   "outputs": [],
   "source": [
    "def chipseq_bam_location (sample_id,xavi_datadir='/mnt/xavi/data') :\n",
    "    # build the directory name where the files are\n",
    "    d = \"%s/chipseq/samples/%s/alignments\"%(xavi_datadir,sample_id)\n",
    "    # select all files that end with \".bw\" in the directory, and\n",
    "    # then prefer to read the one that is in the directory that has\n",
    "    # \"with_control\"\n",
    "    peakfiles = []\n",
    "    for root,sub,files in os.walk(d) :\n",
    "        for f in files :\n",
    "            if f.endswith (\".bam\") :\n",
    "                peakfiles.append('%s/%s'%(root,f))\n",
    "    fin = None\n",
    "    for peakfile in peakfiles :\n",
    "        if 'with_control' in peakfile :\n",
    "            fin = peakfile\n",
    "            break\n",
    "        else :\n",
    "            fin = peakfile\n",
    "    if fin is None :\n",
    "        warn_message('chipseq_bam_location','Data not found for %s'%sample_id)\n",
    "    return fin"
   ]
  },
  {
   "cell_type": "code",
   "execution_count": null,
   "metadata": {},
   "outputs": [],
   "source": [
    "class Condition :\n",
    "    def __init__(self,name,peak_code,concentration,sample_id) :\n",
    "        self.name = name\n",
    "        self.peak_code = peak_code\n",
    "        self.concentration = concentration\n",
    "        self.sample_id = sample_id\n",
    "        # load the peaks\n",
    "        self.peaks = mbt.load_hcp_peaks(self.peak_code)\n",
    "        # init the BAM file\n",
    "        self.bam_file = chipseq_bam_location(sample_id)\n",
    "        # init the pysam parser\n",
    "        self.bam = pysam.AlignmentFile(self.bam_file)\n",
    "    def peak_counts(self,peak) :\n",
    "        chromosome,start,end = peak\n",
    "        chromosome = str(chromosome)\n",
    "        # use the BigWig parser to get the stats of the peak\n",
    "        return self.bam.count(chromosome,start,end)\n",
    "    def __del__(self) :\n",
    "        self.bam.close()"
   ]
  },
  {
   "cell_type": "code",
   "execution_count": null,
   "metadata": {},
   "outputs": [],
   "source": [
    "def average_peak_counts(peaks,condition) :\n",
    "    npeaks = peaks.size\n",
    "    pcounts = np.zeros(npeaks)\n",
    "    for i,peak in enumerate(peaks) :\n",
    "        pcounts[i] = condition.peak_counts(peak)\n",
    "    return pcounts.mean()"
   ]
  },
  {
   "cell_type": "code",
   "execution_count": null,
   "metadata": {},
   "outputs": [],
   "source": [
    "# use my lovely \"Condition\" class to get my data nicely packed into convenient data structures\n",
    "high       = Condition('high'   ,'all_treated',0.05,'gv_107_01_01_chipseq')\n",
    "medium1    = Condition('medium1','4HCP'       ,0.10,'gv_108_01_01_chipseq')\n",
    "medium2    = Condition('medium2','3HCP'       ,0.50,'gv_109_01_01_chipseq')\n",
    "low        = Condition('low'    ,'1HCP'       ,10.0,'gv_111_01_01_chipseq')"
   ]
  },
  {
   "cell_type": "code",
   "execution_count": null,
   "metadata": {},
   "outputs": [],
   "source": [
    "high.avH  = average_peak_counts(high.peaks,high)\n",
    "high.avM1 = average_peak_counts(medium1.peaks,high)\n",
    "high.avM2 = average_peak_counts(medium2.peaks,high)\n",
    "high.avL  = average_peak_counts(low.peaks,high)"
   ]
  },
  {
   "cell_type": "code",
   "execution_count": null,
   "metadata": {},
   "outputs": [],
   "source": [
    "medium1.avH  = average_peak_counts(high.peaks,medium1)\n",
    "medium1.avM1 = average_peak_counts(medium1.peaks,medium1)\n",
    "medium1.avM2 = average_peak_counts(medium2.peaks,medium1)\n",
    "medium1.avL  = average_peak_counts(low.peaks,medium1)"
   ]
  },
  {
   "cell_type": "code",
   "execution_count": null,
   "metadata": {},
   "outputs": [],
   "source": [
    "medium2.avH  = average_peak_counts(high.peaks,medium2)\n",
    "medium2.avM1 = average_peak_counts(medium1.peaks,medium2)\n",
    "medium2.avM2 = average_peak_counts(medium2.peaks,medium2)\n",
    "medium2.avL  = average_peak_counts(low.peaks,medium2)"
   ]
  },
  {
   "cell_type": "code",
   "execution_count": null,
   "metadata": {},
   "outputs": [],
   "source": [
    "low.avH  = average_peak_counts(high.peaks,low)\n",
    "low.avM1 = average_peak_counts(medium1.peaks,low)\n",
    "low.avM2 = average_peak_counts(medium2.peaks,low)\n",
    "low.avL  = average_peak_counts(low.peaks,low)"
   ]
  },
  {
   "cell_type": "code",
   "execution_count": null,
   "metadata": {},
   "outputs": [],
   "source": [
    "print \"           avH     avM1    avM2     avL\"\n",
    "print \"High    :   %.3f    %.3f    %.3f     %.3f\"%(high.avH,high.avM1,high.avM2,high.avL)\n",
    "print \"Medium1 :   %.3f    %.3f    %.3f     %.3f\"%(medium1.avH,medium1.avM1,medium1.avM2,medium1.avL)\n",
    "print \"Medium2 :   %.3f    %.3f    %.3f     %.3f\"%(medium2.avH,medium2.avM1,medium2.avM2,medium2.avL)\n",
    "print \"Low     :   %.3f    %.3f    %.3f     %.3f\"%(low.avH,low.avM1,low.avM2,low.avL)"
   ]
  },
  {
   "cell_type": "code",
   "execution_count": null,
   "metadata": {},
   "outputs": [],
   "source": [
    "conditions = [high,medium1,medium2,low]"
   ]
  },
  {
   "cell_type": "code",
   "execution_count": null,
   "metadata": {},
   "outputs": [],
   "source": [
    "nconditions = len(conditions)\n",
    "H_to_L = np.zeros(nconditions)\n",
    "M1_to_L = np.zeros(nconditions)\n",
    "M2_to_L = np.zeros(nconditions)\n",
    "for i,condition in enumerate(conditions) :\n",
    "    H_to_L[i] = condition.avH/condition.avL\n",
    "    M1_to_L[i] = condition.avM1/condition.avL\n",
    "    M2_to_L[i] = condition.avM2/condition.avL"
   ]
  },
  {
   "cell_type": "code",
   "execution_count": null,
   "metadata": {},
   "outputs": [],
   "source": [
    "concentrations = [condition.concentration for condition in conditions]\n",
    "plt.loglog(concentrations,H_to_L,label='High')\n",
    "plt.loglog(concentrations,M1_to_L,label='Medium1')\n",
    "plt.loglog(concentrations,M2_to_L,label='Medium2')\n",
    "plt.legend(loc='upper right')\n",
    "plt.show()"
   ]
  },
  {
   "cell_type": "markdown",
   "metadata": {},
   "source": [
    "The results of this analysis, by using the ratio between the number of reads instead of the peak quality, shows that there is an interesting non-monotonic dependence of the ratio on the concentration.\n",
    "\n",
    "Let's think for a moment that this effect is real. I want to look at possible reasons why this can be the case. I'll turn back to the chair model and look at non-uniform transition matrices."
   ]
  },
  {
   "cell_type": "code",
   "execution_count": null,
   "metadata": {},
   "outputs": [],
   "source": []
  }
 ],
 "metadata": {
  "kernelspec": {
   "display_name": "Python 2",
   "language": "python",
   "name": "python2"
  },
  "language_info": {
   "codemirror_mode": {
    "name": "ipython",
    "version": 2
   },
   "file_extension": ".py",
   "mimetype": "text/x-python",
   "name": "python",
   "nbconvert_exporter": "python",
   "pygments_lexer": "ipython2"
  }
 },
 "nbformat": 4,
 "nbformat_minor": 2
}
