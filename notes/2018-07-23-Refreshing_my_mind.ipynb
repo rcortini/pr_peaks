{
 "cells": [
  {
   "cell_type": "code",
   "execution_count": null,
   "metadata": {},
   "outputs": [],
   "source": [
    "%matplotlib inline\n",
    "%load_ext autoreload\n",
    "%autoreload 2"
   ]
  },
  {
   "cell_type": "code",
   "execution_count": null,
   "metadata": {},
   "outputs": [],
   "source": [
    "import numpy as np\n",
    "import matplotlib.pyplot as plt\n",
    "import mybiotools as mbt\n",
    "import pr_peaks as pp\n",
    "import os, sys"
   ]
  },
  {
   "cell_type": "markdown",
   "metadata": {},
   "source": [
    "# 2018-07-23 Refreshing my mind\n",
    "Waiting for the new samples to be processed, I'll look at the code I wrot so far and try to re-obtain the results that I left.\n",
    "\n",
    "## Simulation results"
   ]
  },
  {
   "cell_type": "code",
   "execution_count": null,
   "metadata": {},
   "outputs": [],
   "source": [
    "n = 100                                         # number of sites in the system\n",
    "mu = 50                                         # number of searchers in the system\n",
    "omega_t_initial = pp.init_omega_t(n, mu)        # initial occupancy vector\n",
    "site_taus = 2.0 * np.ones(n)                    # time spent on each site\n",
    "Hsites = [10, 20, 30, 40, 50, 60, 70, 80, 90]\n",
    "site_taus[Hsites] = 20.0                        # define high-affinity sites\n",
    "H = [[] for i in xrange(n)]                     # contacts between sites\n",
    "boost = 1.0                                     # boost received for tetramerization"
   ]
  },
  {
   "cell_type": "code",
   "execution_count": null,
   "metadata": {},
   "outputs": [],
   "source": [
    "# define the JumpingModel\n",
    "uniform = pp.JumpingModel(H, site_taus, boost)\n",
    "\n",
    "# set the run parameters and run\n",
    "nsteps = 100000\n",
    "uniform.run(nsteps, omega_t_initial)"
   ]
  },
  {
   "cell_type": "code",
   "execution_count": null,
   "metadata": {},
   "outputs": [],
   "source": [
    "plt.plot(uniform.theta[mu])"
   ]
  },
  {
   "cell_type": "markdown",
   "metadata": {},
   "source": [
    "Bug spotted! This means that before refreshing my mind on how the analysis of the experimental data works, I need to find and fix this bug.\n",
    "\n",
    "I suspect that the origin of this bug is the fact that there is a sort of \"race condition\". In this variant of the algorithm, there is a deterministic amount of time that each of the searchers spend on each site. Since all the sites have exactly the same amount of time spent, then there are time steps in which many of the searchers need to find another site. The algorithm deals with every site in the system in a progressive way, so the result is that with very high probability the first sites will be occupied: in fact, they are the first ones being freed, so the last searchers always have those sites available.\n",
    "\n",
    "I'll see if this bug is fixed by a random order of picking the searchers."
   ]
  },
  {
   "cell_type": "code",
   "execution_count": null,
   "metadata": {},
   "outputs": [],
   "source": [
    "a = np.arange(n)\n",
    "print np.random.choice(a, size=n, replace=False)"
   ]
  },
  {
   "cell_type": "code",
   "execution_count": null,
   "metadata": {},
   "outputs": [],
   "source": [
    "# define the JumpingModel\n",
    "uniform = pp.JumpingModel(H, site_taus, boost)\n",
    "\n",
    "# set the run parameters and run\n",
    "nsteps = 100000\n",
    "uniform.run(nsteps, omega_t_initial)"
   ]
  },
  {
   "cell_type": "code",
   "execution_count": null,
   "metadata": {},
   "outputs": [],
   "source": [
    "plt.plot(uniform.theta[mu])"
   ]
  },
  {
   "cell_type": "markdown",
   "metadata": {},
   "source": [
    "Okay, bug fixed! The simulation time gets considerably slower, but this for the moment is not a big problem.\n",
    "\n",
    "Now let's perform the simulation for varying number of searchers."
   ]
  },
  {
   "cell_type": "code",
   "execution_count": null,
   "metadata": {},
   "outputs": [],
   "source": [
    "uniform = pp.JumpingModel(H, site_taus, boost)\n",
    "mus = np.arange(1, 20, 2)\n",
    "for mu in mus :\n",
    "    mbt.log_message('uniform', 'mu = %2d'%(mu))\n",
    "    omega_t_initial = pp.init_omega_t(n, mu)\n",
    "    uniform.run(nsteps, omega_t_initial)"
   ]
  },
  {
   "cell_type": "code",
   "execution_count": null,
   "metadata": {},
   "outputs": [],
   "source": [
    "Lsites = [i for i in xrange(n) if i not in Hsites]\n",
    "pp.H_to_L(uniform, Hsites, Lsites)\n",
    "plt.plot(mus, uniform.H_to_L)"
   ]
  },
  {
   "cell_type": "markdown",
   "metadata": {},
   "source": [
    "Now let's put back in the tetramerization boost."
   ]
  },
  {
   "cell_type": "code",
   "execution_count": null,
   "metadata": {},
   "outputs": [],
   "source": [
    "Hboost = [[] for i in xrange(n)]\n",
    "Hboost[Hsites[0]] = [Hsites[1]]\n",
    "Hboost[Hsites[1]] = [Hsites[0]]\n",
    "boost = 10.0\n",
    "HH = pp.JumpingModel(Hboost, site_taus, boost)\n",
    "for mu in mus :\n",
    "    mbt.log_message('HH', 'mu = %2d'%(mu))\n",
    "    omega_t_initial = pp.init_omega_t(n, mu)\n",
    "    HH.run(nsteps, omega_t_initial)"
   ]
  },
  {
   "cell_type": "code",
   "execution_count": null,
   "metadata": {},
   "outputs": [],
   "source": [
    "plt.plot(mus, HH.H_to_L, 'o--', color='b', label='HH model')\n",
    "plt.plot(mus, uniform.H_to_L, 'o--', color='r', label='Uniform model')\n",
    "plt.xlabel(r'$\\mu$')\n",
    "plt.ylabel('H to L ratio')\n",
    "plt.legend(loc='upper right')\n",
    "plt.show()"
   ]
  }
 ],
 "metadata": {
  "kernelspec": {
   "display_name": "Python 2",
   "language": "python",
   "name": "python2"
  },
  "language_info": {
   "codemirror_mode": {
    "name": "ipython",
    "version": 2
   },
   "file_extension": ".py",
   "mimetype": "text/x-python",
   "name": "python",
   "nbconvert_exporter": "python",
   "pygments_lexer": "ipython2"
  }
 },
 "nbformat": 4,
 "nbformat_minor": 2
}
