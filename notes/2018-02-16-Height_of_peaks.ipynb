{
 "cells": [
  {
   "cell_type": "code",
   "execution_count": null,
   "metadata": {},
   "outputs": [],
   "source": [
    "%matplotlib inline\n",
    "%load_ext autoreload\n",
    "%autoreload 2"
   ]
  },
  {
   "cell_type": "code",
   "execution_count": null,
   "metadata": {},
   "outputs": [],
   "source": [
    "import numpy as np\n",
    "import matplotlib.pyplot as plt\n",
    "import mybiotools as mbt\n",
    "import pyBigWig\n",
    "import os"
   ]
  },
  {
   "cell_type": "markdown",
   "metadata": {},
   "source": [
    "# 2018-02-16 Height of peaks\n",
    "In my previous analysis of the \"chair model\", I concluded that for sure for the case of uniform transition probability between the chairs, there is a clear effect: the ratio between the occupancy of the comfortable chairs and the low-comfort chairs decreases with increasing concentration (number) of people claiming the chairs. Now, can this effect be recovered looking at the peaks of the ChIP-seq experiments at different concentrations?\n",
    "\n",
    "I'll try to look at whether this is the case by looking at the data produced by Roser and Guille and looking directly at the _number of reads corresponding to each region_. The hope is that despite having a different number of reads in total, there will be a clear effect due to the fact that there is this \"volume exclusion\" effect.\n",
    "\n",
    "## Preliminaries: code base\n",
    "\n",
    "Here I copy/paste some of the code that I used before to analyze the peaks of the PR titration experiments."
   ]
  },
  {
   "cell_type": "code",
   "execution_count": null,
   "metadata": {},
   "outputs": [],
   "source": [
    "def load_peaks (peaks_id,xavi_datadir='/mnt/xavi') :\n",
    "    datadir = '%s/projects/gvicent/2017-01-23_characterisation_prbs_r5020_titration/tables'%(xavi_datadir)\n",
    "    datafile = '%s/genomic_coordinates_by_peak_population_%s.bed'%(datadir,peaks_id)\n",
    "    return mbt.parse_simple_bed(datafile)"
   ]
  },
  {
   "cell_type": "code",
   "execution_count": null,
   "metadata": {},
   "outputs": [],
   "source": [
    "def bw_location (sample_id,xavi_datadir='/mnt/xavi/data') :\n",
    "    # build the directory name where the files are\n",
    "    d = \"%s/chipseq/samples/%s/peaks\"%(xavi_datadir,sample_id)\n",
    "    # select all files that end with \".bw\" in the directory, and\n",
    "    # then prefer to read the one that is in the directory that has\n",
    "    # \"with_control\"\n",
    "    peakfiles = []\n",
    "    for root,sub,files in os.walk(d) :\n",
    "        for f in files :k\n",
    "            if f.endswith (\".bw\") :\n",
    "                peakfiles.append('%s/%s'%(root,f))\n",
    "    fin = None\n",
    "    for peakfile in peakfiles :\n",
    "        if 'with_control' in peakfile :\n",
    "            fin = peakfile\n",
    "            break\n",
    "        else :\n",
    "            fin = peakfile\n",
    "    if fin is None :\n",
    "        warn_message('bw_location','Data not found for %s'%sample_id)\n",
    "    return fin"
   ]
  },
  {
   "cell_type": "code",
   "execution_count": null,
   "metadata": {},
   "outputs": [],
   "source": [
    "class Condition :\n",
    "    def __init__(self,name,peak_code,concentration,sample_id) :\n",
    "        self.name = name\n",
    "        self.peak_code = peak_code\n",
    "        self.concentration = concentration\n",
    "        self.sample_id = sample_id\n",
    "        # load the peaks\n",
    "        self.peaks = load_peaks(self.peak_code)\n",
    "        # init the BigWig file\n",
    "        self.bw_file = bw_location(sample_id)\n",
    "        # init the BigWig parser\n",
    "        self.bw = pyBigWig.open(self.bw_file)\n",
    "    def peak_counts(self,peak) :\n",
    "        chromosome,start,end = peak\n",
    "        # use the BigWig parser to get the stats of the peak\n",
    "        return self.bw.stats(chromosome,start,end)\n",
    "    def __del__(self) :\n",
    "        self.bw.close()"
   ]
  },
  {
   "cell_type": "code",
   "execution_count": null,
   "metadata": {},
   "outputs": [],
   "source": [
    "def average_peak_counts(peaks,condition) :\n",
    "    npeaks = peaks.size\n",
    "    pcounts = np.zeros(npeaks)\n",
    "    for i,peak in enumerate(peaks) :\n",
    "        pcounts[i] = condition.peak_counts(peak)[0]\n",
    "    pcounts[np.isnan(pcounts)] = 0.0\n",
    "    return pcounts.mean()"
   ]
  },
  {
   "cell_type": "markdown",
   "metadata": {},
   "source": [
    "## Analysis\n",
    "Now that I have a good code base ready, I can start the analysis."
   ]
  },
  {
   "cell_type": "code",
   "execution_count": null,
   "metadata": {},
   "outputs": [],
   "source": [
    "# use my lovely \"Condition\" class to get my data nicely packed into convenient data structures\n",
    "high       = Condition('high'   ,'all_treated',0.05,'gv_107_01_01_chipseq')\n",
    "medium1    = Condition('medium1','4HCP'       ,0.10,'gv_108_01_01_chipseq')\n",
    "medium2    = Condition('medium2','3HCP'       ,0.50,'gv_109_01_01_chipseq')\n",
    "low        = Condition('low'    ,'1HCP'       ,10.0,'gv_111_01_01_chipseq')"
   ]
  },
  {
   "cell_type": "code",
   "execution_count": null,
   "metadata": {},
   "outputs": [],
   "source": [
    "high.avH  = average_peak_counts(high.peaks,high)\n",
    "high.avM1 = average_peak_counts(medium1.peaks,high)\n",
    "high.avM2 = average_peak_counts(medium2.peaks,high)\n",
    "high.avL  = average_peak_counts(low.peaks,high)"
   ]
  },
  {
   "cell_type": "code",
   "execution_count": null,
   "metadata": {},
   "outputs": [],
   "source": [
    "medium1.avH  = average_peak_counts(high.peaks,medium1)\n",
    "medium1.avM1 = average_peak_counts(medium1.peaks,medium1)\n",
    "medium1.avM2 = average_peak_counts(medium2.peaks,medium1)\n",
    "medium1.avL  = average_peak_counts(low.peaks,medium1)"
   ]
  },
  {
   "cell_type": "code",
   "execution_count": null,
   "metadata": {},
   "outputs": [],
   "source": [
    "medium2.avH  = average_peak_counts(high.peaks,medium2)\n",
    "medium2.avM1 = average_peak_counts(medium1.peaks,medium2)\n",
    "medium2.avM2 = average_peak_counts(medium2.peaks,medium2)\n",
    "medium2.avL  = average_peak_counts(low.peaks,medium2)"
   ]
  },
  {
   "cell_type": "code",
   "execution_count": null,
   "metadata": {},
   "outputs": [],
   "source": [
    "low.avH  = average_peak_counts(high.peaks,low)\n",
    "low.avM1 = average_peak_counts(medium1.peaks,low)\n",
    "low.avM2 = average_peak_counts(medium2.peaks,low)\n",
    "low.avL  = average_peak_counts(low.peaks,low)"
   ]
  },
  {
   "cell_type": "code",
   "execution_count": null,
   "metadata": {},
   "outputs": [],
   "source": [
    "print \"           avH     avM1    avM2     avL\"\n",
    "print \"High    :   %.3f    %.3f    %.3f     %.3f\"%(high.avH,high.avM1,high.avM2,high.avL)\n",
    "print \"Medium1 :   %.3f    %.3f    %.3f     %.3f\"%(medium1.avH,medium1.avM1,medium1.avM2,medium1.avL)\n",
    "print \"Medium2 :   %.3f    %.3f    %.3f     %.3f\"%(medium2.avH,medium2.avM1,medium2.avM2,medium2.avL)\n",
    "print \"Low     :   %.3f    %.3f    %.3f     %.3f\"%(low.avH,low.avM1,low.avM2,low.avL)"
   ]
  },
  {
   "cell_type": "code",
   "execution_count": null,
   "metadata": {},
   "outputs": [],
   "source": [
    "conditions = [high,medium1,medium2,low]"
   ]
  },
  {
   "cell_type": "code",
   "execution_count": null,
   "metadata": {},
   "outputs": [],
   "source": [
    "nconditions = len(conditions)\n",
    "H_to_L = np.zeros(nconditions)\n",
    "M1_to_L = np.zeros(nconditions)\n",
    "M2_to_L = np.zeros(nconditions)\n",
    "for i,condition in enumerate(conditions) :\n",
    "    H_to_L[i] = condition.avH/condition.avL\n",
    "    M1_to_L[i] = condition.avM1/condition.avL\n",
    "    M2_to_L[i] = condition.avM2/condition.avL"
   ]
  },
  {
   "cell_type": "code",
   "execution_count": null,
   "metadata": {},
   "outputs": [],
   "source": [
    "concentrations = [condition.concentration for condition in conditions]\n",
    "plt.loglog(concentrations,H_to_L,label='High')\n",
    "plt.loglog(concentrations,M1_to_L,label='Medium1')\n",
    "plt.loglog(concentrations,M2_to_L,label='Medium2')\n",
    "plt.legend(loc='upper right')\n",
    "plt.show()"
   ]
  },
  {
   "cell_type": "markdown",
   "metadata": {},
   "source": [
    "This analysis shows that for the \"medium1\" and \"medium2\" population there is a non-monotonic dependency of the ratio H/M on the concentration. This is rather promising, in the sense that this demonstrates, if correct, that one cannot explain this data on the basis of a simple model in which the transition probabilities are uniform.\n",
    "\n",
    "The next step is to try to see whether this is not an artefact of having considered the values in the BigWig file. That is, let's see whether there is the same effect simply by looking at the number of counts in a region.\n",
    "\n",
    "## Coda: recovering the 2HCP\n",
    "\n",
    "In the data folder that Xavi gave me I don't see the 2HCP data file. However, I see a file that is named something like \"union_allpeaks\" so I try here to take that file, and do a diff with the union of all the other peaks to recover the 2HCP."
   ]
  },
  {
   "cell_type": "code",
   "execution_count": null,
   "metadata": {},
   "outputs": [],
   "source": [
    "# load the 'union_all_samples' data file\n",
    "allpeaks = load_peaks('union_all_samples')"
   ]
  },
  {
   "cell_type": "code",
   "execution_count": null,
   "metadata": {},
   "outputs": [],
   "source": [
    "print high.peaks.size + medium1.peaks.size + medium2.peaks.size + low.peaks.size\n",
    "print allpeaks.size\n",
    "print allpeaks.size - (high.peaks.size + medium1.peaks.size + medium2.peaks.size + low.peaks.size)"
   ]
  },
  {
   "cell_type": "markdown",
   "metadata": {},
   "source": [
    "The numbers don't quite add up, so I should ask Guille, Roser and Xavi where are the list of 2HCP peaks."
   ]
  }
 ],
 "metadata": {
  "kernelspec": {
   "display_name": "Python 2",
   "language": "python",
   "name": "python2"
  },
  "language_info": {
   "codemirror_mode": {
    "name": "ipython",
    "version": 2
   },
   "file_extension": ".py",
   "mimetype": "text/x-python",
   "name": "python",
   "nbconvert_exporter": "python",
   "pygments_lexer": "ipython2"
  }
 },
 "nbformat": 4,
 "nbformat_minor": 2
}
