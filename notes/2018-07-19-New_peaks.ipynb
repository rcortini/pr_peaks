{
 "cells": [
  {
   "cell_type": "code",
   "execution_count": null,
   "metadata": {},
   "outputs": [],
   "source": [
    "%matplotlib inline\n",
    "%load_ext autoreload\n",
    "%autoreload 2"
   ]
  },
  {
   "cell_type": "code",
   "execution_count": null,
   "metadata": {},
   "outputs": [],
   "source": [
    "import numpy as np\n",
    "import matplotlib.pyplot as plt\n",
    "import mybiotools as mbt\n",
    "import os, sys"
   ]
  },
  {
   "cell_type": "markdown",
   "metadata": {},
   "source": [
    "# 2018-07-19 New peaks\n",
    "I reran Xavi's pipeline for the generation of the genomic coordinates of the \"all_treated\", \"4HCP\" etc. peaks. However, I obtain different results from the results that he obtained.\n",
    "\n",
    "Investigating on the origin of this discrepancy, I realize that there has been a reprocessing of the original data. At some point the pipeline for the analysis of the ChIP-seq results was reran, by including an additional filter that avoided including false positive results. As a result, there are less peaks resulting from the new analysis. Frustratingly enough, there is also another issue, which is that the genomic coordinates of the peaks are not exactly the same. So let's find out whether there is really an overlap or not, and which peaks disappeared from the analysis.\n",
    "\n",
    "First of all, as usual, let's load the data files."
   ]
  },
  {
   "cell_type": "code",
   "execution_count": null,
   "metadata": {},
   "outputs": [],
   "source": [
    "old_datadir = '/mnt/xavi/projects/gvicent/2017-01-23_characterisation_prbs_r5020_titration/tables'\n",
    "new_datadir = '/home/rcortini/work/CRG/projects/pr_peaks/data/peak_analysis'\n",
    "peak_ids = ['all_treated','4HCP','3HCP','1HCP']\n",
    "old = {}\n",
    "new = {}\n",
    "for peak_id in peak_ids :\n",
    "    old_fname = '%s/genomic_coordinates_by_peak_population_%s.bed'%(old_datadir,peak_id)\n",
    "    new_fname = '%s/genomic_coordinates_by_peak_population_%s.bed'%(new_datadir,peak_id)\n",
    "    old[peak_id] = mbt.parse_simple_bed(old_fname)\n",
    "    new[peak_id] = mbt.parse_simple_bed(new_fname)"
   ]
  },
  {
   "cell_type": "markdown",
   "metadata": {},
   "source": [
    "So now we need to find a way of assessing the overlap between the peaks. I'll write a small function to do this."
   ]
  },
  {
   "cell_type": "code",
   "execution_count": null,
   "metadata": {},
   "outputs": [],
   "source": [
    "def have_overlap(peak1, peak2) :\n",
    "    if peak1['chr'] != peak2['chr'] :\n",
    "        return False\n",
    "    a1, b1 = peak1['start'], peak1['end']\n",
    "    a2, b2 = peak2['start'], peak2['end']\n",
    "    L1 = np.abs(a1 - b1)\n",
    "    L2 = np.abs(a2 - b2)\n",
    "    L = np.abs(min(a1, a2) - max(b1, b2))\n",
    "    if L1+L2 > L :\n",
    "        return True\n",
    "    else :\n",
    "        return False"
   ]
  },
  {
   "cell_type": "markdown",
   "metadata": {},
   "source": [
    "Test space for this."
   ]
  },
  {
   "cell_type": "code",
   "execution_count": null,
   "metadata": {},
   "outputs": [],
   "source": [
    "peak1 = old['all_treated'][4]\n",
    "peak2 = new['all_treated'][5]\n",
    "print peak1\n",
    "print peak2\n",
    "print have_overlap(peak1, peak2)"
   ]
  },
  {
   "cell_type": "markdown",
   "metadata": {},
   "source": [
    "Okay now we are ready to do the test in large scale."
   ]
  },
  {
   "cell_type": "code",
   "execution_count": null,
   "metadata": {},
   "outputs": [],
   "source": [
    "for peak_id in peak_ids :\n",
    "    mbt.log_message('find overlap', peak_id)\n",
    "    for peak1 in old[peak_id] :\n",
    "        overlap_found = False\n",
    "        for peak2 in new[peak_id] :\n",
    "            if have_overlap(peak1, peak2) :\n",
    "                overlap_found = True\n",
    "                break\n",
    "        # if we get here, then it means that no overlap was found\n",
    "        if not overlap_found :\n",
    "            print peak1"
   ]
  },
  {
   "cell_type": "markdown",
   "metadata": {},
   "source": [
    "So there are quite a few different results here. Some of the peaks in the new data set are absent, and probably others have no overlap."
   ]
  }
 ],
 "metadata": {
  "kernelspec": {
   "display_name": "Python 2",
   "language": "python",
   "name": "python2"
  },
  "language_info": {
   "codemirror_mode": {
    "name": "ipython",
    "version": 2
   },
   "file_extension": ".py",
   "mimetype": "text/x-python",
   "name": "python",
   "nbconvert_exporter": "python",
   "pygments_lexer": "ipython2"
  }
 },
 "nbformat": 4,
 "nbformat_minor": 2
}
