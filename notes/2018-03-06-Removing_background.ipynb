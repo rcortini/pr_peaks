{
 "cells": [
  {
   "cell_type": "code",
   "execution_count": null,
   "metadata": {},
   "outputs": [],
   "source": [
    "%matplotlib inline\n",
    "%load_ext autoreload\n",
    "%autoreload 2"
   ]
  },
  {
   "cell_type": "code",
   "execution_count": null,
   "metadata": {},
   "outputs": [],
   "source": [
    "import numpy as np\n",
    "import matplotlib.pyplot as plt\n",
    "import mybiotools as mbt\n",
    "import os\n",
    "import pr_peaks"
   ]
  },
  {
   "cell_type": "code",
   "execution_count": null,
   "metadata": {},
   "outputs": [],
   "source": [
    "# load the peak data\n",
    "high       = pr_peaks.Condition('high'   ,'all_treated',0.05,'gv_107_01_01_chipseq')\n",
    "medium1    = pr_peaks.Condition('medium1','4HCP'       ,0.10,'gv_108_01_01_chipseq')\n",
    "medium2    = pr_peaks.Condition('medium2','3HCP'       ,0.50,'gv_109_01_01_chipseq')\n",
    "medium3    = pr_peaks.Condition('medium3','3HCP'       ,1.00,'gv_110_01_01_chipseq')\n",
    "low        = pr_peaks.Condition('low'    ,'1HCP'       ,10.0,'gv_111_01_01_chipseq')\n",
    "conditions = [high,medium1,medium2,medium3,low]"
   ]
  },
  {
   "cell_type": "code",
   "execution_count": null,
   "metadata": {},
   "outputs": [],
   "source": [
    "# prepare the list of chromosomes\n",
    "chromosomes = ['chr%d'%i for i in xrange(1,23)]\n",
    "chromosomes.append('chrX')\n",
    "chromosomes = tuple(chromosomes)"
   ]
  },
  {
   "cell_type": "markdown",
   "metadata": {},
   "source": [
    "# 2018-03-06 Removing background\n",
    "One of the advices I got from the Lab Meeting presentation was to consider the values of the read counts in the ChIP-seq experiments **with removed background**, that is, subtracting the average number of reads per base pair in the genome. This is to make sure that at the data point corresponding to the lowest concentration - where there are less reads per base pair - the values of the ratio between H and L peak read number is not artificially depleted. I therefore want to discretize the ChIP-seq experiments and perform the corresponding analysis.\n",
    "\n",
    "## Zerone\n",
    "\n",
    "The first thing I want to try is Zerone. This software is optimized for data with replicates and with a control. I used the Zerone discretizer to get the reads per window of the experiments, using as an input the `T0_roberto_input` as control.\n",
    "\n",
    "### Data parsing and access\n",
    "\n",
    "Let's have a look at how to parse and access the data. The data files are very large because they correspond to the entire genome. I will use the numpy `genfromtxt` function to get the values into a convenient array. The ChIP-seq experiments also identify regions that belong to unknown contigs, so in the end the function will return only the values corresponding to known chromosomes."
   ]
  },
  {
   "cell_type": "code",
   "execution_count": null,
   "metadata": {},
   "outputs": [],
   "source": [
    "# first, let's define the file names\n",
    "pr_peaks_root_dir = '%s/work/CRG/projects/pr_peaks'%(os.getenv('HOME'))\n",
    "data_dir = '%s/data'%(pr_peaks_root_dir)\n",
    "for condition in conditions :\n",
    "    condition.zerone_out = '%s/%s-zerone.out'%(data_dir,condition.name)"
   ]
  },
  {
   "cell_type": "markdown",
   "metadata": {},
   "source": [
    "The next step is to define the functions that parse the Zerone output. In the end I want to be able to access rapidly the values in the array, so I need to provide an index. The `make_zerone_output_index` does this, providing a dictionary that has as keys the chromosome names and as values a tuple corresponding to the index of the start of the chromosome values and the end of the chromosome values."
   ]
  },
  {
   "cell_type": "code",
   "execution_count": null,
   "metadata": {},
   "outputs": [],
   "source": [
    "def make_zerone_output_index(a,chromosome_list=None) :\n",
    "    # if the chromosome names are not given, get them\n",
    "    if chromosome_list is None :\n",
    "        chromosome_list = np.unique(a['chr'])\n",
    "    # init the dictionary and init the iteration\n",
    "    c_idx = {}\n",
    "    c_start = 0\n",
    "    prev_c = a[0]['chr']\n",
    "    # we don't sort the input array: Zerone already does this by default\n",
    "    for i,b in enumerate(a) :\n",
    "        this_c = b['chr']\n",
    "        if this_c != prev_c :\n",
    "            c_end = i-1\n",
    "            c_idx[prev_c] = (c_start,c_end)\n",
    "            c_start = i\n",
    "            prev_c = this_c\n",
    "    # the last chromosome needs to be manually added\n",
    "    c_idx[this_c] = (c_start,i)\n",
    "    return c_idx"
   ]
  },
  {
   "cell_type": "code",
   "execution_count": null,
   "metadata": {},
   "outputs": [],
   "source": [
    "def parse_zerone_output(fname,chromosome_list=None) :\n",
    "    \"\"\"\n",
    "    Parses a Zerone output and returns a numpy array. The values of the numpy array\n",
    "    are: chromosome, start, end, enrichment, read_1, read_2, ..., read_n, p.\n",
    "    The number of `read_i` columns depends on the invocation of Zerone and cannot\n",
    "    be known beforehand.\n",
    "    \"\"\"\n",
    "    # first, we start by reading the first non-comment line in the Zerone file, to\n",
    "    # determine the number of `read` columns in the file\n",
    "    comment = True\n",
    "    with open(fname,'r') as f :\n",
    "        for line in f :\n",
    "            if not line.startswith('#') :\n",
    "                break\n",
    "    n_readcols = len(line.split())-5\n",
    "    zerone_dtype = [('chr','S256'),('start',np.int64),('end',np.int64),('enrichment',np.int32)]\n",
    "    for i in range(1,n_readcols+1) :\n",
    "        zerone_dtype.append(('read_%d'%(i),np.int64))\n",
    "    zerone_dtype.append(('p',float))\n",
    "    # now we parse the file using the `genfromtxt` function from numpy\n",
    "    a = np.genfromtxt(fname,dtype=np.dtype(zerone_dtype))\n",
    "    # next, we exclude the values of the array that pertain to chromosomes that are not\n",
    "    # included in the chromosome list that was passed by the user (if any)\n",
    "    if chromosome_list is not None :\n",
    "        a = np.array([s for s in a if s['chr'] in chromosome_list])\n",
    "    # now pass the array to the index maker, and return the array along with the index\n",
    "    c_idx = make_zerone_output_index(a,chromosome_list)\n",
    "    return a,c_idx"
   ]
  },
  {
   "cell_type": "markdown",
   "metadata": {},
   "source": [
    "I test the function that parses the Zerone output."
   ]
  },
  {
   "cell_type": "code",
   "execution_count": null,
   "metadata": {},
   "outputs": [],
   "source": [
    "%%time\n",
    "zerone = zerone_out[0]\n",
    "a,c_idx = parse_zerone_output(high.zerone_out,chromosome_list=chromosomes)"
   ]
  },
  {
   "cell_type": "markdown",
   "metadata": {},
   "source": [
    "The execution time of this is reasonable.\n",
    "\n",
    "I want now to write the pieces of code that will allow me to access the data quickly."
   ]
  },
  {
   "cell_type": "markdown",
   "metadata": {},
   "source": [
    "Since we have the discretized data along with the index, we can build a function that rapidly finds the index of the array corresponding to the values of the peaks that we want."
   ]
  },
  {
   "cell_type": "code",
   "execution_count": null,
   "metadata": {},
   "outputs": [],
   "source": [
    "def findpeak(a,c_idx,peak,bin_size=300) :\n",
    "    \"\"\"\n",
    "    Returns the values of the `a` array corresponding to the genomic coordinates\n",
    "    of the `peak`. Uses the `c_idx` dictionary to rapidly calculate which are the indices\n",
    "    of the `a` array that correspond to the peak\n",
    "    \"\"\"\n",
    "    c_start,c_end = c_idx[peak['chr']]\n",
    "    peak_idx_start = peak['start']//bin_size\n",
    "    peak_idx_end = peak['end']//bin_size\n",
    "    if peak_idx_start == peak_idx_end :\n",
    "        return a[c_start+peak_idx_start]\n",
    "    else :\n",
    "        return a[c_start+peak_idx_start:c_start+peak_idx_end+1]"
   ]
  },
  {
   "cell_type": "markdown",
   "metadata": {},
   "source": [
    "I now make a simple test to see whether the thing is working, with an example peak."
   ]
  },
  {
   "cell_type": "code",
   "execution_count": null,
   "metadata": {},
   "outputs": [],
   "source": [
    "peak = high.peaks[740]\n",
    "ca = findpeak(a,c_idx,peak)\n",
    "print peak,ca"
   ]
  },
  {
   "cell_type": "markdown",
   "metadata": {},
   "source": [
    "It works and it is very fast.\n",
    "\n",
    "### Enrichment\n",
    "The first question I want to ask is whether Xavi and Zerone say the same thing concerning whether the same regions of the genome are enriched or not.\n",
    "\n",
    "First, I'll test that the peaks contained in the list of peaks (all_treated, 4HCP, etc) are also considered enriched by Zerone."
   ]
  },
  {
   "cell_type": "code",
   "execution_count": null,
   "metadata": {},
   "outputs": [],
   "source": [
    "# I'll start with the `high` ones\n",
    "for peak in high.peaks:\n",
    "    p = findpeak(a,c_idx,peak)\n",
    "    if (p['enrichment']==0).all() :\n",
    "        print peak"
   ]
  },
  {
   "cell_type": "markdown",
   "metadata": {},
   "source": [
    "So here I identified one peak that Xavi identified as enriched and Zerone didn't.\n",
    "\n",
    "Now I proceed with a systematic study. I reset here the kernel and load all the data again into a convenient data structure."
   ]
  },
  {
   "cell_type": "code",
   "execution_count": null,
   "metadata": {},
   "outputs": [],
   "source": [
    "for condition in conditions :\n",
    "    mbt.log_message('parse_zerone_output','Parsing %s'%(condition.name))\n",
    "    a,c_idx = parse_zerone_output(condition.zerone_out,chromosome_list=chromosomes)\n",
    "    condition.zerone = a\n",
    "    condition.c_idx = c_idx"
   ]
  },
  {
   "cell_type": "markdown",
   "metadata": {},
   "source": [
    "Now that I have all the data loaded I can ask whether there are peaks in each condition that are considered non-enriched by Zerone and enriched by Xavi."
   ]
  },
  {
   "cell_type": "code",
   "execution_count": null,
   "metadata": {},
   "outputs": [],
   "source": [
    "for condition in conditions :\n",
    "    for peak in condition.peaks:\n",
    "        p = findpeak(condition.zerone,condition.c_idx,peak)\n",
    "        if (p['enrichment']==0).all() :\n",
    "            print condition.name,peak"
   ]
  }
 ],
 "metadata": {
  "kernelspec": {
   "display_name": "Python 2",
   "language": "python",
   "name": "python2"
  },
  "language_info": {
   "codemirror_mode": {
    "name": "ipython",
    "version": 2
   },
   "file_extension": ".py",
   "mimetype": "text/x-python",
   "name": "python",
   "nbconvert_exporter": "python",
   "pygments_lexer": "ipython2"
  }
 },
 "nbformat": 4,
 "nbformat_minor": 2
}
