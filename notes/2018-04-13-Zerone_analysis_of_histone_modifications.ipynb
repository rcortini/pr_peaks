{
 "cells": [
  {
   "cell_type": "code",
   "execution_count": null,
   "metadata": {},
   "outputs": [],
   "source": [
    "%matplotlib inline\n",
    "%load_ext autoreload\n",
    "%autoreload 2"
   ]
  },
  {
   "cell_type": "code",
   "execution_count": null,
   "metadata": {},
   "outputs": [],
   "source": [
    "import numpy as np\n",
    "import matplotlib.pyplot as plt\n",
    "import mybiotools as mbt\n",
    "import os\n",
    "import pr_peaks\n",
    "import zerone\n",
    "from scipy.stats import gaussian_kde"
   ]
  },
  {
   "cell_type": "code",
   "execution_count": null,
   "metadata": {},
   "outputs": [],
   "source": [
    "# load the ChIP-seq data\n",
    "conditions = [\n",
    "    pr_peaks.Condition('high'   ,'all_treated',0.05,'gv_107_01_01_chipseq'),\n",
    "    pr_peaks.Condition('medium1','4HCP'       ,0.10,'gv_108_01_01_chipseq'),\n",
    "    pr_peaks.Condition('medium2','3HCP'       ,0.50,'gv_109_01_01_chipseq'),\n",
    "    pr_peaks.Condition('low'    ,'1HCP'       ,10.0,'gv_111_01_01_chipseq')\n",
    "]"
   ]
  },
  {
   "cell_type": "markdown",
   "metadata": {},
   "source": [
    "# 2018-04-13 Zerone analysis of histone modifications\n",
    "I saw that the number of reads in the histone mark analysis does not differ very much, although I did not do the statistical test properly.\n",
    "\n",
    "The very last thing I want to look at is whether Zerone agrees with this vision: the enrichment around H peaks and L peaks for the different histone modifications is not significantly different.\n",
    "\n",
    "The Zerone output files are quite heavy. Therefore, I'll do the analysis on the cluster and load the data here."
   ]
  },
  {
   "cell_type": "code",
   "execution_count": null,
   "metadata": {},
   "outputs": [],
   "source": [
    "experiments = {\n",
    "    'H3K14ac-T0'  : 'gv_037_01_01_chipseq',\n",
    "    'H3K14ac-T30' : 'gv_038_01_01_chipseq',\n",
    "    'H3K27ac-T0'  : 'gv_039_01_01_chipseq',\n",
    "    'H3K27ac-T30' : 'gv_040_01_01_chipseq',\n",
    "    'H3K27me3-T0' : 'gv_041_01_01_chipseq',\n",
    "    'H3K27me3-T30': 'gv_042_01_01_chipseq',\n",
    "    'H3K36me2-T0' : 'gv_043_01_01_chipseq',\n",
    "    'H3K36me2-T30': 'gv_044_01_01_chipseq',    \n",
    "    'H3K4me1-T0'  : 'gv_045_01_01_chipseq',\n",
    "    'H3K4me1-T30' : 'gv_046_01_01_chipseq',\n",
    "    'H3K4me3-T0'  : 'gv_047_01_01_chipseq',\n",
    "    'H3K4me3-T30' : 'gv_048_01_01_chipseq',\n",
    "    'H3K9me3-T0'  : 'gv_049_01_01_chipseq',\n",
    "    'H3K9me3-T30' : 'gv_050_01_01_chipseq'\n",
    "}"
   ]
  },
  {
   "cell_type": "code",
   "execution_count": null,
   "metadata": {},
   "outputs": [],
   "source": [
    "times = ['T0','T30']\n",
    "marks = ['H3K14ac','H3K27ac','H3K27me3','H3K36me2','H3K4me1','H3K4me3','H3K9me3']\n",
    "ncols = len(times)*len(marks)\n",
    "\n",
    "# prepare the hash table for the column numbers for the marks\n",
    "exp_table = {}\n",
    "i = 0\n",
    "for mark in marks :\n",
    "    for time in times :\n",
    "        exp_table['%s-%s'%(mark,time)] = i\n",
    "        i+=1"
   ]
  },
  {
   "cell_type": "markdown",
   "metadata": {},
   "source": [
    "Prepare the output data directory."
   ]
  },
  {
   "cell_type": "code",
   "execution_count": null,
   "metadata": {},
   "outputs": [],
   "source": [
    "pr_peaks_root_dir = '%s/work/CRG/projects/pr_peaks'%(os.getenv('HOME'))\n",
    "data_dir = '%s/data'%(pr_peaks_root_dir)\n",
    "inp = 'T0_roberto_input'\n",
    "chipseq_datadir = '%s/%s'%(data_dir,inp)"
   ]
  },
  {
   "cell_type": "markdown",
   "metadata": {},
   "source": [
    "Now we are ready to load the columns of the table. The entries of the `zerone_table` will be the values of a relative enrichment of the peak: that is, the fraction of enriched peaks in the region. This will later help me evaluate whether there are significant differences between the enrichment values before and after hormone treatment."
   ]
  },
  {
   "cell_type": "code",
   "execution_count": null,
   "metadata": {},
   "outputs": [],
   "source": [
    "# now we can create the tables and fill them\n",
    "zerone_table = {}\n",
    "for condition in conditions :\n",
    "    peaks = condition.peaks\n",
    "    table = np.zeros((peaks.size,len(times)*len(marks)))\n",
    "    peak_id = condition.peak_code\n",
    "    for mark in marks :\n",
    "        for time in times :\n",
    "            # init name of experiment and column number\n",
    "            name = '%s-%s'%(mark,time)\n",
    "            j = exp_table[name]\n",
    "            sample_id = experiments[name]\n",
    "            # parse Zerone output file\n",
    "            fname = '%s/%s-%s.npy'%(chipseq_datadir,sample_id,peak_id)\n",
    "            column = np.load(fname)\n",
    "            table[:,j] = column\n",
    "    zerone_table[condition.name] = table"
   ]
  },
  {
   "cell_type": "markdown",
   "metadata": {},
   "source": [
    "We can now perform an analysis of the results. I'll make a table of gaussian kernels representing the shift in values of relative enrichment. That is, if I have the columns of the `zerone_table` that represent the relative enrichment of each peak, taking the difference between the T30 condition and the T0 condition will produce a dataset of which I can study the distribution. If the distribution is peaked towards positive values, then there is a gain in that particular mark. If it is peaked around zero, nothing happens. If it is peaked around minus one, then there is a loss of that mark."
   ]
  },
  {
   "cell_type": "code",
   "execution_count": null,
   "metadata": {},
   "outputs": [],
   "source": [
    "k_diff_table = {}\n",
    "for condition in conditions :\n",
    "    table = zerone_table[condition.name]\n",
    "    k_dtable = {}\n",
    "    for j in xrange(table.shape[1]/2) :\n",
    "        k_dtable[marks[j]] = gaussian_kde(table[:,2*j+1]-table[:,2*j])\n",
    "    k_diff_table[condition.name] = k_dtable"
   ]
  },
  {
   "cell_type": "markdown",
   "metadata": {},
   "source": [
    "Now let's represent all the marks."
   ]
  },
  {
   "cell_type": "code",
   "execution_count": null,
   "metadata": {},
   "outputs": [],
   "source": [
    "x = np.arange(-1,1.,0.01)\n",
    "for j,mark in enumerate(marks) :\n",
    "    fig = plt.figure()\n",
    "    for condition in conditions :\n",
    "        k_dtable = k_diff_table[condition.name]\n",
    "        plt.plot(x,k_dtable[mark](x),label=condition.name,linewidth=3)\n",
    "    plt.legend(loc='upper right')\n",
    "    plt.title(mark,fontsize=32)\n",
    "    plt.xlabel('Differential',fontsize=24)\n",
    "    plt.ylabel('Distribution',fontsize=24)"
   ]
  }
 ],
 "metadata": {
  "kernelspec": {
   "display_name": "Python 2",
   "language": "python",
   "name": "python2"
  },
  "language_info": {
   "codemirror_mode": {
    "name": "ipython",
    "version": 2
   },
   "file_extension": ".py",
   "mimetype": "text/x-python",
   "name": "python",
   "nbconvert_exporter": "python",
   "pygments_lexer": "ipython2"
  }
 },
 "nbformat": 4,
 "nbformat_minor": 2
}
