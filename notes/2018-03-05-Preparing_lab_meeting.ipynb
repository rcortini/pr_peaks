{
 "cells": [
  {
   "cell_type": "code",
   "execution_count": null,
   "metadata": {},
   "outputs": [],
   "source": [
    "%matplotlib inline\n",
    "%load_ext autoreload\n",
    "%autoreload 2"
   ]
  },
  {
   "cell_type": "code",
   "execution_count": null,
   "metadata": {},
   "outputs": [],
   "source": [
    "import numpy as np\n",
    "import matplotlib.pyplot as plt\n",
    "import mybiotools as mbt\n",
    "import pr_peaks\n",
    "import os\n",
    "from scipy.stats import gaussian_kde"
   ]
  },
  {
   "cell_type": "code",
   "execution_count": null,
   "metadata": {},
   "outputs": [],
   "source": [
    "# load the peak data\n",
    "high       = pr_peaks.Condition('high'   ,'all_treated',0.05,'gv_107_01_01_chipseq')\n",
    "medium1    = pr_peaks.Condition('medium1','4HCP'       ,0.10,'gv_108_01_01_chipseq')\n",
    "medium2    = pr_peaks.Condition('medium2','3HCP'       ,0.50,'gv_109_01_01_chipseq')\n",
    "medium3    = pr_peaks.Condition('medium3','3HCP'       ,1.00,'gv_110_01_01_chipseq')\n",
    "low        = pr_peaks.Condition('low'    ,'1HCP'       ,10.0,'gv_111_01_01_chipseq')"
   ]
  },
  {
   "cell_type": "code",
   "execution_count": null,
   "metadata": {},
   "outputs": [],
   "source": [
    "# this is to make life easier\n",
    "Hpeaks = high.peaks\n",
    "Mpeaks = medium2.peaks\n",
    "Lpeaks = low.peaks"
   ]
  },
  {
   "cell_type": "code",
   "execution_count": null,
   "metadata": {},
   "outputs": [],
   "source": [
    "conditions = [high,medium1,medium2,medium3,low]\n",
    "concentrations = np.array([c.concentration for c in conditions])"
   ]
  },
  {
   "cell_type": "markdown",
   "metadata": {},
   "source": [
    "# 2018-03-05 Preparing lab meeting\n",
    "\n",
    "## Experimental data\n",
    "\n",
    "### Peak scores\n",
    "Here I want to prepare the figures to show in my LM presentation, concerning the PR peaks project. First, I want to prepare the figure that shows the distribution of scores on the all_treated versus 1HCP peaks. I put it in a script in the scripts directory, called `get_peak_scores.py`.\n",
    "\n",
    "Using that data I can make a lovely figure.\n",
    "\n",
    "### Peak read counts\n",
    "\n",
    "Next, I want to show the number of reads in every peak, as a function of the concentration. I put the calculation in a script called `get_peak_read_counts.py`. Now I can make another lovely figure: `H_to_L.py`."
   ]
  },
  {
   "cell_type": "code",
   "execution_count": null,
   "metadata": {},
   "outputs": [],
   "source": [
    "# load data\n",
    "pr_peaks_root_dir = '%s/work/CRG/projects/pr_peaks'%(os.getenv('HOME'))\n",
    "data_dir = '%s/data'%(pr_peaks_root_dir)\n",
    "figures_dir = '%s/figures'%(pr_peaks_root_dir)\n",
    "Hpeaks_count = np.load('%s/Hpeaks_count.npy'%(data_dir))\n",
    "Mpeaks_count = np.load('%s/Mpeaks_count.npy'%(data_dir))\n",
    "Lpeaks_average = np.load('%s/Lpeaks_average.npy'%(data_dir))"
   ]
  },
  {
   "cell_type": "code",
   "execution_count": null,
   "metadata": {},
   "outputs": [],
   "source": [
    "# plot now the number of reads as a function of the concentration for each peak class\n",
    "fig = plt.figure(figsize=(6,4))\n",
    "plt.semilogx(concentrations,Hpeaks_count.mean(axis=0)/Lpeaks_average,'o--')\n",
    "plt.semilogx(concentrations,Mpeaks_count.mean(axis=0)/Lpeaks_average,'^--')\n",
    "plt.xlabel('Concentration of hormone [nM]',fontsize=24)\n",
    "plt.ylabel('H to L ratio',fontsize=24)\n",
    "fig.tight_layout()\n",
    "fig.savefig('%s/H_to_L.pdf'%(figures_dir))\n",
    "plt.show()"
   ]
  },
  {
   "cell_type": "markdown",
   "metadata": {},
   "source": [
    "## Simulation data"
   ]
  },
  {
   "cell_type": "code",
   "execution_count": null,
   "metadata": {},
   "outputs": [],
   "source": [
    "np.random.seed(85498)\n",
    "\n",
    "# general simulation parameters\n",
    "nsteps = 100000\n",
    "n = 100\n",
    "boost = 4.0\n",
    "mus = np.arange(1,20,2)\n",
    "\n",
    "# init site_taus\n",
    "Hsites = [2,6,10,40,50,60,70,80]\n",
    "Lsites = [i for i in xrange(n) if i not in Hsites]\n",
    "site_taus = 2.0*np.ones(n)\n",
    "site_taus[Hsites] = 20.0\n",
    "\n",
    "# init contact lists\n",
    "nocontacts = [[] for i in xrange(n)]\n",
    "HHcontact = [[] for i in xrange(n)]\n",
    "HHcontact[Hsites[0]] = [Hsites[1]]\n",
    "HHcontact[Hsites[1]] = [Hsites[0]]\n",
    "\n",
    "# init the Jumping Models\n",
    "uniform = pr_peaks.JumpingModel(nocontacts,site_taus,boost)\n",
    "HH = pr_peaks.JumpingModel(HHcontact,site_taus,boost)\n",
    "\n",
    "# cycle on mu values\n",
    "for mu in mus :\n",
    "    # init omega_t\n",
    "    omega_t_initial = pr_peaks.init_omega_t(n,mu)\n",
    "    mbt.log_message('Uniform','mu = %d'%(mu))\n",
    "    uniform.run(nsteps,omega_t_initial)\n",
    "    mbt.log_message('HH     ','mu = %d'%(mu))\n",
    "    HH.run(nsteps,omega_t_initial)\n",
    "    \n",
    "# aftermath\n",
    "pr_peaks.H_to_L(uniform,Hsites,Lsites)\n",
    "pr_peaks.H_to_L(HH,Hsites,Lsites)"
   ]
  },
  {
   "cell_type": "markdown",
   "metadata": {},
   "source": [
    "I want to plot the results in the case in which there is no boosting effect, and the case in which the boosting effect is there."
   ]
  },
  {
   "cell_type": "code",
   "execution_count": null,
   "metadata": {},
   "outputs": [],
   "source": [
    "nmus = len(mus)\n",
    "nH   = len(Hsites)\n",
    "nL   = len(Lsites)\n",
    "for model in [uniform,HH] :\n",
    "    model.Hsites_theta = np.zeros((nmus,nH))\n",
    "    model.H_to_L_individual = np.zeros((nmus,nH))\n",
    "    for i,mu in enumerate(mus) :\n",
    "        model.Hsites_theta[i,:] = model.theta[mu][Hsites]\n",
    "        averageL = model.theta[mu][Lsites].mean()\n",
    "        model.H_to_L_individual[i,:] = model.Hsites_theta[i,:]/averageL"
   ]
  },
  {
   "cell_type": "code",
   "execution_count": null,
   "metadata": {},
   "outputs": [],
   "source": [
    "fig,axarr = plt.subplots(1,2,figsize=(12,4))\n",
    "\n",
    "xticks = range(1,20,2)\n",
    "\n",
    "axarr[0].plot(mus,uniform.Hsites_theta.mean(axis=1),'o--')\n",
    "axarr[0].set_ylabel(r'Occupancy of H sites',fontsize=24)\n",
    "axarr[0].set_xlabel(r'Number of searchers',fontsize=24)\n",
    "axarr[0].set_xticks(xticks)\n",
    "\n",
    "axarr[1].plot(mus,uniform.H_to_L_individual.mean(axis=1),'o--')\n",
    "axarr[1].set_ylabel(r'H to L ratio',fontsize=24)\n",
    "axarr[1].set_xlabel(r'Number of searchers',fontsize=24)\n",
    "axarr[1].set_xticks(xticks)\n",
    "\n",
    "fig.tight_layout()\n",
    "fig.savefig('%s/sim_H_to_L_uniform.pdf'%(figures_dir))\n",
    "plt.show()"
   ]
  },
  {
   "cell_type": "code",
   "execution_count": null,
   "metadata": {},
   "outputs": [],
   "source": [
    "fig,axarr = plt.subplots(1,2,figsize=(12,4))\n",
    "\n",
    "xticks = range(1,20,2)\n",
    "\n",
    "axarr[0].plot(mus,HH.Hsites_theta.mean(axis=1),'o--')\n",
    "axarr[0].set_ylabel(r'Occupancy of H sites',fontsize=24)\n",
    "axarr[0].set_xlabel(r'Number of searchers',fontsize=24)\n",
    "axarr[0].set_xticks(xticks)\n",
    "\n",
    "axarr[1].plot(mus,HH.H_to_L_individual.mean(axis=1),'o--')\n",
    "axarr[1].set_ylabel(r'H to L ratio',fontsize=24)\n",
    "axarr[1].set_xlabel(r'Number of searchers',fontsize=24)\n",
    "axarr[1].set_xticks(xticks)\n",
    "\n",
    "fig.tight_layout()\n",
    "fig.savefig('%s/sim_H_to_L_HH.pdf'%(figures_dir))\n",
    "plt.show()"
   ]
  },
  {
   "cell_type": "code",
   "execution_count": null,
   "metadata": {},
   "outputs": [],
   "source": [
    "fig,axarr = plt.subplots(1,2,figsize=(10,4))\n",
    "xticks = range(1,20,2)\n",
    "for j in xrange(nH) :\n",
    "    if j==0 or j==1 :\n",
    "        color='r'\n",
    "    else :\n",
    "        color='k'\n",
    "    axarr[0].plot(mus,uniform.H_to_L_individual[:,j],color=color)\n",
    "    axarr[1].plot(mus,HH.H_to_L_individual[:,j],color=color)\n",
    "axarr[0].set_title('No contacts',fontsize=32)\n",
    "axarr[1].set_title('With contacts',fontsize=32)\n",
    "for ax in axarr :\n",
    "    ax.set_xlabel(r'Number of searchers',fontsize=24)\n",
    "    ax.set_xticks(xticks)\n",
    "axarr[0].set_ylabel(r'H to L ratio',fontsize=24)\n",
    "fig.tight_layout()\n",
    "fig.savefig('%s/sim_H_to_L_individual.pdf'%(figures_dir))\n",
    "plt.show()"
   ]
  },
  {
   "cell_type": "code",
   "execution_count": null,
   "metadata": {},
   "outputs": [],
   "source": [
    "# now calculate the number of counts corresponding to the High peaks, \n",
    "# as a function of the concentration of hormone\n",
    "Hpeaks_count = np.zeros((nHpeaks,nconditions))\n",
    "averageL = np.zeros(nconditions)\n",
    "H_to_L_individual = np.zeros((nHpeaks,nconditions))\n",
    "\n",
    "# fill the arrays\n",
    "for j,condition in enumerate(conditions) :\n",
    "    averageL[j] = pr_peaks.average_peak_counts(Lpeaks,condition)\n",
    "    for i,peak in enumerate(Hpeaks) :\n",
    "        Hpeaks_count[i,j] = condition.peak_counts(peak)\n",
    "        H_to_L_individual[i,j] = Hpeaks_count[i,j]/averageL[j]"
   ]
  },
  {
   "cell_type": "code",
   "execution_count": null,
   "metadata": {},
   "outputs": [],
   "source": [
    "fig = plt.figure(figsize=(6,4))\n",
    "for j in xrange(100) :\n",
    "    plt.loglog(concentrations,H_to_L_individual[j,:])\n",
    "plt.xlabel('Concentration of hormone [nM]',fontsize=24)\n",
    "plt.ylabel('H to L ratio',fontsize=24)\n",
    "fig.tight_layout()\n",
    "fig.savefig('%s/H_to_L_individual.pdf'%(figures_dir))\n",
    "plt.show()"
   ]
  },
  {
   "cell_type": "code",
   "execution_count": null,
   "metadata": {},
   "outputs": [],
   "source": [
    "corrmat = np.zeros((nHpeaks,nHpeaks))\n",
    "for i in xrange(nHpeaks) :\n",
    "    for j in xrange(i,nHpeaks) :\n",
    "        c = np.corrcoef(H_to_L_individual[i,:],H_to_L_individual[j,:])[0,1]\n",
    "        corrmat[i,j] = corrmat[j,i] = c"
   ]
  },
  {
   "cell_type": "code",
   "execution_count": null,
   "metadata": {},
   "outputs": [],
   "source": [
    "start,end = 50,60\n",
    "fig,ax = plt.subplots(1,1,figsize=(10,10))\n",
    "cb = ax.matshow(corrmat[start:end,start:end])\n",
    "# cax = plt.colorbar(cb)\n",
    "yticks = range(start,end)\n",
    "ax.set_yticks(range(len(yticks)))\n",
    "ax.set_yticklabels([str(Hpeaks[i]) for i in yticks])\n",
    "fig.tight_layout()\n",
    "fig.savefig('%s/peak_correlation.png'%(figures_dir),bbox_inches='tight')\n",
    "plt.show()"
   ]
  }
 ],
 "metadata": {
  "kernelspec": {
   "display_name": "Python 2",
   "language": "python",
   "name": "python2"
  },
  "language_info": {
   "codemirror_mode": {
    "name": "ipython",
    "version": 2
   },
   "file_extension": ".py",
   "mimetype": "text/x-python",
   "name": "python",
   "nbconvert_exporter": "python",
   "pygments_lexer": "ipython2"
  }
 },
 "nbformat": 4,
 "nbformat_minor": 2
}
