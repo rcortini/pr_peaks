{
 "cells": [
  {
   "cell_type": "code",
   "execution_count": null,
   "metadata": {},
   "outputs": [],
   "source": [
    "%matplotlib inline\n",
    "%load_ext autoreload\n",
    "%autoreload 2"
   ]
  },
  {
   "cell_type": "code",
   "execution_count": null,
   "metadata": {},
   "outputs": [],
   "source": [
    "import numpy as np\n",
    "import matplotlib.pyplot as plt\n",
    "import mybiotools as mbt\n",
    "import pr_peaks\n",
    "from scipy.stats import gaussian_kde"
   ]
  },
  {
   "cell_type": "markdown",
   "metadata": {},
   "source": [
    "# 2018-02-23 Are you sure?\n",
    "I think I have to be super-sure that there really is this non-monotonic behaviour that is driving me nuts."
   ]
  },
  {
   "cell_type": "code",
   "execution_count": null,
   "metadata": {},
   "outputs": [],
   "source": [
    "high       = pr_peaks.Condition('high'   ,'all_treated',0.05,'gv_107_01_01_chipseq')\n",
    "medium1    = pr_peaks.Condition('medium1','4HCP'       ,0.10,'gv_108_01_01_chipseq')\n",
    "medium2    = pr_peaks.Condition('medium2','3HCP'       ,0.50,'gv_109_01_01_chipseq')\n",
    "medium3    = pr_peaks.Condition('medium3','3HCP'       ,1.00,'gv_110_01_01_chipseq')\n",
    "low        = pr_peaks.Condition('low'    ,'1HCP'       ,10.0,'gv_111_01_01_chipseq')"
   ]
  },
  {
   "cell_type": "markdown",
   "metadata": {},
   "source": [
    "**NOTE**: I don't have the list of the 2HCP peaks. However, this for the moment doesn't matter, because I don't need to perform the averages on that population. In case, I'll define the ratios for the M peaks, as the one corresponding to the 3HCP case.\n",
    "\n",
    "Now I define the peaks, so that I can perform the averages easily."
   ]
  },
  {
   "cell_type": "code",
   "execution_count": null,
   "metadata": {},
   "outputs": [],
   "source": [
    "Hpeaks = high.peaks\n",
    "Mpeaks = medium2.peaks\n",
    "Lpeaks = low.peaks"
   ]
  },
  {
   "cell_type": "code",
   "execution_count": null,
   "metadata": {},
   "outputs": [],
   "source": [
    "# calculate all the values\n",
    "conditions = [high,medium1,medium2,medium3,low]\n",
    "nconditions = len(conditions)\n",
    "concentrations = [condition.concentration for condition in conditions]\n",
    "H_to_L = np.zeros(nconditions)\n",
    "M_to_L = np.zeros(nconditions)\n",
    "for i,condition in enumerate(conditions) :\n",
    "    condition.avH  = pr_peaks.average_peak_counts(Hpeaks,condition)\n",
    "    condition.avM  = pr_peaks.average_peak_counts(Mpeaks,condition)\n",
    "    condition.avL  = pr_peaks.average_peak_counts(Lpeaks,condition)\n",
    "    H_to_L[i] = condition.avH/condition.avL\n",
    "    M_to_L[i] = condition.avM/condition.avL"
   ]
  },
  {
   "cell_type": "code",
   "execution_count": null,
   "metadata": {},
   "outputs": [],
   "source": [
    "H_to_M = np.zeros(nconditions)\n",
    "for i,condition in enumerate(conditions) :\n",
    "    H_to_M[i] = condition.avH/condition.avM"
   ]
  },
  {
   "cell_type": "code",
   "execution_count": null,
   "metadata": {},
   "outputs": [],
   "source": [
    "plt.semilogx(concentrations,H_to_L,'o--',label='H to L')\n",
    "plt.semilogx(concentrations,H_to_M,'v--',label='H to M')\n",
    "plt.semilogx(concentrations,M_to_L,'^--',label='M to L')\n",
    "plt.axhline(y=1,linestyle='--',linewidth=0.75,color='k')\n",
    "plt.xlabel('Concentration [nM]')\n",
    "plt.ylabel('Ratio')\n",
    "plt.legend(loc='upper right')\n",
    "plt.show()"
   ]
  },
  {
   "cell_type": "code",
   "execution_count": null,
   "metadata": {},
   "outputs": [],
   "source": [
    "avH = [condition.avH for condition in conditions]\n",
    "avM = [condition.avM for condition in conditions]\n",
    "avL = [condition.avL for condition in conditions]"
   ]
  },
  {
   "cell_type": "code",
   "execution_count": null,
   "metadata": {},
   "outputs": [],
   "source": [
    "plt.loglog(concentrations,avH,'o--',linewidth=1,label='High')\n",
    "plt.loglog(concentrations,avM,'^--',linewidth=1,label='Medium')\n",
    "plt.loglog(concentrations,avL,'x--',linewidth=1,label='Low')\n",
    "plt.xlabel('Concentration [nM]')\n",
    "plt.ylabel('Number of reads')\n",
    "plt.legend(loc='lower right')\n",
    "plt.show()"
   ]
  },
  {
   "cell_type": "markdown",
   "metadata": {},
   "source": [
    "Let's make sure that there is no important effect due to the peak size."
   ]
  },
  {
   "cell_type": "code",
   "execution_count": null,
   "metadata": {},
   "outputs": [],
   "source": [
    "Lpeaksize = np.zeros(len(Lpeaks),dtype=np.int32)\n",
    "Mpeaksize = np.zeros(len(Mpeaks),dtype=np.int32)\n",
    "Hpeaksize = np.zeros(len(Hpeaks),dtype=np.int32)\n",
    "for i,peak in enumerate(Lpeaks) :\n",
    "    Lpeaksize[i] = peak['end']-peak['start']\n",
    "for i,peak in enumerate(Mpeaks) :\n",
    "    Mpeaksize[i] = peak['end']-peak['start']\n",
    "for i,peak in enumerate(Hpeaks) :\n",
    "    Hpeaksize[i] = peak['end']-peak['start']    "
   ]
  },
  {
   "cell_type": "code",
   "execution_count": null,
   "metadata": {},
   "outputs": [],
   "source": [
    "Lsize_k = gaussian_kde(Lpeaksize)\n",
    "Msize_k = gaussian_kde(Mpeaksize)\n",
    "Hsize_k = gaussian_kde(Hpeaksize)"
   ]
  },
  {
   "cell_type": "code",
   "execution_count": null,
   "metadata": {},
   "outputs": [],
   "source": [
    "x = np.arange(150,1500)\n",
    "plt.plot(x,Hsize_k(x),label='High')\n",
    "plt.plot(x,Msize_k(x),label='Medium')\n",
    "plt.plot(x,Lsize_k(x),label='Low')\n",
    "plt.legend(loc='upper right')\n",
    "plt.xlabel('Peak size')\n",
    "plt.ylabel('Distribution')\n",
    "plt.show()"
   ]
  },
  {
   "cell_type": "markdown",
   "metadata": {},
   "source": [
    "So there is indeed a significant difference in the size of the peaks. So now I do a basic thing: normalize the count of each peak per base pair."
   ]
  },
  {
   "cell_type": "code",
   "execution_count": null,
   "metadata": {},
   "outputs": [],
   "source": [
    "def average_peak_counts_normalized(peaks,condition) :\n",
    "    npeaks = peaks.size\n",
    "    pcounts = np.zeros(npeaks)\n",
    "    for i,peak in enumerate(peaks) :\n",
    "        pcounts[i] = condition.peak_counts(peak)/float(peak['end']-peak['start'])\n",
    "    return pcounts.mean()"
   ]
  },
  {
   "cell_type": "code",
   "execution_count": null,
   "metadata": {},
   "outputs": [],
   "source": [
    "# calculate all the values\n",
    "conditions = [high,medium1,medium2,medium3,low]\n",
    "nconditions = len(conditions)\n",
    "concentrations = [condition.concentration for condition in conditions]\n",
    "H_to_L_norm = np.zeros(nconditions)\n",
    "M_to_L_norm = np.zeros(nconditions)\n",
    "for i,condition in enumerate(conditions) :\n",
    "    condition.avH_norm  = average_peak_counts_normalized(Hpeaks,condition)\n",
    "    condition.avM_norm  = average_peak_counts_normalized(Mpeaks,condition)\n",
    "    condition.avL_norm  = average_peak_counts_normalized(Lpeaks,condition)\n",
    "    H_to_L_norm[i] = condition.avH_norm/condition.avL_norm\n",
    "    M_to_L_norm[i] = condition.avM_norm/condition.avL_norm"
   ]
  },
  {
   "cell_type": "code",
   "execution_count": null,
   "metadata": {},
   "outputs": [],
   "source": [
    "avH_norm = [condition.avH_norm for condition in conditions]\n",
    "avM_norm = [condition.avM_norm for condition in conditions]\n",
    "avL_norm = [condition.avL_norm for condition in conditions]"
   ]
  },
  {
   "cell_type": "code",
   "execution_count": null,
   "metadata": {},
   "outputs": [],
   "source": [
    "plt.semilogx(concentrations,avH_norm,'o--',linewidth=1,label='High')\n",
    "plt.semilogx(concentrations,avM_norm,'^--',linewidth=1,label='Medium')\n",
    "plt.semilogx(concentrations,avL_norm,'x--',linewidth=1,label='Low')\n",
    "plt.xlabel('Concentration [nM]')\n",
    "plt.ylabel('Number of reads (normalized)')\n",
    "plt.legend(loc='lower right')\n",
    "plt.show()"
   ]
  },
  {
   "cell_type": "code",
   "execution_count": null,
   "metadata": {},
   "outputs": [],
   "source": [
    "plt.semilogx(concentrations,H_to_L_norm,'o--',label='H to L')\n",
    "plt.semilogx(concentrations,M_to_L_norm,'^--',label='M to L')\n",
    "plt.axhline(y=1,linestyle='--',linewidth=0.75,color='k')\n",
    "plt.xlabel('Concentration [nM]')\n",
    "plt.ylabel('Ratio (normalized)')\n",
    "plt.legend(loc='upper right')\n",
    "plt.show()"
   ]
  },
  {
   "cell_type": "markdown",
   "metadata": {},
   "source": [
    "So even normalizing the number of reads per base pair, I still obtain this lovely maximum of the h-ratio enhancement. What about the GC content of the sequences? Could that reflect PCR biases?"
   ]
  }
 ],
 "metadata": {
  "kernelspec": {
   "display_name": "Python 2",
   "language": "python",
   "name": "python2"
  },
  "language_info": {
   "codemirror_mode": {
    "name": "ipython",
    "version": 2
   },
   "file_extension": ".py",
   "mimetype": "text/x-python",
   "name": "python",
   "nbconvert_exporter": "python",
   "pygments_lexer": "ipython2"
  }
 },
 "nbformat": 4,
 "nbformat_minor": 2
}
