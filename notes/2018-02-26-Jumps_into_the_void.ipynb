{
 "cells": [
  {
   "cell_type": "code",
   "execution_count": null,
   "metadata": {},
   "outputs": [],
   "source": [
    "%matplotlib inline\n",
    "%load_ext autoreload\n",
    "%autoreload 2"
   ]
  },
  {
   "cell_type": "code",
   "execution_count": null,
   "metadata": {},
   "outputs": [],
   "source": [
    "import numpy as np\n",
    "import matplotlib.pyplot as plt\n",
    "import mybiotools as mbt\n",
    "import pr_peaks"
   ]
  },
  {
   "cell_type": "markdown",
   "metadata": {},
   "source": [
    "# 2018-02-26 Jumps into the void\n",
    "I am now sure that there is the non-monotonic behaviour of the ratio of reads between the high and the low peaks as a function of the concentration of hormone given. There are two possible explanations for this effect:\n",
    "\n",
    "1. This is a result of some experimental bias or experimental artefact.\n",
    "2. This is a real effect, and can be explained based on realistic assumptions about how the diffusion of TFs work inside cell nuclei.\n",
    "\n",
    "In this notebook I want to follow line number 2, and try to pursue an explanation for the observed effect.\n",
    "\n",
    "One effect that I systematically neglected so far is the fact that in a realistic situation the searchers (proteins that search the DNA) can also be searching in the 3D space of the cell nuclei. This represents a special state of the model, because *it does not have a limitation on the number of searchers that can be in it*. To model this state, I can add another site to the system, update the transition probabilities correspondingly, and perform the multi-agent simulations.\n",
    "\n",
    "Technically speaking, this requires chainging the code base because so far I treated the occupancy vector as a boolean vector, which implicitly takes into account the fact that no site \n",
    "can be occupied by two particles at the same time. Now I have to add another site which can be \n",
    "occupied by any number of particles.\n",
    "\n",
    "Here I want to do a quick test of what are the consequences of adding this void state. I'll re-code the simulation routines to allow for this extra state."
   ]
  },
  {
   "cell_type": "code",
   "execution_count": null,
   "metadata": {},
   "outputs": [],
   "source": [
    "class Searcher :\n",
    "    def __init__(self,index,site,td) :\n",
    "        self.index = index\n",
    "        self.site = site\n",
    "        self.td = td"
   ]
  },
  {
   "cell_type": "markdown",
   "metadata": {},
   "source": [
    "Here I start recoding. The new \"void\" state will be treated as the last state of the `omega_t` vector. This has the special property of having any number of searchers occupying it. At initialization, a certain number of sites are occupied, and the void state is occupied by a certain fraction `phi` of the total number of searchers. In the following function, we know how many searchers are in the network states by summing over `omega_t` up to the $n-1$-th site."
   ]
  },
  {
   "cell_type": "code",
   "execution_count": null,
   "metadata": {},
   "outputs": [],
   "source": [
    "def init_searchers(omega_t,site_taus,deterministic=False) :\n",
    "    # get parameters from the omega_t matrix\n",
    "    n = omega_t.size-1\n",
    "    m = omega_t.sum()\n",
    "    nvoid = omega_t[n]\n",
    "    # init the searchers\n",
    "    searchers = []\n",
    "    # \"searcher_sites\" is a vector of indices containing the indices\n",
    "    # of the sites occupied by the searchers\n",
    "    searcher_sites = np.where(omega_t[:n])[0]\n",
    "    # init the searchers that are on the network\n",
    "    for s in xrange(m-nvoid) :\n",
    "        site = searcher_sites[s]\n",
    "        if deterministic :\n",
    "            td = site_taus[site]\n",
    "        else :\n",
    "            td = np.random.exponential(scale=site_taus[site])\n",
    "        searcher = Searcher(s,site,td)\n",
    "        searchers.append(searcher)\n",
    "    # init the searchers that are in the void state\n",
    "    tauvoid = site_taus[n]\n",
    "    for s in xrange(nvoid) :    \n",
    "        if deterministic :\n",
    "            td = tauvoid\n",
    "        else :\n",
    "            td = np.random.exponential(scale=tauvoid)\n",
    "        searcher = Searcher(m-nvoid+s,n,td)\n",
    "        searchers.append(searcher)\n",
    "    return searchers"
   ]
  },
  {
   "cell_type": "markdown",
   "metadata": {},
   "source": [
    "In all the code, $n$ is the number of states in the network. The total number of states will always be $n+1$. Now the `omega_t` vector is not made of boolean values but of integers, because we want to know how many searchers are on the network and how many are in the void state."
   ]
  },
  {
   "cell_type": "code",
   "execution_count": null,
   "metadata": {},
   "outputs": [],
   "source": [
    "def init_omega_t(n,mu,phi,seed=None) :\n",
    "    # init the random number generator if it was passed\n",
    "    if seed is not None :\n",
    "        np.random.seed(seed)\n",
    "    # init omega vector\n",
    "    omega_t = np.zeros(n+1,dtype=np.int32)\n",
    "    # the number of void sites occupied\n",
    "    nvoid = int(mu*phi)\n",
    "    # fill with initial occupancy\n",
    "    omega_t[np.random.choice(n,mu-nvoid,replace=False)] = 1\n",
    "    omega_t[n] = nvoid\n",
    "    return omega_t"
   ]
  },
  {
   "cell_type": "markdown",
   "metadata": {},
   "source": [
    "Now the main simulation loop is modified accordingly. I init a `buff` boolean vector with dimension $n+1$. The last element is always `True`, because all the searchers can go to the void state at any moment. The other elements are akin to what was before the `omega_t` vector: `True` or `False` according to occupied/non-occupied state."
   ]
  },
  {
   "cell_type": "code",
   "execution_count": null,
   "metadata": {},
   "outputs": [],
   "source": [
    "def run_chair_simulation(nsteps,omega_t_initial,T,site_taus,\n",
    "                         seed=None,teq=0,tsample=1,deterministic=False) :\n",
    "    # init the random number generator if it was passed\n",
    "    if seed is not None :\n",
    "        np.random.seed(seed)\n",
    "    # make an internal copy of the initial omega_t matrix\n",
    "    omega_t = omega_t_initial.copy()\n",
    "    # no need to pass N,n,m through the arguments of the function\n",
    "    n = omega_t.size-1\n",
    "    m = omega_t.sum()\n",
    "    # init jumping matrix\n",
    "    J = np.zeros((n+1,n+1)).astype(np.int32)\n",
    "    # init searchers\n",
    "    searchers = init_searchers(omega_t,site_taus,deterministic=deterministic)\n",
    "    # init sampling matrix\n",
    "    nsamples = (nsteps-teq)/tsample\n",
    "    samples = np.zeros((nsamples,n),dtype=np.int32)\n",
    "    i_sample = 0\n",
    "    # init passage buffer\n",
    "    buff = np.ones(n+1,dtype=bool)\n",
    "    # cycle on time\n",
    "    for step in xrange(1,nsteps+1) :\n",
    "        # cycle on the searchers\n",
    "        for s in xrange(m) :\n",
    "            # print s,m\n",
    "            searcher = searchers[s]\n",
    "            # if the searcher has to stay longer on the site, skip it\n",
    "            if step>=searcher.td :\n",
    "                # if not, get the elements corresponding to the transition matrix:\n",
    "                # note here that buff represents the occupancy vector, but is always\n",
    "                # filled up to the element n-1 of the vector, because the last one corresponds\n",
    "                # to jumps to the void state, which are always allowed\n",
    "                buff[:n] = omega_t[:n]==0\n",
    "                Tstar = T[searcher.site,:] * buff\n",
    "                Tstar /= Tstar.sum()\n",
    "                # now get the next site\n",
    "                next_site = np.random.choice(n+1,p=Tstar)\n",
    "                # update omega matrix\n",
    "                omega_t[searcher.site] -= 1\n",
    "                omega_t[next_site] += 1\n",
    "                # update jumping matrix\n",
    "                J[searcher.site,next_site] += 1\n",
    "                # update searcher\n",
    "                searcher.site = next_site\n",
    "                if deterministic :\n",
    "                    next_td = site_taus[searcher.site]\n",
    "                else :\n",
    "                    next_td = np.random.exponential(scale=site_taus[searcher.site])\n",
    "                searcher.td = step + next_td\n",
    "        # update samples: now the samples are saved only up to the n-1-th element of the\n",
    "        # omega_t vector, because we can know how many searchers are in the void state\n",
    "        # by performing a simple difference\n",
    "        if step>teq and (step-teq)%tsample==0 :\n",
    "            samples[i_sample,:] = omega_t[:n]\n",
    "            i_sample += 1\n",
    "    return omega_t, J, samples"
   ]
  },
  {
   "cell_type": "code",
   "execution_count": null,
   "metadata": {},
   "outputs": [],
   "source": [
    "class JumpingModel :\n",
    "    def __init__ (self,T,site_taus) :\n",
    "        self.T = T\n",
    "        self.site_taus = site_taus\n",
    "        self.omega_t = {}\n",
    "        self.J = {}\n",
    "        self.samples = {}\n",
    "        self.theta = {}\n",
    "    def run(self,nsteps,mu,omega_t_initial,\n",
    "           seed=None,teq=0,tsample=1,deterministic=False) :\n",
    "        self.omega_t[mu],self.J[mu],self.samples[mu] = \\\n",
    "                run_chair_simulation(nsteps,omega_t_initial,self.T,self.site_taus,\n",
    "                                    seed=seed,teq=teq,tsample=tsample,deterministic=deterministic)\n",
    "        self.theta[mu] = self.samples[mu].sum(axis=0)/float(self.samples[mu].sum())"
   ]
  },
  {
   "cell_type": "markdown",
   "metadata": {},
   "source": [
    "Now the simulation code is ready. Below I test the results of the simulations in a simple network topology: the case in which the void state is the necessary transition hub between any two states. That is: if a searcher is on a network state, the only jump it can make is to the void state, and from the void state it can make a transition to any other state."
   ]
  },
  {
   "cell_type": "code",
   "execution_count": null,
   "metadata": {},
   "outputs": [],
   "source": [
    "# general simulation parameters\n",
    "nsteps = 10000\n",
    "teq = 0\n",
    "tsample = 1\n",
    "deterministic=True\n",
    "mus = np.arange(2,50,10)\n",
    "phi = 0.50\n",
    "\n",
    "# prepare site_taus\n",
    "n = 100\n",
    "nH = 10\n",
    "np.random.seed(6589)\n",
    "# Hsites and Lsites\n",
    "Hsites = np.random.choice(n,size=nH,replace=False)\n",
    "Lsites = range(n)\n",
    "for site in Hsites :\n",
    "    Lsites.remove(site)\n",
    "site_taus = 2.0*np.ones(n+1)\n",
    "site_taus[Hsites] = 20.0\n",
    "\n",
    "# UNIFORM transition matrix\n",
    "Tuni = np.zeros((n+1,n+1))\n",
    "for i in xrange(n) :\n",
    "    Tuni[i,i] = 0.0\n",
    "    Tuni[i,n] = 1.0\n",
    "    Tuni[n,i] = 1.0\n",
    "Tuni = mbt.row_normalize_matrix(Tuni)\n",
    "uni = JumpingModel(Tuni,site_taus)"
   ]
  },
  {
   "cell_type": "code",
   "execution_count": null,
   "metadata": {},
   "outputs": [],
   "source": [
    "# simulations\n",
    "for mu in mus :\n",
    "    omega_t_initial = init_omega_t(n,mu,phi)\n",
    "    mbt.log_message('Uni','mu = %d'%(mu))\n",
    "    uni.run(nsteps,mu,omega_t_initial,\n",
    "           seed=None,teq=0,tsample=1,deterministic=True)"
   ]
  },
  {
   "cell_type": "code",
   "execution_count": null,
   "metadata": {},
   "outputs": [],
   "source": [
    "# aftermath\n",
    "pr_peaks.H_to_L(uni,Hsites,Lsites)"
   ]
  },
  {
   "cell_type": "code",
   "execution_count": null,
   "metadata": {},
   "outputs": [],
   "source": [
    "plt.plot(uni.samples[12].sum(axis=1))\n",
    "plt.xlabel(\"Time step\")\n",
    "plt.ylabel(\"Number of searcher in void\")\n",
    "plt.show()"
   ]
  },
  {
   "cell_type": "code",
   "execution_count": null,
   "metadata": {},
   "outputs": [],
   "source": [
    "plt.plot(mus,uni.H_to_L,'o--')\n",
    "plt.xlabel(r'$\\mu$')\n",
    "plt.ylabel(\"H to L ratio\")\n",
    "plt.show()"
   ]
  },
  {
   "cell_type": "markdown",
   "metadata": {},
   "source": [
    "The result of this study is that at least in the case of the simple topology chosen in this case, there is no qualitative difference between the previous case and this one. It is effectively like having a system in which there is a variable number of searchers in the network."
   ]
  }
 ],
 "metadata": {
  "kernelspec": {
   "display_name": "Python 2",
   "language": "python",
   "name": "python2"
  },
  "language_info": {
   "codemirror_mode": {
    "name": "ipython",
    "version": 2
   },
   "file_extension": ".py",
   "mimetype": "text/x-python",
   "name": "python",
   "nbconvert_exporter": "python",
   "pygments_lexer": "ipython2"
  }
 },
 "nbformat": 4,
 "nbformat_minor": 2
}
