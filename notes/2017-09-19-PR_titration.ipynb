{
 "cells": [
  {
   "cell_type": "code",
   "execution_count": null,
   "metadata": {},
   "outputs": [],
   "source": [
    "%matplotlib inline\n",
    "%load_ext autoreload\n",
    "%autoreload 2"
   ]
  },
  {
   "cell_type": "code",
   "execution_count": null,
   "metadata": {},
   "outputs": [],
   "source": [
    "import numpy as np\n",
    "import matplotlib.pyplot as plt\n",
    "import mybiotools as mbt\n",
    "import scipy\n",
    "import os, sys\n",
    "from Bio import SeqIO, Seq\n",
    "from Bio.Alphabet import IUPAC\n",
    "from Bio.motifs.matrix import PositionWeightMatrix"
   ]
  },
  {
   "cell_type": "markdown",
   "metadata": {},
   "source": [
    "# PR titration\n",
    "Guille and Roser performed experiments with different concentrations of R5020 given to the T47D cell line, and observed interesting effects. At the smallest concentrations of the progestin, about ~750 peaks of PR binding appear in the ChIP-seq profiles. These peaks are conserved in all successive experiments done at higher hormone concentrations.\n",
    "\n",
    "It would be interesting to be able to **predict** that those are the peaks that should appear first when adding small amounts of hormone. The idea could be that the 3D structure of the genome somehow guides the search process, so that those first sites are consistently found first when adding small amounts of hormone.\n",
    "\n",
    "To study all of this process, the first thing I should do is load the data. Let's start with loading the ChIP-seq track of the PR at the lowest concentration that they looked at."
   ]
  },
  {
   "cell_type": "code",
   "execution_count": null,
   "metadata": {},
   "outputs": [],
   "source": [
    "def parse_simple_bed (fname) :\n",
    "    \"\"\"\n",
    "    A parser for a BED file that contains only the indication of chromosome,\n",
    "    region start and region end.\n",
    "    \"\"\"\n",
    "    simple_bed_dtype = np.dtype([\n",
    "                                ('chr','S10'),\n",
    "                                ('start',np.int64),\n",
    "                                ('end',np.int64)\n",
    "                               ])\n",
    "    return np.genfromtxt (fname,dtype=simple_bed_dtype)"
   ]
  },
  {
   "cell_type": "code",
   "execution_count": null,
   "metadata": {},
   "outputs": [],
   "source": [
    "def load_peaks (peaks_id,xavi_datadir='/mnt/xavi') :\n",
    "    datadir = '%s/projects/gvicent/analysis/2017-01-23_characterisation_prbs_r5020_titration/tables'%(xavi_datadir)\n",
    "    datafile = '%s/genomic_coordinates_by_peak_population_%s.bed'%(datadir,peaks_id)\n",
    "    return parse_simple_bed(datafile)"
   ]
  },
  {
   "cell_type": "code",
   "execution_count": null,
   "metadata": {},
   "outputs": [],
   "source": [
    "peak_types = ['all_treated','4HCP','3HCP','1HCP']\n",
    "peaks = {}\n",
    "for peak_type in peak_types :\n",
    "    peaks[peak_type] = load_peaks(peak_type)"
   ]
  },
  {
   "cell_type": "markdown",
   "metadata": {},
   "source": [
    "Now the data is loaded, let's look a little bit at whether we can do some simple stuff using the Hi-C data for the same cell line and at the time before treatment with hormone."
   ]
  },
  {
   "cell_type": "code",
   "execution_count": null,
   "metadata": {},
   "outputs": [],
   "source": [
    "hic_sample_id = 'dc3a1e069_467f847a2'\n",
    "resolution = 50000\n",
    "hic_file = mbt.hic_location(hic_sample_id,resolution,datatype_string='normalized')\n",
    "if os.path.exists(hic_file) : print hic_file"
   ]
  },
  {
   "cell_type": "code",
   "execution_count": null,
   "metadata": {},
   "outputs": [],
   "source": [
    "hic = mbt.parse_hic(hic_file)"
   ]
  },
  {
   "cell_type": "markdown",
   "metadata": {},
   "source": [
    "Let's start by drawing some stuff."
   ]
  },
  {
   "cell_type": "code",
   "execution_count": null,
   "metadata": {},
   "outputs": [],
   "source": [
    "class Chromosome :\n",
    "    def __init__ (self,name) :\n",
    "        self.name = name"
   ]
  },
  {
   "cell_type": "code",
   "execution_count": null,
   "metadata": {},
   "outputs": [],
   "source": [
    "def counts_to_hic (counts,start,end,resolution) :\n",
    "    \"\"\"\n",
    "    Returns a complete filled matrix given the 'counts' array, by taking\n",
    "    for granted that the counts correspond to a given chromosome.\n",
    "    \"\"\"\n",
    "    N = (end-start)/resolution + 1\n",
    "    H = np.zeros((N,N),dtype=counts['val'].dtype)\n",
    "    for h in counts :\n",
    "        i = (h['i']-start)/resolution\n",
    "        j = (h['j']-start)/resolution\n",
    "        H[i,j] = H[j,i] = h['val']\n",
    "    return H"
   ]
  },
  {
   "cell_type": "code",
   "execution_count": null,
   "metadata": {},
   "outputs": [],
   "source": [
    "chromosome_name = 'chr18'\n",
    "chromosome = Chromosome (chromosome_name)\n",
    "chromosome_hic = np.array([h for h in hic if h['chr']==chromosome_name])\n",
    "N = max(chromosome_hic['i'].max(),chromosome_hic['j'].max())\n",
    "n = N/resolution\n",
    "chromosome.H = counts_to_hic(chromosome_hic,0,N,resolution)"
   ]
  },
  {
   "cell_type": "code",
   "execution_count": null,
   "metadata": {},
   "outputs": [],
   "source": [
    "# I'll plot the \"all_treated\" peaks first\n",
    "chromosome.peaks = {}\n",
    "peak_type = 'all_treated'\n",
    "chromosome.peaks[peak_type] = np.array([p for p in peaks[peak_type] if p['chr']==chromosome_name])\n",
    "x = np.arange(n)\n",
    "y = np.zeros(n)\n",
    "for p in chromosome.peaks[peak_type] :\n",
    "    i = p['start']/resolution\n",
    "    y[i] = 1.0"
   ]
  },
  {
   "cell_type": "code",
   "execution_count": null,
   "metadata": {},
   "outputs": [],
   "source": [
    "fig = plt.figure(figsize=(10,12))\n",
    "gs = plt.GridSpec(2,1,hspace=0,height_ratios=[10,2])\n",
    "ax = plt.subplot(gs[0,0])\n",
    "ax.matshow(1-np.log(chromosome.H),cmap=plt.cm.Greens)\n",
    "ax = plt.subplot(gs[1,0],sharex=ax)\n",
    "mbt.line_plot(ax,x,y)"
   ]
  },
  {
   "cell_type": "markdown",
   "metadata": {},
   "source": [
    "Okay let's do it for all the chromosomes."
   ]
  },
  {
   "cell_type": "code",
   "execution_count": null,
   "metadata": {},
   "outputs": [],
   "source": [
    "chromosomes = ['chr%d'%d for d in range(1,23)]"
   ]
  },
  {
   "cell_type": "code",
   "execution_count": null,
   "metadata": {},
   "outputs": [],
   "source": [
    "peak_type = 'all_treated'\n",
    "for chromosome_name in chromosomes :\n",
    "    chromosome = Chromosome (chromosome_name)\n",
    "    chromosome_hic = np.array([h for h in hic if h['chr']==chromosome_name])\n",
    "    N = max(chromosome_hic['i'].max(),chromosome_hic['j'].max())\n",
    "    n = N/resolution\n",
    "    chromosome.H = counts_to_hic(chromosome_hic,0,N,resolution)\n",
    "    chromosome.peaks = {}\n",
    "    chromosome.peaks[peak_type] = np.array([p for p in peaks[peak_type] if p['chr']==chromosome_name])\n",
    "    x = np.arange(n)\n",
    "    y = np.zeros(n)\n",
    "    for p in chromosome.peaks[peak_type] :\n",
    "        i = p['start']/resolution\n",
    "        y[i] = 1.0\n",
    "    fig = plt.figure(figsize=(10,12))\n",
    "    gs = plt.GridSpec(2,1,hspace=0,height_ratios=[10,2])\n",
    "    ax = plt.subplot(gs[0,0])\n",
    "    ax.matshow(1-np.log(chromosome.H),cmap=plt.cm.Greens)\n",
    "    ax = plt.subplot(gs[1,0],sharex=ax)\n",
    "    mbt.line_plot(ax,x,y)\n",
    "    fig.savefig('/home/rcortini/work/CRG/code/notes/human/2017-09-19-PR_titration/%s.png'%chromosome_name)"
   ]
  },
  {
   "cell_type": "markdown",
   "metadata": {},
   "source": [
    "By visually looking at the patterns, I don't see anything. Let's look at the sequence."
   ]
  },
  {
   "cell_type": "code",
   "execution_count": null,
   "metadata": {},
   "outputs": [],
   "source": [
    "hg19_genome_file = os.getenv('HOME') + '/work/data/GRCh37.fasta'\n",
    "h19 = SeqIO.index (hg19_genome_file,'fasta',alphabet=IUPAC.unambiguous_dna)"
   ]
  },
  {
   "cell_type": "code",
   "execution_count": null,
   "metadata": {},
   "outputs": [],
   "source": [
    "# load the PR binding motif matrix so that Bio understands it\n",
    "M = np.genfromtxt(os.getenv('HOME')+'/work/data/motif231.motif',comments='>')\n",
    "Mdict = {}\n",
    "for i,letter in enumerate(['A','C','G','T']) :\n",
    "    Mdict[letter] = M[:,i]\n",
    "pwm = PositionWeightMatrix(IUPAC.unambiguous_dna,Mdict)\n",
    "pssm = pwm.log_odds()\n",
    "motif_length = len(pwm['A'])"
   ]
  },
  {
   "cell_type": "code",
   "execution_count": null,
   "metadata": {},
   "outputs": [],
   "source": [
    "def get_max_seq_score(genome,peaks,pssm) :\n",
    "    max_scores = []\n",
    "    for peak in peaks :\n",
    "        seq = genome[peak['chr']].seq[peak['start']:peak['end']]\n",
    "        try :\n",
    "            scores_f = pssm.calculate(seq)\n",
    "            scores_b = pssm.reverse_complement().calculate(seq)\n",
    "            max_scores.append(max(scores_f.max(),scores_b.max()))\n",
    "        except MemoryError :\n",
    "            print seq, peak\n",
    "    return np.array(max_scores)"
   ]
  },
  {
   "cell_type": "code",
   "execution_count": null,
   "metadata": {},
   "outputs": [],
   "source": [
    "max_scores = {}\n",
    "for peak_type in peak_types :\n",
    "    mbt.log_message('get_max_seq_score','peak_type = %s'%peak_type)\n",
    "    max_scores[peak_type] = get_max_seq_score(h19,peaks[peak_type],pssm)"
   ]
  },
  {
   "cell_type": "code",
   "execution_count": null,
   "metadata": {},
   "outputs": [],
   "source": [
    "x = np.arange(-1.,15.,0.01)\n",
    "k_max_scores = {}\n",
    "for peak_type in peak_types :\n",
    "    k_max_scores[peak_type] =\\\n",
    "    scipy.stats.gaussian_kde(max_scores[peak_type][~np.isnan(max_scores[peak_type])])\n",
    "    plt.plot(x,k_max_scores[peak_type](x),label=peak_type)\n",
    "plt.legend(loc='upper left')\n",
    "plt.xlabel(\"Site affinity\",fontsize=24)\n",
    "plt.ylabel(\"Distribution\",fontsize=24)\n",
    "plt.show()"
   ]
  },
  {
   "cell_type": "markdown",
   "metadata": {},
   "source": [
    "The conclusion from this quick and dirty analysis is that the sites that are occupied at all the R5020 concentrations have a (maximum) binding affinity that is greater than that of other sequences that are bound at higher R5020 concentrations.\n",
    "\n",
    "# A toy model\n",
    "\n",
    "I want to look at a simple model in which I put in the following ingredients:\n",
    "\n",
    "- a fixed number of binding sites, each with its binding affinity given, and fixed\n",
    "- the binding affinity is in a one-to-one relationship to the time that the protein spends on it, by an exponential function\n",
    "- I'll look at what happens to the equilibrium distribution as a function of the number of searching proteins.\n",
    "- proteins can be either diffusing or bound"
   ]
  },
  {
   "cell_type": "code",
   "execution_count": null,
   "metadata": {},
   "outputs": [],
   "source": [
    "def affinity_to_time (affinity) :\n",
    "    return np.exp(affinity)"
   ]
  },
  {
   "cell_type": "code",
   "execution_count": null,
   "metadata": {},
   "outputs": [],
   "source": [
    "class Searcher :\n",
    "    def __init__(self,index) :\n",
    "        self.index = index"
   ]
  },
  {
   "cell_type": "code",
   "execution_count": null,
   "metadata": {},
   "outputs": [],
   "source": [
    "# number of sites in the system\n",
    "N = 50\n",
    "# init sites\n",
    "site_times = []\n",
    "affinity_mu = 1.0\n",
    "affinity_sigma = 0.2\n",
    "np.random.seed(934204)\n",
    "for i in xrange(N) :\n",
    "    affinity = np.random.normal(loc=affinity_mu,scale=affinity_sigma)\n",
    "    # affinity = affinity_mu\n",
    "    site_time = affinity_to_time (affinity)\n",
    "    site_times.append (site_time)\n",
    "site_times = np.asarray(site_times)"
   ]
  },
  {
   "cell_type": "code",
   "execution_count": null,
   "metadata": {},
   "outputs": [],
   "source": [
    "# number of searchers\n",
    "M = 10\n",
    "# the initial occupancy vector\n",
    "np.random.seed(9342)\n",
    "initial_occupied_sites = np.random.choice(N,M,replace=False)\n",
    "# init searchers\n",
    "searchers = []\n",
    "for i in xrange(M) :\n",
    "    searcher = Searcher(i)\n",
    "    # assign initial site to the searcher\n",
    "    searcher.site = initial_occupied_sites[i]\n",
    "    # assign the detach time to the searcher\n",
    "    searcher.td = np.random.exponential(scale=site_times[searcher.site])\n",
    "    searchers.append(searcher)\n",
    "    # print searcher.td"
   ]
  },
  {
   "cell_type": "code",
   "execution_count": null,
   "metadata": {},
   "outputs": [],
   "source": [
    "# total simulation time\n",
    "T = 100000\n",
    "# init occupancy\n",
    "occupancy = np.zeros(N,dtype=np.int32)\n",
    "occupancy_t = np.zeros((T,N),dtype=np.int32)\n",
    "# init occupied sites\n",
    "free_sites = np.ones(N,dtype=bool)\n",
    "free_sites[initial_occupied_sites] = False\n",
    "np.random.seed(934)\n",
    "# main simulation loop\n",
    "for t in xrange(T) :\n",
    "    occupancy_t[t,:] = free_sites.copy()\n",
    "    for searcher in searchers :\n",
    "        # update occupancy vector\n",
    "        occupancy[searcher.site] += 1\n",
    "        # check if this searcher has detached\n",
    "        if t<searcher.td : continue\n",
    "        # if not, choose a new site\n",
    "        found = False\n",
    "        while not found :\n",
    "            # this line chooses a new site randomly from the sites in\n",
    "            # the system\n",
    "            new_site = np.random.randint(0,N)\n",
    "            # check if new site is free\n",
    "            if free_sites[new_site] :\n",
    "                # if the chosen new site is free, then update the\n",
    "                # \"free_sites\" vector and the searcher.site\n",
    "                free_sites[new_site] = False\n",
    "                free_sites[searcher.site] = True\n",
    "                searcher.site = new_site\n",
    "                # assign the detach time to the searcher\n",
    "                searcher.td = t + np.random.exponential(scale=site_times[searcher.site])\n",
    "                found = True"
   ]
  },
  {
   "cell_type": "code",
   "execution_count": null,
   "metadata": {},
   "outputs": [],
   "source": [
    "fig = plt.figure(figsize=(4,14))\n",
    "gs = plt.GridSpec(3,1,height_ratios=[4,1,1],hspace=0)\n",
    "ax = plt.subplot(gs[0,0])\n",
    "ax.matshow(occupancy_t[1100:1300,:])\n",
    "ax = plt.subplot(gs[1,0],sharex=ax)\n",
    "x = np.arange(N)\n",
    "mbt.line_plot(ax,x,site_times,color='b')\n",
    "ax.set_ylabel('Times')\n",
    "ax = plt.subplot(gs[2,0],sharex=ax)\n",
    "mbt.line_plot(ax,x,occupancy,color='r')\n",
    "ax.set_ylabel('Occupancy')"
   ]
  },
  {
   "cell_type": "code",
   "execution_count": null,
   "metadata": {},
   "outputs": [],
   "source": [
    "fig = plt.figure(figsize=(10,4))\n",
    "ax = plt.subplot(111)\n",
    "x = np.arange(N)\n",
    "tav = site_times.mean()\n",
    "ax.plot(x,occupancy/(M*float(T)),color='b',label='M = 10')\n",
    "ax.plot(x,site_times/(N*tav),color='r',label='M = 1')\n",
    "ax.legend(loc='upper left')\n",
    "ax.axhline(y=1.0/N,linestyle='--',color='k',linewidth=0.75)\n",
    "ax.set_xlabel('Site index',fontsize=24)\n",
    "ax.set_ylabel('Occupancy',fontsize=24)\n",
    "plt.show()"
   ]
  },
  {
   "cell_type": "markdown",
   "metadata": {},
   "source": [
    "Okay so we have the first results of playing with this toy model. The results show that the high affinity sites become progressively depleted of occupancy, whereas the sites that have low affinity are progressively more occupied. The sites that do not change their occupancy are the ones that have their average residence time that corresponds to the **average residence time**. Therefore, this gives a possible avenue to estimate this quantity from real data. However, there is the big caveat that the enrichment/site score is perhaps not a good proxy for the residence time. Before tackling this complicated thing, I will encapsulate the simulation routine in a convenient function, so that I can test different cases easily."
   ]
  },
  {
   "cell_type": "code",
   "execution_count": null,
   "metadata": {},
   "outputs": [],
   "source": [
    "def TEV_model_simulate (T,N,M,site_times) :\n",
    "    np.random.seed(304998)\n",
    "    # init initial occupied sites\n",
    "    sites = np.random.choice(N,M,replace=False)\n",
    "    # init detach times vector\n",
    "    td = np.zeros(M)\n",
    "    for j in xrange(M) :\n",
    "        td[j] = np.random.exponential(scale=site_times[sites[j]])\n",
    "    # init initial occupancy\n",
    "    occupancy_t = np.zeros((T,N),dtype=bool)\n",
    "    occupancy_t[0,sites] = True\n",
    "    # main simulation loop\n",
    "    for t in xrange(1,T) :\n",
    "        occupancy_t[t,:] = occupancy_t[t-1,:].copy()\n",
    "        # print t,occupancy_t[t,:]\n",
    "        for j in xrange(M) :\n",
    "            # check if this searcher has detached\n",
    "            if t<td[j] : continue\n",
    "            # if not, choose a new site\n",
    "            found = False\n",
    "            while not found :\n",
    "                # this line chooses a new site randomly from the sites in\n",
    "                # the system\n",
    "                new_site = np.random.randint(0,N)\n",
    "                # check if new site is free\n",
    "                if not occupancy_t[t,new_site] :\n",
    "                    # if the chosen new site is free, then update the\n",
    "                    # \"free_sites\" vector and the searcher.site\n",
    "                    occupancy_t[t,new_site] = True\n",
    "                    occupancy_t[t,sites[j]] = False\n",
    "                    sites[j] = new_site\n",
    "                    # assign the detach time to the searcher\n",
    "                    td[j] = t + np.random.exponential(scale=site_times[new_site])\n",
    "                    found = True\n",
    "    return occupancy_t"
   ]
  },
  {
   "cell_type": "code",
   "execution_count": null,
   "metadata": {},
   "outputs": [],
   "source": [
    "N = 50\n",
    "# init sites\n",
    "site_times = []\n",
    "affinity_mu = 1.0\n",
    "affinity_sigma = 0.2\n",
    "for i in xrange(N) :\n",
    "    affinity = np.random.normal(loc=affinity_mu,scale=affinity_sigma)\n",
    "    # affinity = affinity_mu\n",
    "    site_time = affinity_to_time (affinity)\n",
    "    site_times.append (site_time)\n",
    "site_times = np.asarray(site_times)\n",
    "M = np.array([1,10,25,40])\n",
    "nM = len(M)\n",
    "T = 100000\n",
    "occupancy_m = np.zeros((nM,N),dtype=np.int32)\n",
    "for i,m in enumerate(M) :\n",
    "    occupancy_t = TEV_model_simulate(T,N,m,site_times)\n",
    "    occupancy_m[i,:] = occupancy_t.sum(axis=0)"
   ]
  },
  {
   "cell_type": "code",
   "execution_count": null,
   "metadata": {},
   "outputs": [],
   "source": [
    "imin = site_times.argmin()\n",
    "imax = site_times.argmax()\n",
    "imean = np.argmin(np.abs(tav-site_times))\n",
    "plt.plot(M,occupancy_m[:,imin]/(M*float(T)),label='Low affinity')\n",
    "plt.plot(M,occupancy_m[:,imax]/(M*float(T)),label='High affinity')\n",
    "plt.plot(M,occupancy_m[:,imean]/(M*float(T)),label='Mean affinity')\n",
    "plt.legend(loc='upper right')\n",
    "plt.xlabel('Number of searchers',fontsize=24)\n",
    "plt.ylabel('Occupancy',fontsize=24)\n",
    "plt.show()"
   ]
  },
  {
   "cell_type": "markdown",
   "metadata": {},
   "source": [
    "These results are quite clear. It's interesting to see how the gradient of the occupancy as a function of the concentration might help discern whether the site has an average residence time which is higher or lower than the mean residence time. Now the challenge is to figure out whether this model may explain anything about the data from Miguel's lab.\n",
    "\n",
    "# Back to the data\n",
    "\n",
    "Here I want to try and figure out a way of looking at whether the simple results from our basic model may explain any feature of the data on the PR titration experiments. The first thing is to load the raw ChIP-seq tracks, look at how the data on that peaks varies as a function of the concentration of PR."
   ]
  },
  {
   "cell_type": "code",
   "execution_count": null,
   "metadata": {},
   "outputs": [],
   "source": [
    "# prepare data\n",
    "concentrations = [0.05,0.10,0.50,1.0,10.0]\n",
    "track_ids = {}\n",
    "track_ids[0.05] = 'gv_107_01_01_chipseq'\n",
    "track_ids[0.10] = 'gv_108_01_01_chipseq'\n",
    "track_ids[0.50] = 'gv_109_01_01_chipseq'\n",
    "track_ids[1.0] = 'gv_110_01_01_chipseq'\n",
    "track_ids[10.0] = 'gv_111_01_01_chipseq'"
   ]
  },
  {
   "cell_type": "code",
   "execution_count": null,
   "metadata": {},
   "outputs": [],
   "source": [
    "# load all ChIP-seq tracks\n",
    "tracks = {}\n",
    "for concentration in concentrations :\n",
    "    f = mbt.track_location('chipseq',track_ids[concentration])\n",
    "    tracks[concentration] = mbt.parse_narrowpeak(f)"
   ]
  },
  {
   "cell_type": "markdown",
   "metadata": {},
   "source": [
    "Now we need to do the following: analyze how the ChIP-seq peaks' enrichment and/or q values vary as a function of the concentration. I'll start by picking one peak and writing the code to fetch this information from the tracks."
   ]
  },
  {
   "cell_type": "code",
   "execution_count": null,
   "metadata": {},
   "outputs": [],
   "source": [
    "# I pick one peak randomly\n",
    "peak = peaks['all_treated'][3]\n",
    "print peak"
   ]
  },
  {
   "cell_type": "code",
   "execution_count": null,
   "metadata": {},
   "outputs": [],
   "source": [
    "# now I need to find this peak in the loaded tracks\n",
    "track = tracks[0.50]\n",
    "# first I select the peaks corresponding to the peak's chromosome\n",
    "track_chr = np.array([p for p in track if p['chr']==peak['chr']])\n",
    "# then I need to see for each peak if there is an overlap between the peak's coordinates\n",
    "# and the one from the ChIP-seq track\n",
    "for p in track_chr :\n",
    "    # a tiny algorithm to test whether there is an overlap\n",
    "    d = max(p['end'],peak['end'])-min(p['start'],peak['start'])\n",
    "    D = (peak['end']-peak['start']) + (p['end']-p['start'])\n",
    "    if d<=D :\n",
    "        overlap = True\n",
    "        print p"
   ]
  },
  {
   "cell_type": "markdown",
   "metadata": {},
   "source": [
    "Okay this works. So let's look at the data for this peak."
   ]
  },
  {
   "cell_type": "code",
   "execution_count": null,
   "metadata": {},
   "outputs": [],
   "source": [
    "def find_peak (track,peak) :\n",
    "    # select the peaks that correspond to the correct chromosome\n",
    "    track_chr = np.array([p for p in track if p['chr']==peak['chr']])\n",
    "    # look for the peak in the track\n",
    "    for p in track_chr :\n",
    "        # a tiny algorithm to test whether there is an overlap\n",
    "        d = max(p['end'],peak['end'])-min(p['start'],peak['start'])\n",
    "        D = (peak['end']-peak['start']) + (p['end']-p['start'])\n",
    "        if d<=D :\n",
    "            overlap = True\n",
    "            return p"
   ]
  },
  {
   "cell_type": "code",
   "execution_count": null,
   "metadata": {},
   "outputs": [],
   "source": [
    "data = []\n",
    "for concentration in concentrations :\n",
    "    track = tracks[concentration]\n",
    "    data.append(find_peak(track,peak))"
   ]
  },
  {
   "cell_type": "code",
   "execution_count": null,
   "metadata": {},
   "outputs": [],
   "source": [
    "data"
   ]
  },
  {
   "cell_type": "code",
   "execution_count": null,
   "metadata": {},
   "outputs": [],
   "source": [
    "data_q = np.array([p['q'] for p in data])\n",
    "data_p = np.array([p['p'] for p in data])\n",
    "data_score = np.array([p['score'] for p in data])\n",
    "data_val = np.array([p['val'] for p in data])"
   ]
  },
  {
   "cell_type": "code",
   "execution_count": null,
   "metadata": {},
   "outputs": [],
   "source": [
    "plt.semilogx(concentrations,data_val)\n",
    "plt.xlabel('Concentration [nM]')\n",
    "plt.ylabel('Peak val')\n",
    "plt.show()"
   ]
  },
  {
   "cell_type": "code",
   "execution_count": null,
   "metadata": {},
   "outputs": [],
   "source": [
    "for concentration in concentrations :\n",
    "    print concentration, 'nM ',tracks[concentration].size, tracks[concentration]['score'].mean()"
   ]
  },
  {
   "cell_type": "code",
   "execution_count": null,
   "metadata": {},
   "outputs": [],
   "source": [
    "tracks[concentration]['p']"
   ]
  },
  {
   "cell_type": "markdown",
   "metadata": {},
   "source": [
    "Here the conclusion is quite clear: the enrichment of the high-affinity peaks is increasing as a function of the hormone concentration. This is at odds with the predictions of the TEV model. However, chances are that I might have missed an important piece of the puzzle, which is the regime in which there are many high-affinity sites and there are fewer searchers than high-affinity sites.\n",
    "\n",
    "So I want to go back to the problem and look at this regime. I will hypothesize that there are only two classes of sites: high-affinity and low-affinity sites. But I will simulate a much larger system than the one I did before.\n",
    "\n",
    "# A lot of high affinity sites\n",
    "\n",
    "Here I look at a different regime: $N$ large, a lot of high-affinity sites, and $M$ of the order of the number of high-affinity sites."
   ]
  },
  {
   "cell_type": "code",
   "execution_count": null,
   "metadata": {},
   "outputs": [],
   "source": [
    "N = 500\n",
    "phi_N = 0.1\n",
    "nhigh = int(N*phi_N)\n",
    "nlow = N-nhigh\n",
    "phi_M = 0.01\n",
    "M = int(N*phi_M)"
   ]
  },
  {
   "cell_type": "code",
   "execution_count": null,
   "metadata": {},
   "outputs": [],
   "source": [
    "site_times = np.ones(N)\n",
    "high_sites = np.random.choice(N,size=nhigh,replace=False)\n",
    "site_times[high_sites] = 10.0"
   ]
  },
  {
   "cell_type": "code",
   "execution_count": null,
   "metadata": {},
   "outputs": [],
   "source": [
    "T = 100000\n",
    "occupancy_t = TEV_model_simulate(T,N,M,site_times)"
   ]
  },
  {
   "cell_type": "code",
   "execution_count": null,
   "metadata": {},
   "outputs": [],
   "source": [
    "occupancy = occupancy_t.sum(axis=0)\n",
    "fig = plt.figure(figsize=(10,4))\n",
    "ax = plt.subplot(111)\n",
    "x = np.arange(N)\n",
    "tav = site_times.mean()\n",
    "ax.plot(x,site_times/(N*tav),color='r',label='Expected')\n",
    "ax.plot(x,occupancy/(M*float(T)),color='b',label='Occupancy')\n",
    "ax.legend(loc='upper left')\n",
    "ax.axhline(y=1.0/N)\n",
    "plt.show()"
   ]
  },
  {
   "cell_type": "markdown",
   "metadata": {},
   "source": [
    "Okay so we have no effect due to the fact that the number of searchers is lower than the number of high-affinity sites. The global effect is always that of relative depletion of the occupancy of the high-affinity sites.\n",
    "\n",
    "# Another idea\n",
    "\n",
    "Now it's true that the enrichment of the high-quality peaks increases with increasing concentration, but this may be due to the fact that there are many cells and there are more binding events per population. Within the single cell, it is possible that the effect of relative depletion of the occupancy of the high-quality peaks is still visible. This might be evident from the ratio of the enrichment of the medium (or low) quality peaks as compared to the ratio of the enrichment of the high quality peaks when increasing the concentration of hormone. Let's go and see."
   ]
  },
  {
   "cell_type": "code",
   "execution_count": null,
   "metadata": {},
   "outputs": [],
   "source": [
    "def do_peaks_overlap(peaks_chr,target_peak) :\n",
    "    target_peak_width = target_peak['end']-target_peak['start']\n",
    "    for p in peaks_chr :\n",
    "        # a tiny algorithm to test whether there is an overlap\n",
    "        d = max(p['end'],target_peak['end'])-min(p['start'],target_peak['start'])\n",
    "        D = target_peak_width + (p['end']-p['start'])\n",
    "        if d<=D :\n",
    "            overlap = True\n",
    "            return p\n",
    "    return None"
   ]
  },
  {
   "cell_type": "code",
   "execution_count": null,
   "metadata": {},
   "outputs": [],
   "source": [
    "def do_peaks_overlap_complete(candidate_peaks,target_peak) :\n",
    "    target_peak_width = target_peak['end']-target_peak['start']\n",
    "    peaks_chr = np.array([p for p in candidate_peaks if p['chr']==target_peak['chr']])\n",
    "    for p in peaks_chr :\n",
    "        # a tiny algorithm to test whether there is an overlap\n",
    "        d = max(p['end'],target_peak['end'])-min(p['start'],target_peak['start'])\n",
    "        D = target_peak_width + (p['end']-p['start'])\n",
    "        if d<=D :\n",
    "            overlap = True\n",
    "            return p\n",
    "    return None"
   ]
  },
  {
   "cell_type": "code",
   "execution_count": null,
   "metadata": {},
   "outputs": [],
   "source": [
    "chromosomes = ['chr%d'%d for d in range(1,23)]\n",
    "chromosomes.append('chrX')\n",
    "specific_4HCP_peaks = []\n",
    "for chromosome in chromosomes :\n",
    "    # do the search chromosome by chromosome: first select the peaks in the 4HCP\n",
    "    # population that correspond to a given chromosome (I drop the _chr in the names)\n",
    "    peaks_4HCP = np.array([p for p in peaks['4HCP'] if p['chr']==chromosome])\n",
    "    # select also all the peaks of that chromosome that correspond to the\n",
    "    # all-treated condition.\n",
    "    peaks_AT = np.array([p for p in peaks['all_treated'] if p['chr']==chromosome])\n",
    "    # now I don't have any other option but test the overlap of all against all\n",
    "    for peak_AT in peaks_AT :\n",
    "        p = do_peaks_overlap(peaks_4HCP,peak_AT)\n",
    "        if p is not None :\n",
    "            specific_4HCP_peaks.append(p)"
   ]
  },
  {
   "cell_type": "markdown",
   "metadata": {},
   "source": [
    "Okay I did not understand well the definitions of the populations: in the 4HCP population there are NOT the peaks that correspond to the \"all_treated\" conditions. Therefore I have the job simplified, because there are no overlaps to disentangle. Now let's proceed to evaluating the ratio between the enrichment of these peaks at the higher and lower concentration."
   ]
  },
  {
   "cell_type": "code",
   "execution_count": null,
   "metadata": {},
   "outputs": [],
   "source": [
    "# I start from a randomly chosen peak from the 4HCP population: if my reasoning is correct\n",
    "# this peak should be present in the 0.10 nM case, in the 0.50 nM case, but not in the 0.05 nM\n",
    "# case. First let's verify that this is indeed the case.\n",
    "target_peak_4HCP = peaks['4HCP'][1203]\n",
    "print target_peak_4HCP\n",
    "chromosome = target_peak_4HCP['chr']\n",
    "for condition in [0.05,0.10,0.50] :\n",
    "    track_chr = np.array([p for p in tracks[condition] if p['chr']==chromosome])\n",
    "    print condition, do_peaks_overlap(track_chr,target_peak_4HCP)"
   ]
  },
  {
   "cell_type": "markdown",
   "metadata": {},
   "source": [
    "Perfect, it works. I now create a table of the values of the peak scores for each class of peaks, for each condition."
   ]
  },
  {
   "cell_type": "code",
   "execution_count": null,
   "metadata": {},
   "outputs": [],
   "source": [
    "n_concentrations = len(concentrations)\n",
    "n_AT = len(peaks['all_treated'])\n",
    "scores_AT = np.zeros((n_AT,n_concentrations))\n",
    "target_peaks = peaks['all_treated']\n",
    "for i,target_peak in enumerate(target_peaks) :\n",
    "    chromosome = target_peak['chr']\n",
    "    for j in xrange(n_concentrations) :\n",
    "        concentration = concentrations[j]\n",
    "        this_track = tracks[concentration]\n",
    "        candidate_peaks = np.array([p for p in this_track if p['chr']==chromosome])\n",
    "        p = do_peaks_overlap(candidate_peaks,target_peak)\n",
    "        if p is None :\n",
    "            print concentration,target_peak\n",
    "        else :\n",
    "            scores_AT[i,j] = p['score']"
   ]
  },
  {
   "cell_type": "code",
   "execution_count": null,
   "metadata": {},
   "outputs": [],
   "source": [
    "n_4HCP = len(peaks['4HCP'])\n",
    "scores_4HCP = np.zeros((n_4HCP,n_concentrations))\n",
    "target_peaks = peaks['4HCP']\n",
    "for i,target_peak in enumerate(target_peaks) :\n",
    "    chromosome = target_peak['chr']\n",
    "    for j in xrange(1,n_concentrations) :\n",
    "        concentration = concentrations[j]\n",
    "        this_track = tracks[concentration]\n",
    "        candidate_peaks = np.array([p for p in this_track if p['chr']==chromosome])\n",
    "        p = do_peaks_overlap(candidate_peaks,target_peak)\n",
    "        if p is None :\n",
    "            print concentration,target_peak\n",
    "        else :\n",
    "            scores_4HCP[i,j] = p['score']"
   ]
  },
  {
   "cell_type": "code",
   "execution_count": null,
   "metadata": {},
   "outputs": [],
   "source": [
    "# fig, ax = plt.subplots(figsize=(10,10))\n",
    "plt.figure(figsize=(10,15))\n",
    "ax = plt.subplot(121)\n",
    "ax.imshow(scores_AT,aspect='auto')\n",
    "ax = plt.subplot(122)\n",
    "ax.imshow(scores_4HCP,aspect='auto')\n",
    "plt.show()"
   ]
  },
  {
   "cell_type": "markdown",
   "metadata": {},
   "source": [
    "Now that the data is conveniently all loaded into these two arrays, we can do the comparison between the increment of the score in the 4CP case versus the all_treated case."
   ]
  },
  {
   "cell_type": "code",
   "execution_count": null,
   "metadata": {},
   "outputs": [],
   "source": [
    "ratio_4HCP = scores_4HCP[:,2]/scores_4HCP[:,1]\n",
    "ratio_AT = scores_AT[:,2]/scores_AT[:,1]"
   ]
  },
  {
   "cell_type": "code",
   "execution_count": null,
   "metadata": {},
   "outputs": [],
   "source": [
    "diff_4HCP = scores_4HCP[:,2]-scores_4HCP[:,1]\n",
    "diff_AT = scores_AT[:,2]-scores_AT[:,1]"
   ]
  },
  {
   "cell_type": "code",
   "execution_count": null,
   "metadata": {},
   "outputs": [],
   "source": [
    "plt.hist(ratio_4HCP[~np.isnan(ratio_4HCP)],bins=100)\n",
    "plt.title(\"4HCP-specific peaks: ratio\")\n",
    "plt.xlim(0,20)\n",
    "plt.show()"
   ]
  },
  {
   "cell_type": "code",
   "execution_count": null,
   "metadata": {},
   "outputs": [],
   "source": [
    "plt.hist(ratio_AT[~np.isnan(ratio_AT)],bins=100)\n",
    "plt.xlim(0,20)\n",
    "plt.title(\"All treated: ratio\")\n",
    "plt.show()"
   ]
  },
  {
   "cell_type": "code",
   "execution_count": null,
   "metadata": {},
   "outputs": [],
   "source": [
    "plt.hist(diff_4HCP[~np.isnan(diff_4HCP)],bins=100)\n",
    "plt.title(\"4HCP-specific peaks: diff\")\n",
    "# plt.xlim(0,20)\n",
    "plt.show()"
   ]
  },
  {
   "cell_type": "code",
   "execution_count": null,
   "metadata": {},
   "outputs": [],
   "source": [
    "plt.hist(diff_AT[~np.isnan(diff_AT)],bins=100)\n",
    "plt.title(\"all-treated: diff\")\n",
    "# plt.xlim(0,20)\n",
    "plt.show()"
   ]
  },
  {
   "cell_type": "code",
   "execution_count": null,
   "metadata": {},
   "outputs": [],
   "source": [
    "x = np.arange(-2000,4000)\n",
    "k_diff_4HCP = scipy.stats.gaussian_kde(diff_4HCP[~np.isnan(diff_4HCP)])\n",
    "y_diff_4HCP = k_diff_4HCP(x)\n",
    "k_diff_AT = scipy.stats.gaussian_kde(diff_AT[~np.isnan(diff_AT)])\n",
    "y_diff_AT = k_diff_AT(x)"
   ]
  },
  {
   "cell_type": "code",
   "execution_count": null,
   "metadata": {},
   "outputs": [],
   "source": [
    "plt.plot(x,y_diff_4HCP,label='4HCP-specific')\n",
    "plt.plot(x,y_diff_AT,label='all_treated')\n",
    "plt.legend(loc='upper right')\n",
    "plt.xlabel('Difference between peak values')\n",
    "plt.ylabel('Distribution')\n",
    "plt.show()"
   ]
  },
  {
   "cell_type": "code",
   "execution_count": null,
   "metadata": {},
   "outputs": [],
   "source": []
  }
 ],
 "metadata": {
  "kernelspec": {
   "display_name": "Python 2",
   "language": "python",
   "name": "python2"
  },
  "language_info": {
   "codemirror_mode": {
    "name": "ipython",
    "version": 2
   },
   "file_extension": ".py",
   "mimetype": "text/x-python",
   "name": "python",
   "nbconvert_exporter": "python",
   "pygments_lexer": "ipython2"
  }
 },
 "nbformat": 4,
 "nbformat_minor": 2
}
