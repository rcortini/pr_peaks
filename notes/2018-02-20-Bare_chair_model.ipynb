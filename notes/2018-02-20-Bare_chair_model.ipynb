{
 "cells": [
  {
   "cell_type": "code",
   "execution_count": null,
   "metadata": {},
   "outputs": [],
   "source": [
    "%matplotlib inline\n",
    "%load_ext autoreload\n",
    "%autoreload 2"
   ]
  },
  {
   "cell_type": "code",
   "execution_count": null,
   "metadata": {},
   "outputs": [],
   "source": [
    "import numpy as np\n",
    "import matplotlib.pyplot as plt\n",
    "import mybiotools as mbt\n",
    "import pr_peaks"
   ]
  },
  {
   "cell_type": "markdown",
   "metadata": {},
   "source": [
    "# 2018-02-20 Bare chair model\n",
    "\n",
    "Here I want to look at what are the essential features to reproduce the non-monotonic behaviour that I observed in the ratio between H and L sites in the ChIP-seq experiments. Clearly there were too many parameters in the previous edition. Here I want to look at only one site competing with some other sites and looking at whether there are any interesting effects that one can speculate upon."
   ]
  },
  {
   "cell_type": "code",
   "execution_count": null,
   "metadata": {},
   "outputs": [],
   "source": [
    "# init constants of the system\n",
    "N = 500                                    # number of equivalent systems\n",
    "n = 100                                    # number of sites in each system"
   ]
  },
  {
   "cell_type": "code",
   "execution_count": null,
   "metadata": {},
   "outputs": [],
   "source": [
    "# init taus\n",
    "site_taus = 2.0 * np.ones(n)\n",
    "Hsite = 49\n",
    "site_taus[Hsite] = 20.0"
   ]
  },
  {
   "cell_type": "code",
   "execution_count": null,
   "metadata": {},
   "outputs": [],
   "source": [
    "nsteps = 1000\n",
    "sigma = None\n",
    "phi = np.array([0.01,0.10,0.25,0.50,0.75])\n",
    "mus = (n*phi).astype(np.int32)\n",
    "print mus"
   ]
  },
  {
   "cell_type": "code",
   "execution_count": null,
   "metadata": {},
   "outputs": [],
   "source": [
    "%%time\n",
    "Tflat = np.ones((n,n))/n\n",
    "flat = pr_peaks.JumpingModel(Tflat,site_taus)\n",
    "for mu in mus :\n",
    "    mbt.log_message('Flat','mu = %d'%(mu))\n",
    "    omega_t_initial = pr_peaks.init_omega_t(N,n,mu)\n",
    "    flat.run(nsteps,mu,sigma,omega_t_initial)"
   ]
  },
  {
   "cell_type": "code",
   "execution_count": null,
   "metadata": {},
   "outputs": [],
   "source": [
    "def H_to_L(model,Hsites,Lsites) :\n",
    "    mus = model.occupancy.keys()\n",
    "    mus.sort()\n",
    "    nmus = len(mus)\n",
    "    model.avH = {}\n",
    "    model.avL = {}\n",
    "    model.H_to_L = np.zeros(nmus)\n",
    "    for i,mu in enumerate(mus) :\n",
    "        model.avH[mu] = model.occupancy[mu][Hsites].mean()\n",
    "        model.avL[mu] = model.occupancy[mu][Lsites].mean()\n",
    "        model.H_to_L[i] = model.avH[mu]/model.avL[mu]"
   ]
  },
  {
   "cell_type": "code",
   "execution_count": null,
   "metadata": {},
   "outputs": [],
   "source": [
    "Lsites = [i for i in xrange(n)]\n",
    "Lsites.remove(Hsite)"
   ]
  },
  {
   "cell_type": "code",
   "execution_count": null,
   "metadata": {},
   "outputs": [],
   "source": [
    "# prepare the transition matrix\n",
    "THL = np.ones((n,n))\n",
    "for i,site in enumerate(Lsites) :\n",
    "    THL[Hsite,i] += 1\n",
    "    THL[i,Hsite] += 1\n",
    "THL = mbt.row_normalize_matrix(THL)"
   ]
  },
  {
   "cell_type": "code",
   "execution_count": null,
   "metadata": {},
   "outputs": [],
   "source": [
    "%%time\n",
    "HL = pr_peaks.JumpingModel(THL,site_taus)\n",
    "for mu in mus :\n",
    "    mbt.log_message('HL','mu = %d'%(mu))\n",
    "    omega_t_initial = pr_peaks.init_omega_t(N,n,mu)\n",
    "    HL.run(nsteps,mu,sigma,omega_t_initial)"
   ]
  },
  {
   "cell_type": "code",
   "execution_count": null,
   "metadata": {},
   "outputs": [],
   "source": [
    "H_to_L(HL,[Hsite],Lsites)\n",
    "H_to_L(flat,[Hsite],Lsites)"
   ]
  },
  {
   "cell_type": "code",
   "execution_count": null,
   "metadata": {},
   "outputs": [],
   "source": [
    "plt.plot(mus,flat.H_to_L,'r')\n",
    "plt.plot(mus,HL.H_to_L,'b')\n",
    "plt.xlabel(r'$\\mu$')\n",
    "plt.ylabel('H to L ratio')\n",
    "plt.axhline(y=1.0,linestyle='--',color='k')\n",
    "plt.show()"
   ]
  },
  {
   "cell_type": "markdown",
   "metadata": {},
   "source": [
    "### Intermezzo: profiling the code\n",
    "\n",
    "The execution time of the code above is frustratingly long. Therefore I'd like to do the ancient thing of tryig to figure out what is the reason for this, by profiling the code."
   ]
  },
  {
   "cell_type": "code",
   "execution_count": null,
   "metadata": {},
   "outputs": [],
   "source": [
    "import cProfile\n",
    "cProfile.run('HL.run(nsteps,50,sigma,omega_t_initial)')"
   ]
  },
  {
   "cell_type": "markdown",
   "metadata": {},
   "source": [
    "The result of this analysis is that there is a lot of time spent in the \"np.random.choice\" function. There would really be little or no benefit in trying to optimize calls to that function, so I leave it here and desist."
   ]
  },
  {
   "cell_type": "code",
   "execution_count": null,
   "metadata": {},
   "outputs": [],
   "source": [
    "mu = 25\n",
    "flat.occupancy[mu][Hsite]/flat.occupancy[mu][Lsites].mean()"
   ]
  },
  {
   "cell_type": "code",
   "execution_count": null,
   "metadata": {},
   "outputs": [],
   "source": [
    "flat.avH[mu]/flat.avL[mu]"
   ]
  },
  {
   "cell_type": "code",
   "execution_count": null,
   "metadata": {},
   "outputs": [],
   "source": [
    "flat.H_to_L"
   ]
  }
 ],
 "metadata": {
  "kernelspec": {
   "display_name": "Python 2",
   "language": "python",
   "name": "python2"
  },
  "language_info": {
   "codemirror_mode": {
    "name": "ipython",
    "version": 2
   },
   "file_extension": ".py",
   "mimetype": "text/x-python",
   "name": "python",
   "nbconvert_exporter": "python",
   "pygments_lexer": "ipython2"
  }
 },
 "nbformat": 4,
 "nbformat_minor": 2
}
