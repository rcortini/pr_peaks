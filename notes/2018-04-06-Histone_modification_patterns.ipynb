{
 "cells": [
  {
   "cell_type": "code",
   "execution_count": null,
   "metadata": {},
   "outputs": [],
   "source": [
    "%matplotlib inline\n",
    "%load_ext autoreload\n",
    "%autoreload 2"
   ]
  },
  {
   "cell_type": "code",
   "execution_count": null,
   "metadata": {},
   "outputs": [],
   "source": [
    "import numpy as np\n",
    "import matplotlib.pyplot as plt\n",
    "import mybiotools as mbt\n",
    "import os\n",
    "import pr_peaks\n",
    "import pysam"
   ]
  },
  {
   "cell_type": "code",
   "execution_count": null,
   "metadata": {},
   "outputs": [],
   "source": [
    "# load the ChIP-seq data\n",
    "conditions = [\n",
    "    pr_peaks.Condition('high'   ,'all_treated',0.05,'gv_107_01_01_chipseq'),\n",
    "    pr_peaks.Condition('medium1','4HCP'       ,0.10,'gv_108_01_01_chipseq'),\n",
    "    pr_peaks.Condition('medium2','3HCP'       ,0.50,'gv_109_01_01_chipseq'),\n",
    "    pr_peaks.Condition('low'    ,'1HCP'       ,10.0,'gv_111_01_01_chipseq')\n",
    "]"
   ]
  },
  {
   "cell_type": "markdown",
   "metadata": {},
   "source": [
    "# 2018-04-06 Histone modification patterns\n",
    "\n",
    "The non-linear response of the system as a function of the concentration can be explained by a positive feedback loop mediated by histone modifications. The idea is illustrated in the paper by Sneppen in Molecular Systems Biology, 2008. The prediction of this model is quite clear: for the H sites, the pattern of histone modifications in the vicinity of the peaks will be drastically different before and after hormone stimulation. For the L sites, one would not expect much of a difference. Let's try to take the data from the ChIP-seq experiments performed by Guille, and let's look at the various histone modification patterns.\n",
    "\n",
    "## Loading the data\n",
    "First, let's look at how to load the data. There are many experiments with many different codes, so I need a convenient data structure to hold them."
   ]
  },
  {
   "cell_type": "code",
   "execution_count": null,
   "metadata": {},
   "outputs": [],
   "source": [
    "class ChIPseq :\n",
    "    def __init__(self,sample_id) :\n",
    "        self.sample_id = sample_id\n",
    "        self.bam_file = mbt.chipseq_bam_location(sample_id)\n",
    "        # init the pysam parser\n",
    "        self.bam = pysam.AlignmentFile(self.bam_file)\n",
    "    def peak_counts(self,peak,extend=None) :\n",
    "        chromosome,start,end = peak\n",
    "        if extend is not None :\n",
    "            start -= extend\n",
    "            end += extend\n",
    "        chromosome = str(chromosome)\n",
    "        # use the BigWig parser to get the stats of the peak\n",
    "        return self.bam.count(chromosome,start,end)\n",
    "    def __del__(self) :\n",
    "        self.bam.close()"
   ]
  },
  {
   "cell_type": "code",
   "execution_count": null,
   "metadata": {},
   "outputs": [],
   "source": [
    "experiments = {\n",
    "    'H3K14ac-T0'  : ChIPseq('gv_037_01_01_chipseq'),\n",
    "    'H3K14ac-T30' : ChIPseq('gv_038_01_01_chipseq'),\n",
    "    'H3K27ac-T0'  : ChIPseq('gv_039_01_01_chipseq'),\n",
    "    'H3K27ac-T30' : ChIPseq('gv_040_01_01_chipseq'),\n",
    "    'H3K27me3-T0' : ChIPseq('gv_041_01_01_chipseq'),\n",
    "    'H3K27me3-T30': ChIPseq('gv_042_01_01_chipseq'),\n",
    "    'H3K36me2-T0' : ChIPseq('gv_043_01_01_chipseq'),\n",
    "    'H3K36me2-T30': ChIPseq('gv_044_01_01_chipseq'),    \n",
    "    'H3K4me1-T0'  : ChIPseq('gv_045_01_01_chipseq'),\n",
    "    'H3K4me1-T30' : ChIPseq('gv_046_01_01_chipseq'),\n",
    "    'H3K4me3-T0'  : ChIPseq('gv_047_01_01_chipseq'),\n",
    "    'H3K4me3-T30' : ChIPseq('gv_048_01_01_chipseq'),\n",
    "    'H3K9me3-T0'  : ChIPseq('gv_049_01_01_chipseq'),\n",
    "    'H3K9me3-T30' : ChIPseq('gv_050_01_01_chipseq')\n",
    "}"
   ]
  },
  {
   "cell_type": "markdown",
   "metadata": {},
   "source": [
    "The data is loaded, so now I need a convenient way of accessing it. A good way is putting the read counts associated to the regions of interest into a table."
   ]
  },
  {
   "cell_type": "code",
   "execution_count": null,
   "metadata": {},
   "outputs": [],
   "source": [
    "# the first thing we'll do is to prepare a table containing the number of counts\n",
    "# associated to each peak. To do that, we prepare a table that contains all this information.\n",
    "# The table will look like this: for the H peaks for example\n",
    "# \n",
    "#            H3K27ac               H3K27me3\n",
    "#          ____________         _____________\n",
    "#          T0       T30         T0        T30\n",
    "#   p1\n",
    "#   p2\n",
    "#   .\n",
    "#   .\n",
    "#   pN\n",
    "#\n",
    "# So we need to create a hash table that connects the name of the mark to the column number.\n",
    "\n",
    "times = ['T0','T30']\n",
    "marks = ['H3K14ac','H3K27ac','H3K27me3','H3K36me2','H3K4me1','H3K4me3','H3K9me3']\n",
    "ncols = len(times)*len(marks)\n",
    "\n",
    "# prepare the hash table for the column numbers for the marks\n",
    "exp_table = {}\n",
    "i = 0\n",
    "for mark in marks :\n",
    "    for time in times :\n",
    "        exp_table['%s-%s'%(mark,time)] = i\n",
    "        i+=1"
   ]
  },
  {
   "cell_type": "code",
   "execution_count": null,
   "metadata": {},
   "outputs": [],
   "source": [
    "# now we can create the tables and fill them\n",
    "peak_counts = {}\n",
    "for condition in conditions :\n",
    "    peaks = condition.peaks\n",
    "    table = np.zeros((peaks.size,len(times)*len(marks)),dtype=np.int32)\n",
    "    for mark in marks :\n",
    "        for time in times :\n",
    "            name = '%s-%s'%(mark,time)\n",
    "            mbt.log_message('fill peaks','%s/%s/%s'%(condition.name,mark,time))\n",
    "            experiment = experiments[name]\n",
    "            j = exp_table[name]\n",
    "            for i,peak in enumerate(peaks) :\n",
    "                counts = experiment.peak_counts(peak,extend=10000)\n",
    "                table[i,j] = counts\n",
    "    peak_counts[condition.name] = table"
   ]
  },
  {
   "cell_type": "markdown",
   "metadata": {},
   "source": [
    "Now that the data is loaded into a nice data structure, we can look at how the enrichment around the several regions of the genome change before and after hormone stimulation. The prediction from a model in which histone-modification-mediated positive feedback loops are responsible for the change in the stability of binding of TFs to regions of DNA will predict that around the H peaks there will be a massive increase of acetylation and a depletion of methylation. Around the L peaks nothing significant is expected to happen."
   ]
  },
  {
   "cell_type": "code",
   "execution_count": null,
   "metadata": {},
   "outputs": [],
   "source": [
    "for condition in conditions :\n",
    "    fig,ax = plt.subplots(1,1,figsize=(len(marks),4))\n",
    "    mbt.ax_only_y(ax,show_xaxis=True)\n",
    "    width = 0.25\n",
    "    indices = np.arange(ncols/2)\n",
    "    for mark in marks :\n",
    "        ax.bar(indices,peak_counts[condition.name].mean(axis=0)[0::2],width,color='k')\n",
    "        ax.bar(indices+width,peak_counts[condition.name].mean(axis=0)[1::2],width,color='lightgray')\n",
    "    ax.set_xticks(indices+width/2)\n",
    "    ax.set_xticklabels(marks,rotation=90)\n",
    "    ax.set_xlabel('Mark',fontsize=24)\n",
    "    ax.set_ylabel('Read counts',fontsize=24)\n",
    "    ax.set_title(condition.name,fontsize=32)\n",
    "    plt.show()"
   ]
  },
  {
   "cell_type": "markdown",
   "metadata": {},
   "source": [
    "So we have the answer: histone modification-mediated positive feedback loops cannot be held responsible for the change in stability of the trascription factors bound to the sites. If it were the case, then it would mean that the number of reads associated to a particular histone mark would be observed to be significantly different, whereas these plots show that they are not. Therefore, we can conclude that this is not the mechanism that is responsible for the observed effect."
   ]
  }
 ],
 "metadata": {
  "kernelspec": {
   "display_name": "Python 2",
   "language": "python",
   "name": "python2"
  },
  "language_info": {
   "codemirror_mode": {
    "name": "ipython",
    "version": 2
   },
   "file_extension": ".py",
   "mimetype": "text/x-python",
   "name": "python",
   "nbconvert_exporter": "python",
   "pygments_lexer": "ipython2"
  }
 },
 "nbformat": 4,
 "nbformat_minor": 2
}
